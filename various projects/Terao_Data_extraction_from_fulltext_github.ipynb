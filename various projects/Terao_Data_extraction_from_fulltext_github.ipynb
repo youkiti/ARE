{
  "nbformat": 4,
  "nbformat_minor": 0,
  "metadata": {
    "colab": {
      "provenance": [],
      "include_colab_link": true
    },
    "kernelspec": {
      "name": "python3",
      "display_name": "Python 3"
    },
    "language_info": {
      "name": "python"
    }
  },
  "cells": [
    {
      "cell_type": "markdown",
      "metadata": {
        "id": "view-in-github",
        "colab_type": "text"
      },
      "source": [
        "<a href=\"https://colab.research.google.com/github/youkiti/ARE/blob/main/Terao_Data_extraction_from_fulltext_github.ipynb\" target=\"_parent\"><img src=\"https://colab.research.google.com/assets/colab-badge.svg\" alt=\"Open In Colab\"/></a>"
      ]
    },
    {
      "cell_type": "markdown",
      "source": [
        "#This is a code to simplify the full-text review of a PDF file using OpenAI's GPT-4 API.\n",
        "\n",
        "##Inspiration: https://onlinelibrary.wiley.com/doi/10.1002/jrsm.1689?af=R\n",
        "##Requirements:\n",
        "\n",
        "*   pdf files in Google drive\n",
        "*   OpenAI API key\n",
        "\n",
        "\n",
        "\n"
      ],
      "metadata": {
        "id": "RcQlAwPlCp1I"
      }
    },
    {
      "cell_type": "code",
      "execution_count": null,
      "metadata": {
        "colab": {
          "base_uri": "https://localhost:8080/"
        },
        "id": "Lf44lKjCA0eo",
        "outputId": "c8cf84a7-bc3c-427d-d24c-3db7c53fa027"
      },
      "outputs": [
        {
          "output_type": "stream",
          "name": "stdout",
          "text": [
            "\u001b[?25l     \u001b[90m━━━━━━━━━━━━━━━━━━━━━━━━━━━━━━━━━━━━━━━━\u001b[0m \u001b[32m0.0/226.7 kB\u001b[0m \u001b[31m?\u001b[0m eta \u001b[36m-:--:--\u001b[0m\r\u001b[2K     \u001b[91m━━━━━━━━━━━━━━━━━━━━━\u001b[0m\u001b[91m╸\u001b[0m\u001b[90m━━━━━━━━━━━━━━━━━━\u001b[0m \u001b[32m122.9/226.7 kB\u001b[0m \u001b[31m3.4 MB/s\u001b[0m eta \u001b[36m0:00:01\u001b[0m\r\u001b[2K     \u001b[90m━━━━━━━━━━━━━━━━━━━━━━━━━━━━━━━━━━━━━━━━\u001b[0m \u001b[32m226.7/226.7 kB\u001b[0m \u001b[31m4.3 MB/s\u001b[0m eta \u001b[36m0:00:00\u001b[0m\n",
            "\u001b[2K     \u001b[90m━━━━━━━━━━━━━━━━━━━━━━━━━━━━━━━━━━━━━━━━\u001b[0m \u001b[32m232.6/232.6 kB\u001b[0m \u001b[31m11.3 MB/s\u001b[0m eta \u001b[36m0:00:00\u001b[0m\n",
            "\u001b[2K     \u001b[90m━━━━━━━━━━━━━━━━━━━━━━━━━━━━━━━━━━━━━━━━\u001b[0m \u001b[32m75.6/75.6 kB\u001b[0m \u001b[31m6.4 MB/s\u001b[0m eta \u001b[36m0:00:00\u001b[0m\n",
            "\u001b[2K     \u001b[90m━━━━━━━━━━━━━━━━━━━━━━━━━━━━━━━━━━━━━━━━\u001b[0m \u001b[32m1.8/1.8 MB\u001b[0m \u001b[31m16.5 MB/s\u001b[0m eta \u001b[36m0:00:00\u001b[0m\n",
            "\u001b[2K     \u001b[90m━━━━━━━━━━━━━━━━━━━━━━━━━━━━━━━━━━━━━━━━\u001b[0m \u001b[32m45.5/45.5 kB\u001b[0m \u001b[31m4.1 MB/s\u001b[0m eta \u001b[36m0:00:00\u001b[0m\n",
            "\u001b[2K     \u001b[90m━━━━━━━━━━━━━━━━━━━━━━━━━━━━━━━━━━━━━━━━\u001b[0m \u001b[32m52.0/52.0 kB\u001b[0m \u001b[31m4.1 MB/s\u001b[0m eta \u001b[36m0:00:00\u001b[0m\n",
            "\u001b[2K     \u001b[90m━━━━━━━━━━━━━━━━━━━━━━━━━━━━━━━━━━━━━━━━\u001b[0m \u001b[32m77.8/77.8 kB\u001b[0m \u001b[31m8.2 MB/s\u001b[0m eta \u001b[36m0:00:00\u001b[0m\n",
            "\u001b[2K     \u001b[90m━━━━━━━━━━━━━━━━━━━━━━━━━━━━━━━━━━━━━━━━\u001b[0m \u001b[32m58.3/58.3 kB\u001b[0m \u001b[31m6.1 MB/s\u001b[0m eta \u001b[36m0:00:00\u001b[0m\n",
            "\u001b[2K     \u001b[90m━━━━━━━━━━━━━━━━━━━━━━━━━━━━━━━━━━━━━━━━\u001b[0m \u001b[32m3.1/3.1 MB\u001b[0m \u001b[31m26.8 MB/s\u001b[0m eta \u001b[36m0:00:00\u001b[0m\n",
            "\u001b[?25h"
          ]
        }
      ],
      "source": [
        "!pip install -q openai pypdf2 llmx"
      ]
    },
    {
      "cell_type": "code",
      "source": [
        "from google.colab import drive\n",
        "drive.mount('/content/drive')"
      ],
      "metadata": {
        "colab": {
          "base_uri": "https://localhost:8080/"
        },
        "id": "bNKJQqq1BG7o",
        "outputId": "424636ee-108e-4a62-8459-c6f80f87b8fe"
      },
      "execution_count": null,
      "outputs": [
        {
          "output_type": "stream",
          "name": "stdout",
          "text": [
            "Mounted at /content/drive\n"
          ]
        }
      ]
    },
    {
      "cell_type": "markdown",
      "source": [
        "#configuration"
      ],
      "metadata": {
        "id": "Xd4XzzNyGgcq"
      }
    },
    {
      "cell_type": "code",
      "source": [
        "from openai import OpenAI\n",
        "from openai import AzureOpenAI\n",
        "import json\n",
        "import pandas as pd\n",
        "import os\n",
        "import glob\n",
        "import numpy as np\n",
        "import PyPDF2\n",
        "from tqdm import tqdm\n",
        "from google.colab import userdata\n",
        "\n",
        "#If you use Azure\n",
        "#key\n",
        "API_KEY = userdata.get('Azure_API_key') #2024-02-15-preview\n",
        "RESOURCE_ENDPOINT = userdata.get('RESOURCE_ENDPOINT')\n",
        "AZURE_API_version = userdata.get('AZURE_API_version')\n",
        "\n",
        "#client\n",
        "client = AzureOpenAI(\n",
        "    # https://learn.microsoft.com/en-us/azure/ai-services/openai/reference#rest-api-versioning\n",
        "    api_version=AZURE_API_version,\n",
        "    # https://learn.microsoft.com/en-us/azure/cognitive-services/openai/how-to/create-resource?pivots=web-portal#create-a-resource\n",
        "    azure_endpoint=RESOURCE_ENDPOINT,\n",
        "    api_key=API_KEY\n",
        ")\n",
        "\n",
        "\n",
        "\n",
        "#deploy names\n",
        "deployment_ids = [\"gpt-4-turbo\",\"gpt-35-turbo\",\"text-embedding-ada-002\"]"
      ],
      "metadata": {
        "id": "UE_BOOcOBIAK"
      },
      "execution_count": null,
      "outputs": []
    },
    {
      "cell_type": "markdown",
      "source": [
        "#data preparation"
      ],
      "metadata": {
        "id": "zKNHM2eeGjFg"
      }
    },
    {
      "cell_type": "code",
      "source": [
        "folder_path = \"/content/drive/MyDrive/2024年/01寺尾先生/包含研究\"\n",
        "os.chdir(folder_path)\n",
        "pdf_files = glob.glob(os.path.join(folder_path, '*.pdf'))"
      ],
      "metadata": {
        "id": "jyLW_eAmGpCW"
      },
      "execution_count": null,
      "outputs": []
    },
    {
      "cell_type": "code",
      "source": [
        "print(f\"the number of pdf files:{len(pdf_files)}\")"
      ],
      "metadata": {
        "id": "Yo1YxkNE184_",
        "colab": {
          "base_uri": "https://localhost:8080/"
        },
        "outputId": "78b9831a-88ca-46fe-f947-56c6b8046c76"
      },
      "execution_count": null,
      "outputs": [
        {
          "output_type": "stream",
          "name": "stdout",
          "text": [
            "the number of pdf files:42\n"
          ]
        }
      ]
    },
    {
      "cell_type": "code",
      "source": [
        "#extract text\n",
        "def pdf_extract(pdf_file):\n",
        "  data = []\n",
        "  with open(pdf_file, 'rb') as file:\n",
        "      reader = PyPDF2.PdfReader(file)\n",
        "      # concatenate\n",
        "      text = ''\n",
        "      for page in reader.pages:\n",
        "        text += page.extract_text()\n",
        "  return text"
      ],
      "metadata": {
        "id": "K6sOW174G_BV"
      },
      "execution_count": null,
      "outputs": []
    },
    {
      "cell_type": "markdown",
      "source": [
        "#Process of GPT"
      ],
      "metadata": {
        "id": "OZr3LfJiGlwV"
      }
    },
    {
      "cell_type": "code",
      "source": [
        "#To modify the function to extract specific information from a PDF, you should adjust it according to your needs. Ensure that the modifications align with the function calling and settings you plan to use.\n",
        "\n",
        "message1 = \"\"\"\n",
        "You are a systematic reviewer. Please extract the key features from the user inputted research article.\n",
        "Specifically,the user needs information on the first author, publication year, diagnostic criteria, depression measurement scale, response and remission criteria,  concomitant psychotropic medication (Yes/No), sources of funding, study’s setting, timeframe for follow-up and interventions.\n",
        "In addition, the following data are required to be extracted separately for each intervention Number of failed antidepressant trials, interventions, sample size, age (mean), female (%), relapse endpoints, baseline depression severity (raw score), hospitalization (%), proportion of patients with psychotic symptoms (%), proportion of patients with bipolar disorder (%), proportion of patients with a history of intravenous racemic ketamine (%), proportion of patients with a history of electroconvulsive therapy (%), proportion of patients with a history of repetitive transcranial magnetic stimulation (%).\n",
        "\"\"\"\n",
        "\n",
        "\n"
      ],
      "metadata": {
        "id": "NETZ_jLBCZ1z"
      },
      "execution_count": null,
      "outputs": []
    },
    {
      "cell_type": "code",
      "source": [
        "message2 = \"\"\"\n",
        "You are a systematic reviewer. Please extract the key features from the user inputted research article.\n",
        "The user will need the following outcome data, separately for each intervention: (1) Response rates, as defined by the individual studies. For outcome measurement scales, we will use the following predefined hierarchy: The Montgomery-Åsberg Depression Rating Scale was used first, then the Hamilton Rating Scale for Depression, and finally the Beck Depression Inventory. (2) Remission rates, as defined by individual studies. For outcome scales, we will use the following predefined hierarchy The Montgomery-Åsberg Depression Rating Scale was used first, followed by the Hamilton Rating Scale for Depression, and finally the Beck Depression Inventory. (3) Tolerability, defined as dropout rates due to adverse effects. (4) Acceptability, defined as dropout rates for any reason. (5) Change in cognitive function between baseline and endpoints. We will select outcome measures according to a predetermined hierarchy in the following order: Mini Mental State Examination (MMSE), Alzheimer's Disease Assessment Scale - Cognitive subscale (ADAS-Cog), and Montreal Cognitive Assessment (MoCA). If none of these were used, a scale measuring global cognitive function was used. (6) Relapse rates, as defined by each study.\n",
        "\"\"\"\n"
      ],
      "metadata": {
        "id": "CMh7cxshoDoj"
      },
      "execution_count": null,
      "outputs": []
    },
    {
      "cell_type": "code",
      "source": [
        "#Ask GPT to write the JSON of function calling\n",
        "\n",
        "system_for_function = \"\"\"\n",
        "Write a JSON structure for a function specification that includes the name of the function, a description, and detailed parameters based on the requirements listed in the system message. Each parameter should have a type and a brief description. Format the JSON as you would for API documentation.\n",
        "\n",
        "#example of a system message\n",
        "system_message = You are a systematic reviewer. Please extract the key features from the user inputted research article. User need information about the title of the article, publication year.\n",
        "\n",
        "#example of a function specification\n",
        "function=[\n",
        "    {\n",
        "       \"type\": \"function\",\n",
        "       \"function\":{\n",
        "        \"name\":\"data_extraction\",\n",
        "        \"description\":\"characteristics of the study\",\n",
        "        \"parameters\":{\n",
        "            \"type\":\"object\",\n",
        "            \"properties\":{\n",
        "                \"title\":{\n",
        "                    \"type\":\"string\",\n",
        "                    \"description\":\"the title of the research article\"\n",
        "                },\n",
        "                \"publication year\":{\n",
        "                    \"type\":\"string\",\n",
        "                    \"description\":\"the publication year of the research article\"\n",
        "                }\n",
        "            }\n",
        "        }\n",
        "    }\n",
        "    }\n",
        "]\n",
        "\n",
        "\"\"\"\n",
        "\n",
        "\"\"\"\n",
        "function = [\n",
        "    {\n",
        "        \"type\": \"function\",\n",
        "       \"function\":{\n",
        "        \"name\":\"json_output\",\n",
        "        \"description\":\" a JSON structure for a function specification\",\n",
        "        \"parameters\":{\n",
        "            \"type\":\"object\",\n",
        "            \"properties\":{\n",
        "                \"json\":{\n",
        "                    \"type\":\"string\",\n",
        "                    \"description\":\"JSON\"\n",
        "                }\n",
        "            }\n",
        "        }\n",
        "    }\n",
        "    }\n",
        "]\n",
        "\"\"\"\n",
        "\n",
        "\n",
        "res = client.chat.completions.create(\n",
        "    model=deployment_ids[0],\n",
        "    messages=[\n",
        "        {\"role\":\"system\",\n",
        "        \"content\":system_for_function},\n",
        "        {\n",
        "        \"role\": \"user\",\n",
        "        \"content\": message1\n",
        "        }],\n",
        "    #tools = functions,\n",
        "    #tool_choice={\"type\": \"function\", \"function\": {\"name\": \"json_output\"}},\n",
        "    response_format = { \"type\": \"json_object\" },\n",
        "    temperature = 0,\n",
        "    max_tokens = 4000\n",
        "  )\n"
      ],
      "metadata": {
        "id": "oLMI65ofeW8B"
      },
      "execution_count": null,
      "outputs": []
    },
    {
      "cell_type": "code",
      "source": [
        "res2 = client.chat.completions.create(\n",
        "    model=deployment_ids[0],\n",
        "    messages=[\n",
        "        {\"role\":\"system\",\n",
        "        \"content\":system_for_function},\n",
        "        {\n",
        "        \"role\": \"user\",\n",
        "        \"content\": message2\n",
        "        }],\n",
        "    #tools = functions,\n",
        "    #tool_choice={\"type\": \"function\", \"function\": {\"name\": \"json_output\"}},\n",
        "    response_format = { \"type\": \"json_object\" },\n",
        "    temperature = 0,\n",
        "    max_tokens = 4000\n",
        "  )"
      ],
      "metadata": {
        "id": "iDy_jX7Sozu6"
      },
      "execution_count": null,
      "outputs": []
    },
    {
      "cell_type": "code",
      "source": [
        "json_string = res.choices[0].message.content\n",
        "json_string2 = res2.choices[0].message.content"
      ],
      "metadata": {
        "id": "w-xqsSOioRns"
      },
      "execution_count": null,
      "outputs": []
    },
    {
      "cell_type": "code",
      "source": [
        "# JSON文字列を辞書に変換\n",
        "data1 = json.loads(json_string)\n",
        "data2 = json.loads(json_string2)\n",
        "\n",
        "#data1の情報\n",
        "function_name = data1[\"function\"][\"name\"]\n",
        "function_description = data1[\"function\"][\"description\"]"
      ],
      "metadata": {
        "id": "gNrkB3kOtlq_"
      },
      "execution_count": null,
      "outputs": []
    },
    {
      "cell_type": "code",
      "source": [
        "data1_parameters = data1['function'][\"parameters\"]\n",
        "data2_parameters = data2[\"function\"][\"parameters\"]\n",
        "\n",
        "# combined_parametersを初期化\n",
        "combined_parameters = {}\n",
        "\n",
        "# data1のパラメータを追加\n",
        "for key, value in data1_parameters.items():\n",
        "    if key in combined_parameters:\n",
        "        # キーが既に存在する場合は、値をリストに追加\n",
        "        if not isinstance(combined_parameters[key], list):\n",
        "            combined_parameters[key] = [combined_parameters[key]]\n",
        "        combined_parameters[key].append(value)\n",
        "    else:\n",
        "        combined_parameters[key] = value\n",
        "\n",
        "# data2のパラメータを追加\n",
        "for key, value in data2_parameters.items():\n",
        "    if key in combined_parameters:\n",
        "        # キーが既に存在する場合は、値をリストに追加\n",
        "        if not isinstance(combined_parameters[key], list):\n",
        "            combined_parameters[key] = [combined_parameters[key]]\n",
        "        combined_parameters[key].append(value)\n",
        "    else:\n",
        "        combined_parameters[key] = value"
      ],
      "metadata": {
        "id": "Ng1yFVdKtob1"
      },
      "execution_count": null,
      "outputs": []
    },
    {
      "cell_type": "code",
      "source": [
        "\n",
        "\n",
        "# 結合したparametersを持つ新しい辞書を作成\n",
        "combined_json = {\n",
        "    \"type\": \"function\",\n",
        "    \"function\": {\n",
        "        \"name\": function_name,\n",
        "        \"description\": function_description,\n",
        "        \"parameters\": combined_parameters\n",
        "    }\n",
        "}"
      ],
      "metadata": {
        "id": "iUqpJ-rfpPti"
      },
      "execution_count": null,
      "outputs": []
    },
    {
      "cell_type": "code",
      "source": [
        "\n",
        "#functionを設定\n",
        "tools = [combined_json]"
      ],
      "metadata": {
        "id": "A9wQ_DQMvQJ3"
      },
      "execution_count": null,
      "outputs": []
    },
    {
      "cell_type": "code",
      "source": [
        "tools"
      ],
      "metadata": {
        "colab": {
          "base_uri": "https://localhost:8080/"
        },
        "id": "JqMnphrrxXUd",
        "outputId": "66c7dba2-35e1-4fd9-a8f9-4b8d64e9c853"
      },
      "execution_count": null,
      "outputs": [
        {
          "output_type": "execute_result",
          "data": {
            "text/plain": [
              "[{'type': 'function',\n",
              "  'function': {'name': 'extract_study_features',\n",
              "   'description': 'Extracts key features from a user-inputted research article for systematic review purposes.',\n",
              "   'parameters': {'type': ['object', 'object'],\n",
              "    'properties': [{'first_author': {'type': 'string',\n",
              "       'description': 'The first author of the research article.'},\n",
              "      'publication_year': {'type': 'string',\n",
              "       'description': 'The publication year of the research article.'},\n",
              "      'diagnostic_criteria': {'type': 'string',\n",
              "       'description': 'The diagnostic criteria used in the study.'},\n",
              "      'depression_measurement_scale': {'type': 'string',\n",
              "       'description': 'The scale used to measure depression in the study.'},\n",
              "      'response_remission_criteria': {'type': 'string',\n",
              "       'description': 'The criteria used to define response and remission in the study.'},\n",
              "      'concomitant_psychotropic_medication': {'type': 'string',\n",
              "       'description': 'Indicates if concomitant psychotropic medication was allowed (Yes/No).'},\n",
              "      'sources_of_funding': {'type': 'string',\n",
              "       'description': 'The sources of funding for the study.'},\n",
              "      'study_setting': {'type': 'string',\n",
              "       'description': 'The setting of the study.'},\n",
              "      'timeframe_for_follow_up': {'type': 'string',\n",
              "       'description': 'The timeframe for follow-up in the study.'},\n",
              "      'interventions': {'type': 'array',\n",
              "       'description': 'A list of interventions with detailed information for each.',\n",
              "       'items': {'type': 'object',\n",
              "        'properties': {'number_of_failed_antidepressant_trials': {'type': 'integer',\n",
              "          'description': 'The number of failed antidepressant trials for the intervention.'},\n",
              "         'intervention_name': {'type': 'string',\n",
              "          'description': 'The name of the intervention.'},\n",
              "         'sample_size': {'type': 'integer',\n",
              "          'description': 'The sample size for the intervention group.'},\n",
              "         'age_mean': {'type': 'number',\n",
              "          'description': 'The mean age of participants in the intervention group.'},\n",
              "         'female_percentage': {'type': 'number',\n",
              "          'description': 'The percentage of female participants in the intervention group.'},\n",
              "         'relapse_endpoints': {'type': 'string',\n",
              "          'description': 'The relapse endpoints for the intervention.'},\n",
              "         'baseline_depression_severity_raw_score': {'type': 'number',\n",
              "          'description': 'The baseline depression severity (raw score) for the intervention group.'},\n",
              "         'hospitalization_percentage': {'type': 'number',\n",
              "          'description': 'The percentage of participants hospitalized in the intervention group.'},\n",
              "         'psychotic_symptoms_percentage': {'type': 'number',\n",
              "          'description': 'The proportion of patients with psychotic symptoms in the intervention group.'},\n",
              "         'bipolar_disorder_percentage': {'type': 'number',\n",
              "          'description': 'The proportion of patients with bipolar disorder in the intervention group.'},\n",
              "         'history_of_intravenous_racemic_ketamine_percentage': {'type': 'number',\n",
              "          'description': 'The proportion of patients with a history of intravenous racemic ketamine in the intervention group.'},\n",
              "         'history_of_electroconvulsive_therapy_percentage': {'type': 'number',\n",
              "          'description': 'The proportion of patients with a history of electroconvulsive therapy in the intervention group.'},\n",
              "         'history_of_repetitive_transcranial_magnetic_stimulation_percentage': {'type': 'number',\n",
              "          'description': 'The proportion of patients with a history of repetitive transcranial magnetic stimulation in the intervention group.'}}}}},\n",
              "     {'response_rates': {'type': 'array',\n",
              "       'description': 'Response rates as defined by the individual studies, using a predefined hierarchy of scales: Montgomery-Åsberg Depression Rating Scale, Hamilton Rating Scale for Depression, Beck Depression Inventory.'},\n",
              "      'remission_rates': {'type': 'array',\n",
              "       'description': 'Remission rates as defined by individual studies, using a predefined hierarchy of scales: Montgomery-Åsberg Depression Rating Scale, Hamilton Rating Scale for Depression, Beck Depression Inventory.'},\n",
              "      'tolerability': {'type': 'array',\n",
              "       'description': 'Tolerability, defined as dropout rates due to adverse effects.'},\n",
              "      'acceptability': {'type': 'array',\n",
              "       'description': 'Acceptability, defined as dropout rates for any reason.'},\n",
              "      'change_in_cognitive_function': {'type': 'array',\n",
              "       'description': \"Change in cognitive function between baseline and endpoints, selecting outcome measures according to a predetermined hierarchy: Mini Mental State Examination (MMSE), Alzheimer's Disease Assessment Scale - Cognitive subscale (ADAS-Cog), Montreal Cognitive Assessment (MoCA). If none of these were used, a scale measuring global cognitive function was used.\"},\n",
              "      'relapse_rates': {'type': 'array',\n",
              "       'description': 'Relapse rates, as defined by each study.'}}]}}}]"
            ]
          },
          "metadata": {},
          "execution_count": 78
        }
      ]
    },
    {
      "cell_type": "markdown",
      "source": [
        "↑Even if you use function calling, the output will not be stable, so please visually check that the format is correct."
      ],
      "metadata": {
        "id": "bc4YPMY7aB_A"
      }
    },
    {
      "cell_type": "code",
      "source": [
        "def GPT_extract(text,function_name):\n",
        "    res = client.chat.completions.create(\n",
        "        model=deployment_ids[0],\n",
        "        messages=[\n",
        "            {\"role\": \"system\", \"content\": system_message},\n",
        "            {\"role\": \"user\", \"content\": text}\n",
        "        ],\n",
        "        tools=tools,\n",
        "        tool_choice={\"type\": \"function\", \"function\": {\"name\": function_name}},\n",
        "        temperature=0\n",
        "    )\n",
        "\n",
        "\n",
        "\n",
        "\"\"\"\n",
        "    response_json = res.model_dump_json()\n",
        "    try:\n",
        "        # response_jsonをデコードしてからfunction_callを取得\n",
        "        response_json_decoded = json.loads(response_json)\n",
        "        function_call = response_json_decoded[\"choices\"][0][\"message\"][\"function_call\"]\n",
        "        if function_call is None:  # function_callがNoneであればcontentを返す\n",
        "            content = response_json_decoded[\"choices\"][0][\"message\"]['content']\n",
        "            return content\n",
        "        return function_call\n",
        "    except (json.JSONDecodeError, KeyError, TypeError):\n",
        "        # 例外が発生した場合はエラーメッセージを返す\n",
        "        return \"Error: Unable to retrieve function_call or content from response.\"\n",
        "\"\"\"\n"
      ],
      "metadata": {
        "id": "G1NRM6xZJrq2",
        "colab": {
          "base_uri": "https://localhost:8080/",
          "height": 70
        },
        "outputId": "1a0e0303-38f4-43bd-c155-c802c76d8b73"
      },
      "execution_count": null,
      "outputs": [
        {
          "output_type": "execute_result",
          "data": {
            "text/plain": [
              "'\\n    response_json = res.model_dump_json()\\n    try:\\n        # response_jsonをデコードしてからfunction_callを取得\\n        response_json_decoded = json.loads(response_json)\\n        function_call = response_json_decoded[\"choices\"][0][\"message\"][\"function_call\"]\\n        if function_call is None:  # function_callがNoneであればcontentを返す\\n            content = response_json_decoded[\"choices\"][0][\"message\"][\\'content\\']\\n            return content\\n        return function_call\\n    except (json.JSONDecodeError, KeyError, TypeError):\\n        # 例外が発生した場合はエラーメッセージを返す\\n        return \"Error: Unable to retrieve function_call or content from response.\"\\n'"
            ],
            "application/vnd.google.colaboratory.intrinsic+json": {
              "type": "string"
            }
          },
          "metadata": {},
          "execution_count": 1
        }
      ]
    },
    {
      "cell_type": "code",
      "source": [
        "text = pdf_extract(pdf_files[0])"
      ],
      "metadata": {
        "id": "k9dn1etFwtBg"
      },
      "execution_count": null,
      "outputs": []
    },
    {
      "cell_type": "code",
      "source": [
        "res = GPT_extract(text,function_name)"
      ],
      "metadata": {
        "id": "3kxOLQYtwzpt"
      },
      "execution_count": null,
      "outputs": []
    },
    {
      "cell_type": "code",
      "source": [
        "df = pd.DataFrame()\n",
        "for pdf_file in tqdm(pdf_files[:5]):\n",
        "  text = pdf_extract(pdf_file)\n",
        "  response_json = GPT_extract(text,function_name)\n",
        "  if response_json is None or not isinstance(response_json, dict):\n",
        "      # response_jsonがNoneまたは辞書型でない場合、エラーをデータフレームに追加\n",
        "      df = pd.concat([df, pd.DataFrame([{\"error\": response_json}])], ignore_index=True)\n",
        "      continue\n",
        "\n",
        "  arguments_str = response_json.get('arguments')\n",
        "  if arguments_str is None:\n",
        "      # argumentsキーが存在しない場合、エラーをデータフレームに追加\n",
        "      df = pd.concat([df, pd.DataFrame([{\"error\": response_json}])], ignore_index=True)\n",
        "      continue\n",
        "\n",
        "  arguments_json = json.loads(arguments_str)\n",
        "  df_pdf = pd.DataFrame([arguments_json])\n",
        "  df = pd.concat([df, df_pdf], ignore_index=True)"
      ],
      "metadata": {
        "id": "HWP7NAeVFQtJ"
      },
      "execution_count": null,
      "outputs": []
    },
    {
      "cell_type": "code",
      "source": [
        "#Add the pdf file names\n",
        "pdf_filenames = [os.path.basename(pdf_path) for pdf_path in pdf_files]\n",
        "df[\"pdf_name\"] = pdf_filenames[:5]"
      ],
      "metadata": {
        "id": "GDf8pMYAMHgY"
      },
      "execution_count": null,
      "outputs": []
    },
    {
      "cell_type": "code",
      "source": [
        "df.head()"
      ],
      "metadata": {
        "id": "mo5XnpDU2IB6",
        "colab": {
          "base_uri": "https://localhost:8080/",
          "height": 486
        },
        "outputId": "cc734732-8ea8-48ef-fc8e-76eb63d921a7"
      },
      "execution_count": null,
      "outputs": [
        {
          "output_type": "execute_result",
          "data": {
            "text/plain": [
              "       first_author publication_year  \\\n",
              "0  Robert M. Berman             2000   \n",
              "1    David H. Avery             2006   \n",
              "2               NaN              NaN   \n",
              "3               NaN              NaN   \n",
              "4               NaN              NaN   \n",
              "\n",
              "                                 diagnostic_criteria  \\\n",
              "0       DSM-IV criteria for major depressive episode   \n",
              "1  DSM-IV criteria for current major depressive d...   \n",
              "2                                                NaN   \n",
              "3                                                NaN   \n",
              "4                                                NaN   \n",
              "\n",
              "                      depression_measurement_scale  \\\n",
              "0  25-item Hamilton Depression Rating Scale (HDRS)   \n",
              "1  17-item Hamilton Depression Rating Scale (HDRS)   \n",
              "2                                              NaN   \n",
              "3                                              NaN   \n",
              "4                                              NaN   \n",
              "\n",
              "                         response_remission_criteria  \\\n",
              "0  Categorical 'response' criteria (i.e., 50% dec...   \n",
              "1  Response: ≥50% decrease in HDRS score at both ...   \n",
              "2                                                NaN   \n",
              "3                                                NaN   \n",
              "4                                                NaN   \n",
              "\n",
              "  concomitant_psychotropic_medication  \\\n",
              "0                               False   \n",
              "1                                True   \n",
              "2                                 NaN   \n",
              "3                                 NaN   \n",
              "4                                 NaN   \n",
              "\n",
              "                                  sources_of_funding  \\\n",
              "0  VA Merit Award, NIMH Program Grant, and the St...   \n",
              "1  National Institute of Mental Health, RO1 MH 62...   \n",
              "2                                                NaN   \n",
              "3                                                NaN   \n",
              "4                                                NaN   \n",
              "\n",
              "                                       study_setting timeframe_for_follow_up  \\\n",
              "0  Yale University School of Medicine, Department...                 2 weeks   \n",
              "1  University of Washington School of Medicine, H...                6 months   \n",
              "2                                                NaN                     NaN   \n",
              "3                                                NaN                     NaN   \n",
              "4                                                NaN                     NaN   \n",
              "\n",
              "                                       interventions  \\\n",
              "0  [{'intervention_name': 'active rTMS', 'number_...   \n",
              "1  [{'intervention_name': 'Active repetitive TMS'...   \n",
              "2                                                NaN   \n",
              "3                                                NaN   \n",
              "4                                                NaN   \n",
              "\n",
              "                                               error  \\\n",
              "0                                                NaN   \n",
              "1                                                NaN   \n",
              "2  **Key Features from the Research Article:**\\n\\...   \n",
              "3  ### Key Features Extraction:\\n\\n- **First Auth...   \n",
              "4  Given the extensive details provided in the us...   \n",
              "\n",
              "                      pdf_name  \n",
              "0               Berman2000.pdf  \n",
              "1                Avery2006.pdf  \n",
              "2  Blumberger2016（２０１５と同一）.pdf  \n",
              "3       Bakim2012（２０１６と同一）.pdf  \n",
              "4                Ahmed2023.pdf  "
            ],
            "text/html": [
              "\n",
              "  <div id=\"df-169d478d-bfc0-4048-a9a3-a688f47c0e52\" class=\"colab-df-container\">\n",
              "    <div>\n",
              "<style scoped>\n",
              "    .dataframe tbody tr th:only-of-type {\n",
              "        vertical-align: middle;\n",
              "    }\n",
              "\n",
              "    .dataframe tbody tr th {\n",
              "        vertical-align: top;\n",
              "    }\n",
              "\n",
              "    .dataframe thead th {\n",
              "        text-align: right;\n",
              "    }\n",
              "</style>\n",
              "<table border=\"1\" class=\"dataframe\">\n",
              "  <thead>\n",
              "    <tr style=\"text-align: right;\">\n",
              "      <th></th>\n",
              "      <th>first_author</th>\n",
              "      <th>publication_year</th>\n",
              "      <th>diagnostic_criteria</th>\n",
              "      <th>depression_measurement_scale</th>\n",
              "      <th>response_remission_criteria</th>\n",
              "      <th>concomitant_psychotropic_medication</th>\n",
              "      <th>sources_of_funding</th>\n",
              "      <th>study_setting</th>\n",
              "      <th>timeframe_for_follow_up</th>\n",
              "      <th>interventions</th>\n",
              "      <th>error</th>\n",
              "      <th>pdf_name</th>\n",
              "    </tr>\n",
              "  </thead>\n",
              "  <tbody>\n",
              "    <tr>\n",
              "      <th>0</th>\n",
              "      <td>Robert M. Berman</td>\n",
              "      <td>2000</td>\n",
              "      <td>DSM-IV criteria for major depressive episode</td>\n",
              "      <td>25-item Hamilton Depression Rating Scale (HDRS)</td>\n",
              "      <td>Categorical 'response' criteria (i.e., 50% dec...</td>\n",
              "      <td>False</td>\n",
              "      <td>VA Merit Award, NIMH Program Grant, and the St...</td>\n",
              "      <td>Yale University School of Medicine, Department...</td>\n",
              "      <td>2 weeks</td>\n",
              "      <td>[{'intervention_name': 'active rTMS', 'number_...</td>\n",
              "      <td>NaN</td>\n",
              "      <td>Berman2000.pdf</td>\n",
              "    </tr>\n",
              "    <tr>\n",
              "      <th>1</th>\n",
              "      <td>David H. Avery</td>\n",
              "      <td>2006</td>\n",
              "      <td>DSM-IV criteria for current major depressive d...</td>\n",
              "      <td>17-item Hamilton Depression Rating Scale (HDRS)</td>\n",
              "      <td>Response: ≥50% decrease in HDRS score at both ...</td>\n",
              "      <td>True</td>\n",
              "      <td>National Institute of Mental Health, RO1 MH 62...</td>\n",
              "      <td>University of Washington School of Medicine, H...</td>\n",
              "      <td>6 months</td>\n",
              "      <td>[{'intervention_name': 'Active repetitive TMS'...</td>\n",
              "      <td>NaN</td>\n",
              "      <td>Avery2006.pdf</td>\n",
              "    </tr>\n",
              "    <tr>\n",
              "      <th>2</th>\n",
              "      <td>NaN</td>\n",
              "      <td>NaN</td>\n",
              "      <td>NaN</td>\n",
              "      <td>NaN</td>\n",
              "      <td>NaN</td>\n",
              "      <td>NaN</td>\n",
              "      <td>NaN</td>\n",
              "      <td>NaN</td>\n",
              "      <td>NaN</td>\n",
              "      <td>NaN</td>\n",
              "      <td>**Key Features from the Research Article:**\\n\\...</td>\n",
              "      <td>Blumberger2016（２０１５と同一）.pdf</td>\n",
              "    </tr>\n",
              "    <tr>\n",
              "      <th>3</th>\n",
              "      <td>NaN</td>\n",
              "      <td>NaN</td>\n",
              "      <td>NaN</td>\n",
              "      <td>NaN</td>\n",
              "      <td>NaN</td>\n",
              "      <td>NaN</td>\n",
              "      <td>NaN</td>\n",
              "      <td>NaN</td>\n",
              "      <td>NaN</td>\n",
              "      <td>NaN</td>\n",
              "      <td>### Key Features Extraction:\\n\\n- **First Auth...</td>\n",
              "      <td>Bakim2012（２０１６と同一）.pdf</td>\n",
              "    </tr>\n",
              "    <tr>\n",
              "      <th>4</th>\n",
              "      <td>NaN</td>\n",
              "      <td>NaN</td>\n",
              "      <td>NaN</td>\n",
              "      <td>NaN</td>\n",
              "      <td>NaN</td>\n",
              "      <td>NaN</td>\n",
              "      <td>NaN</td>\n",
              "      <td>NaN</td>\n",
              "      <td>NaN</td>\n",
              "      <td>NaN</td>\n",
              "      <td>Given the extensive details provided in the us...</td>\n",
              "      <td>Ahmed2023.pdf</td>\n",
              "    </tr>\n",
              "  </tbody>\n",
              "</table>\n",
              "</div>\n",
              "    <div class=\"colab-df-buttons\">\n",
              "\n",
              "  <div class=\"colab-df-container\">\n",
              "    <button class=\"colab-df-convert\" onclick=\"convertToInteractive('df-169d478d-bfc0-4048-a9a3-a688f47c0e52')\"\n",
              "            title=\"Convert this dataframe to an interactive table.\"\n",
              "            style=\"display:none;\">\n",
              "\n",
              "  <svg xmlns=\"http://www.w3.org/2000/svg\" height=\"24px\" viewBox=\"0 -960 960 960\">\n",
              "    <path d=\"M120-120v-720h720v720H120Zm60-500h600v-160H180v160Zm220 220h160v-160H400v160Zm0 220h160v-160H400v160ZM180-400h160v-160H180v160Zm440 0h160v-160H620v160ZM180-180h160v-160H180v160Zm440 0h160v-160H620v160Z\"/>\n",
              "  </svg>\n",
              "    </button>\n",
              "\n",
              "  <style>\n",
              "    .colab-df-container {\n",
              "      display:flex;\n",
              "      gap: 12px;\n",
              "    }\n",
              "\n",
              "    .colab-df-convert {\n",
              "      background-color: #E8F0FE;\n",
              "      border: none;\n",
              "      border-radius: 50%;\n",
              "      cursor: pointer;\n",
              "      display: none;\n",
              "      fill: #1967D2;\n",
              "      height: 32px;\n",
              "      padding: 0 0 0 0;\n",
              "      width: 32px;\n",
              "    }\n",
              "\n",
              "    .colab-df-convert:hover {\n",
              "      background-color: #E2EBFA;\n",
              "      box-shadow: 0px 1px 2px rgba(60, 64, 67, 0.3), 0px 1px 3px 1px rgba(60, 64, 67, 0.15);\n",
              "      fill: #174EA6;\n",
              "    }\n",
              "\n",
              "    .colab-df-buttons div {\n",
              "      margin-bottom: 4px;\n",
              "    }\n",
              "\n",
              "    [theme=dark] .colab-df-convert {\n",
              "      background-color: #3B4455;\n",
              "      fill: #D2E3FC;\n",
              "    }\n",
              "\n",
              "    [theme=dark] .colab-df-convert:hover {\n",
              "      background-color: #434B5C;\n",
              "      box-shadow: 0px 1px 3px 1px rgba(0, 0, 0, 0.15);\n",
              "      filter: drop-shadow(0px 1px 2px rgba(0, 0, 0, 0.3));\n",
              "      fill: #FFFFFF;\n",
              "    }\n",
              "  </style>\n",
              "\n",
              "    <script>\n",
              "      const buttonEl =\n",
              "        document.querySelector('#df-169d478d-bfc0-4048-a9a3-a688f47c0e52 button.colab-df-convert');\n",
              "      buttonEl.style.display =\n",
              "        google.colab.kernel.accessAllowed ? 'block' : 'none';\n",
              "\n",
              "      async function convertToInteractive(key) {\n",
              "        const element = document.querySelector('#df-169d478d-bfc0-4048-a9a3-a688f47c0e52');\n",
              "        const dataTable =\n",
              "          await google.colab.kernel.invokeFunction('convertToInteractive',\n",
              "                                                    [key], {});\n",
              "        if (!dataTable) return;\n",
              "\n",
              "        const docLinkHtml = 'Like what you see? Visit the ' +\n",
              "          '<a target=\"_blank\" href=https://colab.research.google.com/notebooks/data_table.ipynb>data table notebook</a>'\n",
              "          + ' to learn more about interactive tables.';\n",
              "        element.innerHTML = '';\n",
              "        dataTable['output_type'] = 'display_data';\n",
              "        await google.colab.output.renderOutput(dataTable, element);\n",
              "        const docLink = document.createElement('div');\n",
              "        docLink.innerHTML = docLinkHtml;\n",
              "        element.appendChild(docLink);\n",
              "      }\n",
              "    </script>\n",
              "  </div>\n",
              "\n",
              "\n",
              "<div id=\"df-87789946-2162-48b7-b7e6-b3b4573c69ed\">\n",
              "  <button class=\"colab-df-quickchart\" onclick=\"quickchart('df-87789946-2162-48b7-b7e6-b3b4573c69ed')\"\n",
              "            title=\"Suggest charts\"\n",
              "            style=\"display:none;\">\n",
              "\n",
              "<svg xmlns=\"http://www.w3.org/2000/svg\" height=\"24px\"viewBox=\"0 0 24 24\"\n",
              "     width=\"24px\">\n",
              "    <g>\n",
              "        <path d=\"M19 3H5c-1.1 0-2 .9-2 2v14c0 1.1.9 2 2 2h14c1.1 0 2-.9 2-2V5c0-1.1-.9-2-2-2zM9 17H7v-7h2v7zm4 0h-2V7h2v10zm4 0h-2v-4h2v4z\"/>\n",
              "    </g>\n",
              "</svg>\n",
              "  </button>\n",
              "\n",
              "<style>\n",
              "  .colab-df-quickchart {\n",
              "      --bg-color: #E8F0FE;\n",
              "      --fill-color: #1967D2;\n",
              "      --hover-bg-color: #E2EBFA;\n",
              "      --hover-fill-color: #174EA6;\n",
              "      --disabled-fill-color: #AAA;\n",
              "      --disabled-bg-color: #DDD;\n",
              "  }\n",
              "\n",
              "  [theme=dark] .colab-df-quickchart {\n",
              "      --bg-color: #3B4455;\n",
              "      --fill-color: #D2E3FC;\n",
              "      --hover-bg-color: #434B5C;\n",
              "      --hover-fill-color: #FFFFFF;\n",
              "      --disabled-bg-color: #3B4455;\n",
              "      --disabled-fill-color: #666;\n",
              "  }\n",
              "\n",
              "  .colab-df-quickchart {\n",
              "    background-color: var(--bg-color);\n",
              "    border: none;\n",
              "    border-radius: 50%;\n",
              "    cursor: pointer;\n",
              "    display: none;\n",
              "    fill: var(--fill-color);\n",
              "    height: 32px;\n",
              "    padding: 0;\n",
              "    width: 32px;\n",
              "  }\n",
              "\n",
              "  .colab-df-quickchart:hover {\n",
              "    background-color: var(--hover-bg-color);\n",
              "    box-shadow: 0 1px 2px rgba(60, 64, 67, 0.3), 0 1px 3px 1px rgba(60, 64, 67, 0.15);\n",
              "    fill: var(--button-hover-fill-color);\n",
              "  }\n",
              "\n",
              "  .colab-df-quickchart-complete:disabled,\n",
              "  .colab-df-quickchart-complete:disabled:hover {\n",
              "    background-color: var(--disabled-bg-color);\n",
              "    fill: var(--disabled-fill-color);\n",
              "    box-shadow: none;\n",
              "  }\n",
              "\n",
              "  .colab-df-spinner {\n",
              "    border: 2px solid var(--fill-color);\n",
              "    border-color: transparent;\n",
              "    border-bottom-color: var(--fill-color);\n",
              "    animation:\n",
              "      spin 1s steps(1) infinite;\n",
              "  }\n",
              "\n",
              "  @keyframes spin {\n",
              "    0% {\n",
              "      border-color: transparent;\n",
              "      border-bottom-color: var(--fill-color);\n",
              "      border-left-color: var(--fill-color);\n",
              "    }\n",
              "    20% {\n",
              "      border-color: transparent;\n",
              "      border-left-color: var(--fill-color);\n",
              "      border-top-color: var(--fill-color);\n",
              "    }\n",
              "    30% {\n",
              "      border-color: transparent;\n",
              "      border-left-color: var(--fill-color);\n",
              "      border-top-color: var(--fill-color);\n",
              "      border-right-color: var(--fill-color);\n",
              "    }\n",
              "    40% {\n",
              "      border-color: transparent;\n",
              "      border-right-color: var(--fill-color);\n",
              "      border-top-color: var(--fill-color);\n",
              "    }\n",
              "    60% {\n",
              "      border-color: transparent;\n",
              "      border-right-color: var(--fill-color);\n",
              "    }\n",
              "    80% {\n",
              "      border-color: transparent;\n",
              "      border-right-color: var(--fill-color);\n",
              "      border-bottom-color: var(--fill-color);\n",
              "    }\n",
              "    90% {\n",
              "      border-color: transparent;\n",
              "      border-bottom-color: var(--fill-color);\n",
              "    }\n",
              "  }\n",
              "</style>\n",
              "\n",
              "  <script>\n",
              "    async function quickchart(key) {\n",
              "      const quickchartButtonEl =\n",
              "        document.querySelector('#' + key + ' button');\n",
              "      quickchartButtonEl.disabled = true;  // To prevent multiple clicks.\n",
              "      quickchartButtonEl.classList.add('colab-df-spinner');\n",
              "      try {\n",
              "        const charts = await google.colab.kernel.invokeFunction(\n",
              "            'suggestCharts', [key], {});\n",
              "      } catch (error) {\n",
              "        console.error('Error during call to suggestCharts:', error);\n",
              "      }\n",
              "      quickchartButtonEl.classList.remove('colab-df-spinner');\n",
              "      quickchartButtonEl.classList.add('colab-df-quickchart-complete');\n",
              "    }\n",
              "    (() => {\n",
              "      let quickchartButtonEl =\n",
              "        document.querySelector('#df-87789946-2162-48b7-b7e6-b3b4573c69ed button');\n",
              "      quickchartButtonEl.style.display =\n",
              "        google.colab.kernel.accessAllowed ? 'block' : 'none';\n",
              "    })();\n",
              "  </script>\n",
              "</div>\n",
              "\n",
              "    </div>\n",
              "  </div>\n"
            ],
            "application/vnd.google.colaboratory.intrinsic+json": {
              "type": "dataframe",
              "variable_name": "df",
              "repr_error": "'str' object has no attribute 'empty'"
            }
          },
          "metadata": {},
          "execution_count": 72
        }
      ]
    },
    {
      "cell_type": "code",
      "source": [
        "#save\n",
        "df.to_csv('data_extraction.csv',index=False, encoding='utf-8')"
      ],
      "metadata": {
        "id": "3cP6mA2gISXP"
      },
      "execution_count": null,
      "outputs": []
    }
  ]
}
