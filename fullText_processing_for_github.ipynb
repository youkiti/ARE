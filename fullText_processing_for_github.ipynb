{
  "nbformat": 4,
  "nbformat_minor": 0,
  "metadata": {
    "colab": {
      "provenance": [],
      "authorship_tag": "ABX9TyOjVqbFiiV9nzm/QrHpFDZN",
      "include_colab_link": true
    },
    "kernelspec": {
      "name": "python3",
      "display_name": "Python 3"
    },
    "language_info": {
      "name": "python"
    }
  },
  "cells": [
    {
      "cell_type": "markdown",
      "metadata": {
        "id": "view-in-github",
        "colab_type": "text"
      },
      "source": [
        "<a href=\"https://colab.research.google.com/github/youkiti/ARE/blob/postspinal-hypotension/fullText_processing_for_github.ipynb\" target=\"_parent\"><img src=\"https://colab.research.google.com/assets/colab-badge.svg\" alt=\"Open In Colab\"/></a>"
      ]
    },
    {
      "cell_type": "code",
      "execution_count": null,
      "metadata": {
        "colab": {
          "base_uri": "https://localhost:8080/"
        },
        "id": "VPYIHWL9AAJ7",
        "outputId": "7d91e370-bf77-4dd5-f6df-31d1e9756702"
      },
      "outputs": [
        {
          "output_type": "stream",
          "name": "stdout",
          "text": [
            "Mounted at /content/drive\n"
          ]
        }
      ],
      "source": [
        "#driveをマウント\n",
        "from google.colab import drive\n",
        "drive.mount('/content/drive')"
      ]
    },
    {
      "cell_type": "code",
      "source": [
        "import os\n",
        "import glob\n",
        "path = \"WORKINGFOLDER\"\n",
        "os.chdir(path)\n",
        "\n",
        "pdf_files = glob.glob(\"*.pdf\")"
      ],
      "metadata": {
        "id": "vaFO8CYIAJZ8"
      },
      "execution_count": null,
      "outputs": []
    },
    {
      "cell_type": "code",
      "source": [
        "len(pdf_files)"
      ],
      "metadata": {
        "colab": {
          "base_uri": "https://localhost:8080/"
        },
        "id": "tbWKPTKCAdLl",
        "outputId": "bb9c791e-785f-4941-a98c-5c529a1dfee4"
      },
      "execution_count": null,
      "outputs": [
        {
          "output_type": "execute_result",
          "data": {
            "text/plain": [
              "308"
            ]
          },
          "metadata": {},
          "execution_count": 5
        }
      ]
    },
    {
      "cell_type": "code",
      "source": [
        "# pdf_files から ID_ と.pdf を\"\"にリプレイスした値を作る\n",
        "pdf_ids = [file.replace(\"ID_\", \"\").replace(\".pdf\", \"\") for file in pdf_files]\n",
        "\n"
      ],
      "metadata": {
        "id": "UzSKUo3JAkJd"
      },
      "execution_count": null,
      "outputs": []
    },
    {
      "cell_type": "code",
      "source": [
        "pdf_folders = [f\"ID_{pdf_id}\" for pdf_id in pdf_ids]"
      ],
      "metadata": {
        "id": "TvdGpBUWVH-E"
      },
      "execution_count": null,
      "outputs": []
    },
    {
      "cell_type": "markdown",
      "source": [
        "# pdfをAPIで処理"
      ],
      "metadata": {
        "id": "xDJUhiAsBKv0"
      }
    },
    {
      "cell_type": "code",
      "source": [
        "!pip install -q pdfservices-sdk\n"
      ],
      "metadata": {
        "colab": {
          "base_uri": "https://localhost:8080/"
        },
        "id": "PGgyAl9RA7uK",
        "outputId": "67e6c422-9032-4f0f-aa04-022a0f9c040c"
      },
      "execution_count": null,
      "outputs": [
        {
          "output_type": "stream",
          "name": "stdout",
          "text": [
            "\u001b[2K     \u001b[90m━━━━━━━━━━━━━━━━━━━━━━━━━━━━━━━━━━━━━━━━\u001b[0m \u001b[32m274.4/274.4 kB\u001b[0m \u001b[31m4.8 MB/s\u001b[0m eta \u001b[36m0:00:00\u001b[0m\n",
            "\u001b[2K     \u001b[90m━━━━━━━━━━━━━━━━━━━━━━━━━━━━━━━━━━━━━━━━\u001b[0m \u001b[32m894.6/894.6 kB\u001b[0m \u001b[31m9.6 MB/s\u001b[0m eta \u001b[36m0:00:00\u001b[0m\n",
            "\u001b[2K     \u001b[90m━━━━━━━━━━━━━━━━━━━━━━━━━━━━━━━━━━━━━━━━\u001b[0m \u001b[32m3.3/3.3 MB\u001b[0m \u001b[31m20.3 MB/s\u001b[0m eta \u001b[36m0:00:00\u001b[0m\n",
            "\u001b[2K     \u001b[90m━━━━━━━━━━━━━━━━━━━━━━━━━━━━━━━━━━━━━━━━\u001b[0m \u001b[32m2.8/2.8 MB\u001b[0m \u001b[31m32.4 MB/s\u001b[0m eta \u001b[36m0:00:00\u001b[0m\n",
            "\u001b[2K     \u001b[90m━━━━━━━━━━━━━━━━━━━━━━━━━━━━━━━━━━━━━━━━\u001b[0m \u001b[32m121.1/121.1 kB\u001b[0m \u001b[31m12.8 MB/s\u001b[0m eta \u001b[36m0:00:00\u001b[0m\n",
            "\u001b[?25h\u001b[31mERROR: pip's dependency resolver does not currently take into account all the packages that are installed. This behaviour is the source of the following dependency conflicts.\n",
            "ipython 7.34.0 requires jedi>=0.16, which is not installed.\u001b[0m\u001b[31m\n",
            "\u001b[0m"
          ]
        }
      ]
    },
    {
      "cell_type": "code",
      "source": [
        "#セットアップ\n",
        "\n",
        "import logging\n",
        "import os\n",
        "from datetime import datetime\n",
        "\n",
        "from adobe.pdfservices.operation.auth.service_principal_credentials import ServicePrincipalCredentials\n",
        "from adobe.pdfservices.operation.exception.exceptions import ServiceApiException, ServiceUsageException, SdkException\n",
        "from adobe.pdfservices.operation.io.cloud_asset import CloudAsset\n",
        "from adobe.pdfservices.operation.io.stream_asset import StreamAsset\n",
        "from adobe.pdfservices.operation.pdf_services import PDFServices\n",
        "from adobe.pdfservices.operation.pdf_services_media_type import PDFServicesMediaType\n",
        "from adobe.pdfservices.operation.pdfjobs.jobs.extract_pdf_job import ExtractPDFJob\n",
        "from adobe.pdfservices.operation.pdfjobs.params.extract_pdf.extract_element_type import ExtractElementType\n",
        "from adobe.pdfservices.operation.pdfjobs.params.extract_pdf.extract_pdf_params import ExtractPDFParams\n",
        "from adobe.pdfservices.operation.pdfjobs.params.extract_pdf.extract_renditions_element_type import \\\n",
        "    ExtractRenditionsElementType\n",
        "from adobe.pdfservices.operation.pdfjobs.result.extract_pdf_result import ExtractPDFResult\n",
        "\n",
        "\n",
        "import os.path\n",
        "import json\n",
        "from tqdm import tqdm\n",
        "import shutil\n",
        "from zipfile import ZipFile\n",
        "\n",
        "from google.colab import userdata\n",
        "PDF_SERVICES_CLIENT_ID = userdata.get('PDF_SERVICES_CLIENT_ID')\n",
        "PDF_SERVICES_CLIENT_SECRET = userdata.get('PDF_SERVICES_CLIENT_SECRET')\n",
        "\n",
        "os.environ[\"PDF_SERVICES_CLIENT_ID\"] = PDF_SERVICES_CLIENT_ID\n",
        "os.environ[\"PDF_SERVICES_CLIENT_SECRET\"] = PDF_SERVICES_CLIENT_SECRET\n",
        "\n",
        "\n",
        "# Initial setup, create credentials instance\n",
        "credentials = ServicePrincipalCredentials(\n",
        "    client_id=os.getenv('PDF_SERVICES_CLIENT_ID'),\n",
        "    client_secret=os.getenv('PDF_SERVICES_CLIENT_SECRET'))\n",
        "\n",
        "# Creates a PDF Services instance\n",
        "pdf_services = PDFServices(credentials=credentials)\n"
      ],
      "metadata": {
        "id": "Zm-i6OS_BxHN"
      },
      "execution_count": null,
      "outputs": []
    },
    {
      "cell_type": "code",
      "source": [
        "import os\n",
        "from tqdm import tqdm\n",
        "from datetime import datetime\n",
        "\n",
        "failed_files = []\n",
        "\n",
        "for pdf_file in tqdm(pdf_files[5:], desc=\"Processing PDFs\"):\n",
        "    try:\n",
        "        file = open(pdf_file, 'rb')\n",
        "        input_stream = file.read()\n",
        "        file.close()\n",
        "\n",
        "        # Creates an asset(s) from source file(s) and upload\n",
        "        input_asset = pdf_services.upload(input_stream=input_stream, mime_type=PDFServicesMediaType.PDF)\n",
        "\n",
        "        # Create parameters for the job\n",
        "        extract_pdf_params = ExtractPDFParams(\n",
        "            elements_to_extract=[ExtractElementType.TEXT, ExtractElementType.TABLES],\n",
        "            elements_to_extract_renditions=[ExtractRenditionsElementType.TABLES, ExtractRenditionsElementType.FIGURES],\n",
        "        )\n",
        "\n",
        "        # Creates a new job instance\n",
        "        extract_pdf_job = ExtractPDFJob(input_asset=input_asset, extract_pdf_params=extract_pdf_params)\n",
        "\n",
        "        # Submit the job and gets the job result\n",
        "        location = pdf_services.submit(extract_pdf_job)\n",
        "        pdf_services_response = pdf_services.get_job_result(location, ExtractPDFResult)\n",
        "\n",
        "        # Get content from the resulting asset(s)\n",
        "        result_asset: CloudAsset = pdf_services_response.get_result().get_resource()\n",
        "        stream_asset: StreamAsset = pdf_services.get_content(result_asset)\n",
        "\n",
        "        # Creates an output stream and copy stream asset's content to it\n",
        "        output_file_path = 'extractTextTableInfoWithStylingFromPDF.zip'\n",
        "        with open(output_file_path, \"wb\") as file:\n",
        "            file.write(stream_asset.get_input_stream())\n",
        "\n",
        "        # PDFファイル名（拡張子なし）を取得\n",
        "        pdf_name = os.path.splitext(os.path.basename(pdf_file))[0]\n",
        "\n",
        "        output_dir = os.path.join(os.path.dirname(pdf_file), pdf_name)\n",
        "\n",
        "        # Create a directory with the same name as the PDF file (without extension) in the specified output path\n",
        "        # 出力ディレクトリが存在しない場合は作成\n",
        "        if not os.path.exists(output_dir):\n",
        "            os.makedirs(output_dir)\n",
        "\n",
        "        # Extract the contents of the zip file to the created directory\n",
        "        with ZipFile(output_file_path, 'r') as zip_ref:\n",
        "            zip_ref.extractall(output_dir)\n",
        "\n",
        "        # Remove the temporary zip file\n",
        "        os.remove(output_file_path)\n",
        "\n",
        "    except Exception as e:\n",
        "        print(f\"Error processing file: {pdf_file}\")\n",
        "        print(f\"Error message: {str(e)}\")\n",
        "        failed_files.append(pdf_file)\n",
        "\n",
        "# 現在の日時を取得\n",
        "now = datetime.now()\n",
        "\n",
        "# 日時を文字列に変換 (YYYY-MM-DD_HH-MM形式)\n",
        "datetime_string = now.strftime(\"%Y-%m-%d_%H-%M\")\n",
        "\n",
        "# ファイル名の文字列を作成\n",
        "filename = f\"{datetime_string}_log.txt\"\n",
        "\n",
        "# Save the list of failed files to a log file in the current folder\n",
        "with open(filename, \"w\") as log_file:\n",
        "    for file_path in failed_files:\n",
        "        log_file.write(file_path + \"\\n\")"
      ],
      "metadata": {
        "colab": {
          "base_uri": "https://localhost:8080/"
        },
        "id": "NHVkW4X6EtwF",
        "outputId": "dd103f8f-cfc3-45fd-d078-0d681ea0a365"
      },
      "execution_count": null,
      "outputs": [
        {
          "output_type": "stream",
          "name": "stderr",
          "text": [
            "Processing PDFs:  22%|██▏       | 66/303 [13:33<38:20,  9.71s/it]"
          ]
        },
        {
          "output_type": "stream",
          "name": "stdout",
          "text": [
            "Error processing file: ID_34.pdf\n",
            "Error message: description =DISQUALIFIED - File not suitable for content extraction: File contents are too complex for content extraction; requestTrackingId=7c622d9b-26f1-485c-898b-719cb231c8ac; statusCode=400; errorCode=DISQUALIFIED_COMPLEX_FILE\n"
          ]
        },
        {
          "output_type": "stream",
          "name": "stderr",
          "text": [
            "Processing PDFs:  24%|██▍       | 74/303 [14:51<39:56, 10.47s/it]"
          ]
        },
        {
          "output_type": "stream",
          "name": "stdout",
          "text": [
            "Error processing file: ID_43.pdf\n",
            "Error message: description =DISQUALIFIED - File not suitable for content extraction: File contents are too complex for content extraction; requestTrackingId=82a3ceb3-fbff-4bd0-8b26-840bedd72703; statusCode=400; errorCode=DISQUALIFIED_COMPLEX_FILE\n"
          ]
        },
        {
          "output_type": "stream",
          "name": "stderr",
          "text": [
            "Processing PDFs: 100%|██████████| 303/303 [51:23<00:00, 10.18s/it]\n"
          ]
        }
      ]
    },
    {
      "cell_type": "code",
      "source": [
        "\n",
        "import pandas as pd\n",
        "\n",
        "#json to text\n",
        "def extract_combined_text(json_file_path):\n",
        "    \"\"\"\n",
        "    Extracts and combines text from the structuredData.json file located at the given path.\n",
        "\n",
        "    Args:\n",
        "    json_file_path (str): The path to the structuredData.json file.\n",
        "\n",
        "    Returns:\n",
        "    str: The combined text extracted from the JSON file.\n",
        "    \"\"\"\n",
        "    # Load the JSON data\n",
        "    with open(json_file_path, 'r') as file:\n",
        "        data = json.load(file)\n",
        "\n",
        "    # Function to extract text from the JSON elements\n",
        "    def extract_text(elements):\n",
        "        texts = []\n",
        "        for element in elements:\n",
        "            if 'Text' in element:\n",
        "                texts.append(element['Text'])\n",
        "        return texts\n",
        "\n",
        "    # Extract text from the elements\n",
        "    text_contents = []\n",
        "    if 'elements' in data:\n",
        "        text_contents = extract_text(data['elements'])\n",
        "\n",
        "    # Combine the extracted text into a single string\n",
        "    combined_text = \"\\n\".join(text_contents)\n",
        "\n",
        "    return combined_text\n",
        "\n",
        "# /*.jsonのファイルを検索し、リストアップ\n",
        "article_texts = []\n",
        "\n",
        "for p in pdf_folders:\n",
        "    json_file_path = os.path.join(f\"{p}/structuredData.json\")\n",
        "    if os.path.exists(json_file_path):\n",
        "        combined_text = extract_combined_text(json_file_path)\n",
        "        #pとcombined_textをペアにしてdataframeにする\n",
        "        article_texts.append((p, combined_text))\n",
        "\n",
        "\n",
        "# Create a DataFrame from the data_pairs list\n",
        "df = pd.DataFrame(article_texts, columns=['PDF_ID', 'Combined_Text'])\n",
        "\n"
      ],
      "metadata": {
        "collapsed": true,
        "id": "Kb77y49nBOh7"
      },
      "execution_count": null,
      "outputs": []
    },
    {
      "cell_type": "code",
      "source": [
        "df.head()"
      ],
      "metadata": {
        "colab": {
          "base_uri": "https://localhost:8080/",
          "height": 206
        },
        "id": "rPvcHw2zVXNI",
        "outputId": "c18f0cf6-70d1-4a7b-a7d4-f44a0c4a398e"
      },
      "execution_count": null,
      "outputs": [
        {
          "output_type": "execute_result",
          "data": {
            "text/plain": [
              "   PDF_ID                                      Combined_Text\n",
              "0  ID_211  Prophylactic Fixed-Rate Phenylephrine Versus N...\n",
              "1  ID_146  Received: 2 August 2022 Revised: 27 January 20...\n",
              "2   ID_58  Review began 07/17/2023 Review ended 07/26/202...\n",
              "3  ID_174  Archives of Gynecology and Obstetrics (2020) 3...\n",
              "4  ID_221  Received: 27 September 2020 | Revised: 19 Janu..."
            ],
            "text/html": [
              "\n",
              "  <div id=\"df-ebf2f5b5-b41b-4bad-9069-a518a093ff6e\" class=\"colab-df-container\">\n",
              "    <div>\n",
              "<style scoped>\n",
              "    .dataframe tbody tr th:only-of-type {\n",
              "        vertical-align: middle;\n",
              "    }\n",
              "\n",
              "    .dataframe tbody tr th {\n",
              "        vertical-align: top;\n",
              "    }\n",
              "\n",
              "    .dataframe thead th {\n",
              "        text-align: right;\n",
              "    }\n",
              "</style>\n",
              "<table border=\"1\" class=\"dataframe\">\n",
              "  <thead>\n",
              "    <tr style=\"text-align: right;\">\n",
              "      <th></th>\n",
              "      <th>PDF_ID</th>\n",
              "      <th>Combined_Text</th>\n",
              "    </tr>\n",
              "  </thead>\n",
              "  <tbody>\n",
              "    <tr>\n",
              "      <th>0</th>\n",
              "      <td>ID_211</td>\n",
              "      <td>Prophylactic Fixed-Rate Phenylephrine Versus N...</td>\n",
              "    </tr>\n",
              "    <tr>\n",
              "      <th>1</th>\n",
              "      <td>ID_146</td>\n",
              "      <td>Received: 2 August 2022 Revised: 27 January 20...</td>\n",
              "    </tr>\n",
              "    <tr>\n",
              "      <th>2</th>\n",
              "      <td>ID_58</td>\n",
              "      <td>Review began 07/17/2023 Review ended 07/26/202...</td>\n",
              "    </tr>\n",
              "    <tr>\n",
              "      <th>3</th>\n",
              "      <td>ID_174</td>\n",
              "      <td>Archives of Gynecology and Obstetrics (2020) 3...</td>\n",
              "    </tr>\n",
              "    <tr>\n",
              "      <th>4</th>\n",
              "      <td>ID_221</td>\n",
              "      <td>Received: 27 September 2020 | Revised: 19 Janu...</td>\n",
              "    </tr>\n",
              "  </tbody>\n",
              "</table>\n",
              "</div>\n",
              "    <div class=\"colab-df-buttons\">\n",
              "\n",
              "  <div class=\"colab-df-container\">\n",
              "    <button class=\"colab-df-convert\" onclick=\"convertToInteractive('df-ebf2f5b5-b41b-4bad-9069-a518a093ff6e')\"\n",
              "            title=\"Convert this dataframe to an interactive table.\"\n",
              "            style=\"display:none;\">\n",
              "\n",
              "  <svg xmlns=\"http://www.w3.org/2000/svg\" height=\"24px\" viewBox=\"0 -960 960 960\">\n",
              "    <path d=\"M120-120v-720h720v720H120Zm60-500h600v-160H180v160Zm220 220h160v-160H400v160Zm0 220h160v-160H400v160ZM180-400h160v-160H180v160Zm440 0h160v-160H620v160ZM180-180h160v-160H180v160Zm440 0h160v-160H620v160Z\"/>\n",
              "  </svg>\n",
              "    </button>\n",
              "\n",
              "  <style>\n",
              "    .colab-df-container {\n",
              "      display:flex;\n",
              "      gap: 12px;\n",
              "    }\n",
              "\n",
              "    .colab-df-convert {\n",
              "      background-color: #E8F0FE;\n",
              "      border: none;\n",
              "      border-radius: 50%;\n",
              "      cursor: pointer;\n",
              "      display: none;\n",
              "      fill: #1967D2;\n",
              "      height: 32px;\n",
              "      padding: 0 0 0 0;\n",
              "      width: 32px;\n",
              "    }\n",
              "\n",
              "    .colab-df-convert:hover {\n",
              "      background-color: #E2EBFA;\n",
              "      box-shadow: 0px 1px 2px rgba(60, 64, 67, 0.3), 0px 1px 3px 1px rgba(60, 64, 67, 0.15);\n",
              "      fill: #174EA6;\n",
              "    }\n",
              "\n",
              "    .colab-df-buttons div {\n",
              "      margin-bottom: 4px;\n",
              "    }\n",
              "\n",
              "    [theme=dark] .colab-df-convert {\n",
              "      background-color: #3B4455;\n",
              "      fill: #D2E3FC;\n",
              "    }\n",
              "\n",
              "    [theme=dark] .colab-df-convert:hover {\n",
              "      background-color: #434B5C;\n",
              "      box-shadow: 0px 1px 3px 1px rgba(0, 0, 0, 0.15);\n",
              "      filter: drop-shadow(0px 1px 2px rgba(0, 0, 0, 0.3));\n",
              "      fill: #FFFFFF;\n",
              "    }\n",
              "  </style>\n",
              "\n",
              "    <script>\n",
              "      const buttonEl =\n",
              "        document.querySelector('#df-ebf2f5b5-b41b-4bad-9069-a518a093ff6e button.colab-df-convert');\n",
              "      buttonEl.style.display =\n",
              "        google.colab.kernel.accessAllowed ? 'block' : 'none';\n",
              "\n",
              "      async function convertToInteractive(key) {\n",
              "        const element = document.querySelector('#df-ebf2f5b5-b41b-4bad-9069-a518a093ff6e');\n",
              "        const dataTable =\n",
              "          await google.colab.kernel.invokeFunction('convertToInteractive',\n",
              "                                                    [key], {});\n",
              "        if (!dataTable) return;\n",
              "\n",
              "        const docLinkHtml = 'Like what you see? Visit the ' +\n",
              "          '<a target=\"_blank\" href=https://colab.research.google.com/notebooks/data_table.ipynb>data table notebook</a>'\n",
              "          + ' to learn more about interactive tables.';\n",
              "        element.innerHTML = '';\n",
              "        dataTable['output_type'] = 'display_data';\n",
              "        await google.colab.output.renderOutput(dataTable, element);\n",
              "        const docLink = document.createElement('div');\n",
              "        docLink.innerHTML = docLinkHtml;\n",
              "        element.appendChild(docLink);\n",
              "      }\n",
              "    </script>\n",
              "  </div>\n",
              "\n",
              "\n",
              "<div id=\"df-ed0a0829-664a-4c3b-8163-da270514750b\">\n",
              "  <button class=\"colab-df-quickchart\" onclick=\"quickchart('df-ed0a0829-664a-4c3b-8163-da270514750b')\"\n",
              "            title=\"Suggest charts\"\n",
              "            style=\"display:none;\">\n",
              "\n",
              "<svg xmlns=\"http://www.w3.org/2000/svg\" height=\"24px\"viewBox=\"0 0 24 24\"\n",
              "     width=\"24px\">\n",
              "    <g>\n",
              "        <path d=\"M19 3H5c-1.1 0-2 .9-2 2v14c0 1.1.9 2 2 2h14c1.1 0 2-.9 2-2V5c0-1.1-.9-2-2-2zM9 17H7v-7h2v7zm4 0h-2V7h2v10zm4 0h-2v-4h2v4z\"/>\n",
              "    </g>\n",
              "</svg>\n",
              "  </button>\n",
              "\n",
              "<style>\n",
              "  .colab-df-quickchart {\n",
              "      --bg-color: #E8F0FE;\n",
              "      --fill-color: #1967D2;\n",
              "      --hover-bg-color: #E2EBFA;\n",
              "      --hover-fill-color: #174EA6;\n",
              "      --disabled-fill-color: #AAA;\n",
              "      --disabled-bg-color: #DDD;\n",
              "  }\n",
              "\n",
              "  [theme=dark] .colab-df-quickchart {\n",
              "      --bg-color: #3B4455;\n",
              "      --fill-color: #D2E3FC;\n",
              "      --hover-bg-color: #434B5C;\n",
              "      --hover-fill-color: #FFFFFF;\n",
              "      --disabled-bg-color: #3B4455;\n",
              "      --disabled-fill-color: #666;\n",
              "  }\n",
              "\n",
              "  .colab-df-quickchart {\n",
              "    background-color: var(--bg-color);\n",
              "    border: none;\n",
              "    border-radius: 50%;\n",
              "    cursor: pointer;\n",
              "    display: none;\n",
              "    fill: var(--fill-color);\n",
              "    height: 32px;\n",
              "    padding: 0;\n",
              "    width: 32px;\n",
              "  }\n",
              "\n",
              "  .colab-df-quickchart:hover {\n",
              "    background-color: var(--hover-bg-color);\n",
              "    box-shadow: 0 1px 2px rgba(60, 64, 67, 0.3), 0 1px 3px 1px rgba(60, 64, 67, 0.15);\n",
              "    fill: var(--button-hover-fill-color);\n",
              "  }\n",
              "\n",
              "  .colab-df-quickchart-complete:disabled,\n",
              "  .colab-df-quickchart-complete:disabled:hover {\n",
              "    background-color: var(--disabled-bg-color);\n",
              "    fill: var(--disabled-fill-color);\n",
              "    box-shadow: none;\n",
              "  }\n",
              "\n",
              "  .colab-df-spinner {\n",
              "    border: 2px solid var(--fill-color);\n",
              "    border-color: transparent;\n",
              "    border-bottom-color: var(--fill-color);\n",
              "    animation:\n",
              "      spin 1s steps(1) infinite;\n",
              "  }\n",
              "\n",
              "  @keyframes spin {\n",
              "    0% {\n",
              "      border-color: transparent;\n",
              "      border-bottom-color: var(--fill-color);\n",
              "      border-left-color: var(--fill-color);\n",
              "    }\n",
              "    20% {\n",
              "      border-color: transparent;\n",
              "      border-left-color: var(--fill-color);\n",
              "      border-top-color: var(--fill-color);\n",
              "    }\n",
              "    30% {\n",
              "      border-color: transparent;\n",
              "      border-left-color: var(--fill-color);\n",
              "      border-top-color: var(--fill-color);\n",
              "      border-right-color: var(--fill-color);\n",
              "    }\n",
              "    40% {\n",
              "      border-color: transparent;\n",
              "      border-right-color: var(--fill-color);\n",
              "      border-top-color: var(--fill-color);\n",
              "    }\n",
              "    60% {\n",
              "      border-color: transparent;\n",
              "      border-right-color: var(--fill-color);\n",
              "    }\n",
              "    80% {\n",
              "      border-color: transparent;\n",
              "      border-right-color: var(--fill-color);\n",
              "      border-bottom-color: var(--fill-color);\n",
              "    }\n",
              "    90% {\n",
              "      border-color: transparent;\n",
              "      border-bottom-color: var(--fill-color);\n",
              "    }\n",
              "  }\n",
              "</style>\n",
              "\n",
              "  <script>\n",
              "    async function quickchart(key) {\n",
              "      const quickchartButtonEl =\n",
              "        document.querySelector('#' + key + ' button');\n",
              "      quickchartButtonEl.disabled = true;  // To prevent multiple clicks.\n",
              "      quickchartButtonEl.classList.add('colab-df-spinner');\n",
              "      try {\n",
              "        const charts = await google.colab.kernel.invokeFunction(\n",
              "            'suggestCharts', [key], {});\n",
              "      } catch (error) {\n",
              "        console.error('Error during call to suggestCharts:', error);\n",
              "      }\n",
              "      quickchartButtonEl.classList.remove('colab-df-spinner');\n",
              "      quickchartButtonEl.classList.add('colab-df-quickchart-complete');\n",
              "    }\n",
              "    (() => {\n",
              "      let quickchartButtonEl =\n",
              "        document.querySelector('#df-ed0a0829-664a-4c3b-8163-da270514750b button');\n",
              "      quickchartButtonEl.style.display =\n",
              "        google.colab.kernel.accessAllowed ? 'block' : 'none';\n",
              "    })();\n",
              "  </script>\n",
              "</div>\n",
              "\n",
              "    </div>\n",
              "  </div>\n"
            ],
            "application/vnd.google.colaboratory.intrinsic+json": {
              "type": "dataframe",
              "variable_name": "df",
              "summary": "{\n  \"name\": \"df\",\n  \"rows\": 306,\n  \"fields\": [\n    {\n      \"column\": \"PDF_ID\",\n      \"properties\": {\n        \"dtype\": \"string\",\n        \"num_unique_values\": 306,\n        \"samples\": [\n          \"ID_141\",\n          \"ID_166\",\n          \"ID_90\"\n        ],\n        \"semantic_type\": \"\",\n        \"description\": \"\"\n      }\n    },\n    {\n      \"column\": \"Combined_Text\",\n      \"properties\": {\n        \"dtype\": \"string\",\n        \"num_unique_values\": 298,\n        \"samples\": [\n          \"The U.S. government does not review or approve the safety and science of all studies listed on this website. \\nRead our full (<https://clinicaltrials.gov/about-site/disclaimer>)disclaimer (https://clinicaltrials.gov/about-site/disclaimer) for details. \\nClinicalTrials.gov is a website and online database of clinical research studies and information about their results. The National Library of Medicine (NLM) maintains the website. The study sponsor or investigator submits information about their study to ClinicalTrials.gov and is responsible for the safety, science, and accuracy of any study they list. \\nBefore joining a study, talk to your health care professional about possible risks and benefits. \\nTo learn more about taking part in studies, read (<https://clinicaltrials.gov/study-basics/learn-about-studies>)Learn About \\n(<https://clinicaltrials.gov/study-basics/learn-about-studies>)Studies (https://clinicaltrials.gov/study-basics/learn-about-studies). \\nCOMPLETED \\nNorepinephrine Versus Phenylephrine Continuous Variable Infusion in Cesarean Delivery \\nClinicalTrials.gov ID NCT03328533 \\nSponsor Cairo University \\nInformation provided by Ahmed Hasanin, Cairo University (Responsible Party) \\nLast Update Posted 2018-07-17 \\nResearcher View Tab \\nTrial Contacts \\nICMJEContacts Contact information is only displayed when the study is recruiting subjects \\nStudy Record Dates \\nFirst Submitted \\nICMJE \\n2017-10-30 \\nFirst Posted \\nICMJE \\n2017-11-01 \\nLast Update Posted \\n2018-07-17 \\nLast Veri\\u00a6ed * \\n2018-07 \\nOutcome Measures \\nChange History \\n(<https://clinicaltrials.gov/study/NCT03328533?tab=history>)See all versions of this study \\nPrimary (Current) * ICMJE (Submitted: 2017-10-30) \\nIncidence of post-spinal anesthesia hypotension. [Time Frame: 30 minutes after spinal \\nanesthesia] \\nfi\\nDened as the percentage of patients with decreased systolic blood pressure less than 80% of the baseline reading \\nPrimary (Original) * ICMJE \\nSame as current \\nSecondary (Current) [*] ICMJE (Submitted: 2017-10-31) \\nIncidence of severe post-spinal anesthesia hypotension [Time Frame: 30 minutes after spinal \\nanesthesia] \\nfi\\nDened as the percentage of patients with decreased systolic blood pressure less than 60% of the baseline reading \\nIncidence of severe delivery hypotension [Time Frame: 10 minutes after delivery] \\nDefined as the percentage of patients with decreased systolic blood pressure less than 80% of the baseline reading \\nSystolic blood pressure [Time Frame: 2 hours after subarachnoid block] \\nSystolic blood pressure measured in mmHg \\nHeart rate [Time Frame: 2 hours after subarachnoid block] \\nnumber of heart beats per minute \\nAPGAR score for assessment of the general state of the fetus [Time Frame: 10 minutes after delivery] \\nAPGAR score of the fetus ranging from 0 to 10. the higher the value, the better he score \\nIncidence of reactive hypertension [Time Frame: 2 hours after spinal anesthesia] \\nDefined as the percentage of patients with increased systolic blood pressure more than 80% of the baseline reading \\nUmbilical arterial potential hydrogen (PH) [Time Frame: 10 minutes after delivery] \\nPH in the blood sample obtained from umbilical artery scaled from 1 to 14 \\nUmbilical arterial Partial pressure of Carbon dioxide [Time Frame: 10 minutes after delivery] \\nin the blood sample obtained from umbilical artery measured in mmHg \\nincidence of nausea [Time Frame: 2 hours] \\nThe percentage of patients with nausea \\nIncidence of vomiting [Time Frame: 2 hours] \\nThe percentage of patients with nausea \\nTotal phenylephrine consumption [Time Frame: 2 hours] \\nthe total dose of phenylephrine consumed during the operation \\nTotal norepinephrine consumption [Time Frame: 2 hours] \\nthe total dose of norepinephrine consumed during the operation \\nTotal ephedrine consumption [Time Frame: 2 hours] \\nthe total dose of ephedrine consumed during the operation \\nSecondary (Original) [*] \\n(Submitted: 2017-10-30) \\nICMJE \\nIncidence of severe post-spinal anesthesia hypotension [Time Frame: 30 minutes after spinal anesthesia] \\nDefined as the percentage of patients with decreased systolic blood pressure less than 60% of the baseline reading \\nIncidence of severe delivery hypotension [Time Frame: 10 minutes after delivery] \\nDefined as the percentage of patients with decreased systolic blood pressure less than 80% of the baseline reading \\nSystolic blood pressure [Time Frame: 2 hours after subarachnoid block] \\nSystolic blood pressure measured in mmHg \\nHeart rate [Time Frame: 2 hours after subarachnoid block] \\nnumber of heart beats per minute \\nAPGAR score [Time Frame: 10 minutes after delivery] \\nAPGAR score of the fetus \\nIncidence of reactive hypertension [Time Frame: 2 hours after spinal anesthesia] \\nDefined as the percentage of patients with increased systolic blood pressure more than 80% of the baseline reading \\nUmbilical arterial potential hydrogen (PH) [Time Frame: 10 minutes after delivery] \\nPH in the blood sample obtained from umbilical artery scaled from 1 to 14 \\nUmbilical arterial Partial pressure of Carbon dioxide [Time Frame: 10 minutes after delivery] \\nin the blood sample obtained from umbilical artery measured in mmHg \\nincidence of nausea [Time Frame: 2 hours] \\nThe percentage of patients with nausea \\nIncidence of vomiting [Time Frame: 2 hours] \\nThe percentage of patients with nausea \\nTotal phenylephrine consumption [Time Frame: 2 hours] \\nthe total dose of phenylephrine consumed during the operation \\nTotal norepinephrine consumption [Time Frame: 2 hours] \\nthe total dose of norepinephrine consumed during the operation \\nTotal ephedrine consumption [Time Frame: 2 hours] \\nthe total dose of ephedrine consumed during the operation \\nOther Pre-speci\\u00a6ed (Current) \\nNot provided \\nOther Pre-speci\\u00a6ed (Original) \\nNot provided \\nTrial Description \\nBrief Title * \\nICMJE \\nNorepinephrine Versus Phenylephrine Continuous Variable Infusion in Cesarean Delivery \\nO\\u00a8cial Title *\\u00a7 ICMJE \\nNorepinephrine Versus Phenylephrine Continuous Variable Infusion for Prevention of Post-spinal Hypotension During Cesarean Delivery: A Randomized Controlled Double-blinded Trial \\nBrief Summary * \\nComparison will be conducted between continuous variable infusions of Phenylephrine with starting dose of 0.75 mcg/Kg/min and Norepinephrine Bitartrate with starting dose of 0.1 mcg/Kg/min (with norepinephrine base of 0.05 mcg/Kg/min) for prophylaxis against Post-spinal hypotension during cesarean delivery \\nDetailed Description \\nMaternal hypotension is a common complication after spinal anesthesia for cesarean delivery (CD). Many vasopressors have been used for prevention of post-spinal hypotension (PSH) during CD; however, the optimum protocol for prophylaxis is not established yet. Phenylephrine \\n(PE) is a popular vasopressor used in obstetric anesthesia; however, its use is limited by its marked cardiac depressant nature. Norepinephrine (NE) is a potent vasopressor characterized by both \\u03b1 adrenergic agonistic activity in addition to a weak \\u03b2 adrenergic agonistic activity; thus, NE is considered a vasopressor with minimal cardiac depressant effect; these pharmacological properties would make NE an attractive alternative to PE. In this study, the investigators will compare continuous variable infusion of both drugs (PE and NE) with doses of 0.75 mcg/Kg/min and 0.05 mcg/Kg/min respectively for prophylaxis against PSH during CD. We used Norepinephrine Bitartrate 8 mg ampules which contains norepinephrine base of 4 mg. \\nStudy Type * \\nInterventional \\nICMJE \\nStudy Phase * \\nICMJE \\nPhase 4 \\nStudy Design *\\u00a7 \\nICMJE \\nAllocation \\nRandomized \\nInterventional Model \\nParallel Assignment \\nMasking \\nTriple (Participant, Care Provider, Outcomes Assessor) \\nPrimary Purpose \\nPrevention \\nCondition * \\nICMJE \\nCesarean Section Complications \\nSpinal Anesthesia \\nIntervention * \\nICMJE \\nDrug: Phenylephrine \\nPhenylephrine variable infusion with a starting rate of 0.75 mcg/Kg/min. \\nDrug: Norepinephrine \\nNorepinephrine bitartrate variable infusion with a starting rate of 0.1 mcg/Kg/min (equivalent to norepinephrine base of 0.05 mcg/Kg/min). Other Names: \\nLevophed \\nDrug: Bupivacaine \\nBupivacaine will be injected in the subarachnoid space with a dose of 10 mg. \\nOther Names: \\nMarcaine \\nStudy Arms * \\nICMJE \\nActive Comparator: Phenylephrine \\nWill receive spinal anesthesia using Bupivacaine. Then, phenylephrine infusion by a starting rate of 0.75 mcg/Kg/min. The rate will be then adjusted according to the patient blood pressure. The infusion will stop in case of reactive hypertension. The infusion will start again when blood pressure returns to normal reading. Infusion will be increased by 20% if hypotension occurred. \\nInterventions: \\nDrug: Phenylephrine \\nDrug: Bupivacaine \\nExperimental: Norepinephrine \\nWill receive spinal anesthesia using Bupivacaine. Then, norepinephrine bitartrate infusion by a starting rate of 0.1 mcg/Kg/min (equivalent to norepinephrine base of 0.05 mcg/Kg/min). The rate will be then adjusted according to the patient blood pressure. The infusion will stop in case of reactive hypertension. The infusion will start again when blood pressure returns to normal reading. Infusion will be increased by 20% if hypotension occurred. \\nInterventions: \\nDrug: Norepinephrine \\nDrug: Bupivacaine \\nPublications \\n(Includes general and study results\\u2019 publications, and Pubmed publications referencing this study by ClinicalTrials.gov Identifier (NCT Number)) \\nNot provided \\nRecruitment Information \\nRecruitment Status * \\nICMJE \\nCompleted \\nICMJEEnrollment (Actual) *\\u00a7 (Submitted: 2018-07-14) 123 ICMJEOriginal Enrollment (Estimated) *\\u00a7 (Submitted: 2017-10-30) 90 ICMJEStudy Start Date (Actual) *\\u00a7 2017-11-10 Primary Completion Date (Actual) * 2018-05-01 (Final data collection date for primary outcome measure) ICMJEStudy Completion Date (Actual) *\\u00a7 2018-05-05 ICMJEEligibility Criteria * Inclusion Criteria: Full term Pregnant women Scheduled for cesarean section Exclusion Criteria: Pre-eclampsia Eclampsia Bleeding Cardiac dysfunction Researcher View | Norepinephrine Versus Phenylephrine Continuous Variable Infusion in Cesarean Delivery | ClinicalTrials.gov \\nSex/Gender * \\nICMJE \\nSexes Eligible for the Study: \\nFemale \\nAges * \\nICMJE \\n18 Years to 40 Years (Adult ) \\nAccepts Healthy Volunteers *\\u00a7 \\nICMJE \\nNo \\nLocation Countries \\nICMJE \\nEgypt \\nRemoved Location Countries \\nAdministrative Information \\nNCT Number \\nICMJE \\nNCT03328533 \\nOther Study ID Numbers [*] \\nN-82-2017 \\nICMJE \\nHas Data Monitoring Committee \\nYes \\nU.S. FDA-regulated Product *\\u00a7 \\nStudies a U.S. FDA-regulated Drug Product \\nNo \\nStudies a U.S. FDA-regulated Device Product \\nNo \\nIPD Sharing Statement \\nICMJE \\nPlan to Share IPD: \\nNo \\nCurrent Responsible Party * \\nAhmed Hasanin, Cairo University \\nOriginal Responsible Party * \\nSame as current \\nCurrent Study Sponsor * \\nICMJE \\nCairo University \\nOriginal Study Sponsor * \\nICMJE \\nSame as current \\nCollaborators \\nICMJE \\nNot provided \\nInvestigators \\nICMJE \\nStudy Director: \\nAhmed M Mukhtar, Professor \\nHead of research committee section in anesthesia department \\nPRS Account \\nCairo University \\nSymbol Legend \\n* \\nRequired \\n*\\u00a7 \\nRequired if Study Start Date is on or after January 18, 2017 \\n[*] \\nConditionally required \\nNo Symbol \\nUnmarked fields are optional. If no information is provided, fields will be labeled as \\\"not provided\\\" \\nICMJE \\nInternational Committee of Medical \\nData element required by the \\nJournal \\nEditors \\n(https://www.icmje.org/recommendations/browse/publishing-and-editorial-issues/clinical-trial-registration.html) and the World Health Organization ICTRP (https://www.who.int/clinical-trials-registry-platform) \",\n          \"Translated from Portuguese to English - www.onlinedoctranslator.com \\n(<https://doi.org/10.1016/j.bjan.2020.04.017>)Rev Bras Anestesiol. 2020;70(5):500--507 \\nCLINICAL STUDIES \\nThe effect of epinephrine, norepinephrine and phenylephrine in the treatment of post-spinal anesthesia hypotension: comparative clinical study \\nEbru Biricik (<https://orcid.org/0000-0002-3355-198X>)The,\\u2217, Feride KaracaerThe, \\u0130lker \\u00dcnalB, Mete Sucuwand Hakk\\u0131 \\u00dcnl\\u00fcgen\\u00e7The \\nThe Cukurova University, Faculty of Medicine, Department of Anesthesiology and Reanimation, Adana, T\\u00fcrkiye \\nB Wukurova University, Faculty of Medicine, Department of Statistics, Adana, T\\u00fcrkiye w Wukurova University, Faculty of Medicine, Department of Obstetrics and Gynecology, Adana, T\\u00fcrkiye \\nReceived December 18, 2019; accepted on April 18, 2020 Available online on September 2, 2020 \\nKEY WORDS \\nSpinal anesthesia; \\nHypotension; \\nEpinephrine; \\nNorepinephrine; \\nPhenylephrine \\nSummary \\nJustification and objectives:There are limited data on the safety and efficiency of epinephrine in the prophylaxis and treatment of arterial hypotension associated with spinal anesthesia. The present study was carried out to compare the effect of epinephrine with norepinephrine and phenylephrine in the treatment of hypotension after spinal anesthesia and the need for ephedrine during cesarean delivery. Method:160 parturients with uncomplicated pregnancies who underwent elective cesarean section under spinal anesthesia were recruited. They were randomly allocated to receive norepinephrine 5 -g.mL-1(n = 40), epinephrine 5 -g.mL-1(n = 40), phenylephrine 100 -g.mL-1(n = 40) or infusion of 0.9% saline NaCl solution (n = 40) immediately after induction of spinal anesthesia. Whenever there was a reduction in systolic blood pressure below 80% of the baseline, 5 mg of ephedrine iv was administered as a rescue vasopressor. The incidence of hypotension, total number of hypotensive episodes, number of patients requiring ephedrine, average ephedrine consumption, and side effects were recorded. Results:There was no statistically significant difference in the incidence of maternal hypotension between the groups. The number of patients requiring ephedrine was significantly higher in the saline group than in the phenylephrine group ( P<0.001). However, it was similar between the phenylephrine, norepinephrine and epinephrine groups. The average consumption of ephedrine was significantly higher in the saline solution group than in the norepinephrine, epinephrine and phenylephrine groups ( P=0.001). \\nConclusion:There was no statistically significant difference in the incidence of hypotension and ephedrine consumption during spinal anesthesia for cesarean section using epinephrine. \\n\\u2217Corresponding author. Email:eb(<mailto:ebrubiricik01@gmail.com>)rubiricik01@gmail.com (E. Biricik). \\n(<https://doi.org/10.1016/j.bjan.2020.04.017>)https://doi.org/10.1016/j.bjan.2020.04.017 \\u00a9 2020 Brazilian Society of Anesthesiology. Published by Elsevier Editora Ltda. This is an Open Access article under a CC BY-NC-ND license ( http://creat(<http://creativecommons.org/licenses/by-nc-nd/4.0/>)ivecom(<http://creativecommons.org/licenses/by-nc-nd/4.0/>)mons.org/licenses(<http://creativecommons.org/licenses/by-nc-nd/4.0/>)/by-n(<http://creativecommons.org/licenses/by-nc-nd/4.0/>)c-nd/4.0/(<http://creativecommons.org/licenses/by-nc-nd/4.0/>)). \\nwhen compared to norepinephrine or phenylephrine. Epinephrine can be considered as an alternative agent for the treatment of hypotension after spinal anesthesia. \\neativeco\\nmmons.org/licens\\nes/b\\nync-nd/4.\\n0/). \\n\\u00a9 2020 Brazilian Society of Anesthesiology. Published by Elsevier Editora Ltda. This is an Open Access article under a CC BY-NC-ND license (http://cr\\nKEYWORDS \\nSpinal anesthesia; \\nHypotension; \\nEpinephrine; \\nNorepinephrine; \\nPhenylephrine \\nThe effect of epinephrine for the treatment of spinal-hypotension: comparison with norepinephrine and phenylephrine, clinical trial \\nAbstract \\nBackground and objectives:Limited data are present on safety and efficiency of epinephrine for the prophylaxis and treatment of spinal-hypotension. This study was conducted to compare the effect of epinephrine with norepinephrine and phenylephrine on the treatment of spinal hypotension and ephedrine requirement during cesarean delivery. \\nMethods:One hundred and sixty parturients with uncomplicated pregnancies undergoing elective cesarean delivery under spinal anesthesia were recruited. They were allocated randomly to receive norepinephrine 5 -g.mL-1(n = 40), epinephrine 5 -g.mL-1(n = 40), phenylephrine 100 -g.mL-1(n = 40) or 0.9% saline infusions (n   = 40) immediately after induction of spinal anesthesia. Whenever systolic blood pressure drops to less than 80% of baseline, 5 mg of iv ephedrine was administered as rescue vasopressor. The incidence of hypotension, total number of hypotension episodes, the number of patients requiring ephedrine, the mean amount of ephedrine consumption and side effects were recorded. \\nResults:There was no statistically significant difference in incidence of maternal hypotension between groups. The number of patients requiring ephedrine was significantly greater in group saline than in group phenylephrine ( p<0.001). However, it was similar between phenylephrine, norepinephrine, and epinephrine groups. The mean ephedrine consumption was significantly higher in group saline than in norepinephrine, epinephrine, phenylephrine groups ( P=0.001). Conclusion:There is no statistically significant difference in incidence of hypotension and ephedrine consumption during spinal anesthesia for cesarean delivery with the use of epinephrine when compared to norepinephrine or phenylephrine. Epinephrine can be considered as an alternative agent for management of spinal hypotension. \\ncreative\\ncommons.org/lice\\nnses\\n/bync-nd/ \\n4.0\\n/). \\n\\u00a9 2020 Brazilian Society of Anesthesiology. Published by Elsevier Editora Ltda. This is an open access article under the CC BY-NC-ND license (http://\\nIntroduction \\nSeveral studies have demonstrated that vasopressors --- agonists are still the most reliable drugs for managing hypotension after spinal anesthesia during cesarean section.1--3 Currently(<>), phenylephrine is the vasopressor of choice in the prevention and treatment of hypotension induced by spinal anesthesia, due to its pure agonistic effect.4 However, the drug can cause bradycardia and reduced Cardiac Output (CO), even at clinically effective doses.2.3 \\nNorepinephrine maintains blood pressure as effectively as phenylephrine and preserves Heart Rate (HR) and CO within normal limits as it also has additive effects.5However, norepinephrine may have a sli(<>)ght effect on CO and HR, as it increases afterload through stimulation of --1 receptors, causing reflex bradycardia.6Therefore, the drug has been recommended in the treatme(<>)nt of hypotension induced by spinal anesthesia during cesarean section. Similarly, in North America, norepinephrine, ephedrine, and epinephrine have also been recommended as first-line vasopressors for the treatment of hypotension after \\ny.\\nspinal anesthesia during cesarean deliver7Furthermore, in a statement present in international consensus guidelines, epinephrine was recommended only for circulatory collapse.4 \\nIndeed, in the obstetric setting, epinephrine is a medication used less frequently by anesthesiologists in the prophylaxis and treatment of hypotension after spinal anesthesia during cesarean section. In the literature, there is only one study comparing the effect of epinephrine with phenylephrine in the treatment of hypotension after spinal anesthesia with hyperbaric tetracaine.8 \\nensi\\nAlthough some studies have compared the effect of phenylephrine and norepinephrine in the treatment of post-spinal anesthesia hypoton,5.9There is little evidence on the effect of epinephrine in the treatment of hypotension after spinal anesthesia and comparisons with other vasopressors. However, debates and studies determining the best vasopressors for prevention and treatment of post-spinal hypotension during cesarean section are still ongoing. \\nOur hypothesis was that epinephrine would be more effective than norepinephrine and phenylephrine in treating post-spinal hypotension during cesarean section. Like this, \\nthe primary outcome of this study was the incidence of intraoperative maternal hypotension, and the secondary outcomes were total ephedrine consumption and maternal and neonatal outcomes. \\nMethod \\nThis study was approved by the University Institutional Review Board (IRB decision number; 64/6). Written informed consent was obtained from all participants. The study was registered before patient recruitment in the clinicaltrials.gov( NCT03163914) and carried out between July 2017 and March 2018. \\nStudy protocol \\nThis prospective, double-blind, randomized, controlled, phase IV study was conducted to compare the effect of epinephrine with norepinephrine and phenylephrine in the treatment of post-spinal anesthesia hypotension and the need for ephedrine during cesarean delivery. After obtaining written informed consent from the patient, 160 patients with American Society of Anesthesiologists (ASA) physical status I \\u2212 II were recruited. Patients aged between 18 and 42 years were selected for elective cesarean section under spinal anesthesia. Exclusion criteria were the presence of respiratory, hepatic, renal or cardiovascular disease, patients with a Body Mass Index (BMI) > 45 kg.m-two and any contraindication to regional anesthesia. A fasting period of 6 \\u2212 8 hours was respected and premedication was not administered before surgery. An 18G venous catheter was installed in the upper limb. \\nMonitoring and measurements \\nAll patients were monitored with Non-Invasive Blood Pressure (NIBP), Electrocardiogram (ECG) and Peripheral Oxygen Saturation (SpO2). Upon arrival at the operating room, patients were positioned in the supine position with left lateral inclination. HR and Systolic Blood Pressure (SBP) were measured three times, and the mean HR and SBP were accepted as baseline values. SBP, Diastolic Blood Pressure (DBP), Mean Blood Pressure (MAP), and HR were measured preoperatively and at 1-minute intervals for 15 minutes and then at 2.5-minute intervals until the end of surgery. \\nSpinal anesthesia \\nSpinal anesthesia was performed in all participants by administering a combination of hyperbaric bupivacaine (10 mg) and fentanyl (20 g). The drugs were injected with the patients in a sitting position using a 25G pencil tip bevel needle, through the L3 \\u2212 L4 or L4 \\u2212 L5 intervertebral space. Immediately after spinal anesthesia injection, the patient was positioned in the supine position and left lateral inclination of 15\\u25e6\\u221220\\u25e6and study medications were started. Oxygen was not administered unless the SpO2 value was less than 94%. The maximum height of the sensory block was assessed by a \\ninvestigator every 3 minutes, until the same dermatome level was confirmed in three consecutive assessments. This dermatome was accepted as the maximum height of the sensory block. Surgery was started when the sensory block was above the T5 dermatome. The investigator was blinded to agent/study group allocation. \\nRandomization \\nPatients were allocated to one of four study groups using a computer-generated sequence of permuted blocks of eight. Four syringes were prepared by an investigator blinded to the study groups, and were marked only with a coded label to preserve the double-blind nature of the study. The medications were diluted in 5% dextrose solution in syringes with a capacity of 50 mL, which were labeled as ''study medication'' and contained a volume of 30 mL. The syringes were identical and contained 150 g of norepinephrine (5 g.mL-1), 150 -g of epinephrine (5 -g.mL-1), 3 mg of phenylephrine (100 -g.mL-1) and the same volume of saline solution (30 mL). \\nStudy design \\nIn accordance with the study protocol and randomization procedures, 5-g.mL solutions-1of norepinephrine (norepinephrine group), 5 -g.mL-1of epinephrine (epinephrine group), 100 -g.mL-1of phenylephrine (phenylephrine group) and 0.9% NaCl solution (saline group) were infused immediately after induction of spinal anesthesia. All study medications were infused at a fixed rate of 30 mL.h-1maintained until the end of surgery. Rapid iv cohydration was administered using Lactated Ringer's (RL) solution, with the roller clamp fully open to a maximum of 2 L, after which the infusion was reduced to a slow maintenance rate. \\nA SBP value lower than 80% of the baseline (prenatal) SBP was considered hypotension. When SBP fell to <80% of baseline, 5 mg of ephedrine iv was administered as a rescue vasopressor, regardless of group. The incidence of hypotension, the total number of episodes of hypotension during surgery (the magnitude of hypotension), the number of patients who required ephedrine, the average amount of ephedrine and atropine consumed, and adverse effects such as bradycardia and hypertension. Bradycardia was defined as a HR < 60 beats.min-1and was corrected with a dose of 0.5 mg atropine sulfate iv bolus. Hypertension, considered SBP > 120% of baseline, was treated by stopping vasopressor infusion. Study drug infusion was restarted when SBP decreased below the maximum level of the target range (< 80% of baseline SBP). \\nData collection \\nTwo researchers participated as anesthesia provider and data collector. The first investigator, responsible for the case, performed spinal anesthesia, administered agents \\nand study fluids, supervised the patients, and recorded the maximum height of the sensory block. The other investigator, blinded to study medications, recorded hemodynamic parameters, ephedrine consumption, and adverse effects. \\nParticipants' demographic data (age, height and weight), birth characteristics (parity, BMI and indication for cesarean section) and duration of surgery were collected. The time from intrathecal injection of local anesthetic + fentanyl to skin incision and the time from skin incision to fetal delivery were calculated and recorded. The newly - newborns were evaluated by a pediatrician after birth, and Apgar scores were recorded in the first and fifth minutes. Fetal blood samples were collected from the umbilical cord vein to measure umbilical blood gases. All blood gas samples were measured immediately using an ABL800 FlexQ device (XLab solution, Denmark). \\nPost-operative recovery \\nPatients were transported to the Post-Anesthetic Care Unit (PACU) for follow-up after surgery. In the PACU, hemodynamic variables, regression of motor and sensory blockade and adverse effects were evaluated. Discharge criteria were stable vital signs, complete reversal of motor blockade and adequate analgesia (verbal pain scores < 4), absence of nausea, vomiting and pruritus. \\nStudy power analysis \\n10\\n10\\nDetermination of study power was based on the study by Tsen et al. carried out in a similar clinical situation.(<>)Using data from that study, the primary objective of the present study was the incidence of intraoperative maternal hypotension. We determined that 38 patients would be needed in each group to determine a 35% difference in the incidence of hypotension between the saline group (incidence of hypotension: 70%)(<>)and the vasopressor groups (incidence of hypotension of 35% expected in each group) ( = 0.1; - = 0.05; 0.35:0.35:0.35:0.70). Nevertheless, to compensate for losses and improve statistical power, 40 patients were recruited for each group. \\nStatistical analysis \\nCategorical variables are described in absolute numbers and percentages, while continuous variables are expressed as mean and standard deviation. The chi test - square was chosen to compare categorical variables between groups. The normality of the distribution of continuous variables was confirmed by the Shapiro-Wilk test. For group comparisons, one-way analysis of variance (ANOVA) or the Kruskal-Wallis test was chosen, depending on the fulfillment of statistical hypotheses. For normally distributed data regarding homogeneity of variances, the Tukey or Games & Howell tests were used for multiple group comparisons. For non-normally distributed data, the U test \\nBonferroni-corrected Mann-Whitney score was used for multigroup comparisons. A value of P<0.05 was considered statistically significant. Statistical analyzes were performed using the statistical software package IBM SPSS Statistics Version 20.0 (IBM Corp., Armonk, NY, USA, released 2011). \\nResults \\nWe included 160 patients and the entire study protocol was complet(<>)ed (fig. 1). Demographic data (age, weight and height), birth characteristics (BMI, parity and indication for cesarean section) and duration of surgery are described (<>)intable (<>)1. The maximum level of sensory block, the time between intrathecal injection and skin incision, and the time between skin incision and fetal extraction were similar (table 2(<>)). \\nThe hemodynamic variables of SBP in the perioperative period are shown infigur(<>)e 2. Throughout the study, transient decreases and increases in blood pressure values   were observed. These variables (SBP, DBP, and MAP) were similar between groups, suggesting that SBP was maintained by study medications and/or ephedrine at baseline levels. \\nThe incidences of hypotension are shown intable 3. Th(<>)ere (<>)were no statistically significant differences in the incidence of intraoperative maternal hypotension between the groups ( P= 0.625). Twenty-eight (70%) participants in the norepinephrine group, 29 (72.5%) in the epinephrine group, 27 (67.5%) in the phenylephrine group versus32 (80%) participants in the saline group experienced one or more episodes of hypotension. Only 17 (42.5%) participants in the norepinephrine group, 18 (45%) in the epinephrine group, 9 (22.5%) in the phenylephrine group, and 26 (65%) participants in the saline group required rescue ephedrine for correction. of hypotension associated with spinal anesthesia. There was a significant difference between the saline solution and phenylephrine groups in terms of the number of participants who required ephedrine ( P=0.001). However, there was no significant difference between the phenylephrine, norepinephrine and epinephrine groups. \\nThe mean number of hypotension episodes during anesthesia is shown in table 3. There were no statistically significant differences in the number of hypotension episodes between the groups (fig. 3). The a(<>)verage consumption of ephedrine was significantly higher in the saline solution group compared to the norepinephrine, epinephrine and phenylephrine groups ( P=0.001) Although the phenylephrine group consumed less ephedrine when compared to the other groups, there were no significant differences between the phenylephrine, norepinephrine and epinephrine groups. \\nThere was no statistically significant difference in the incidence of bradycardia and mean atropine consumption between the grou(<>)ps (table (<>)3). The average consumption of norepinephrine, epinephrine and phenylephrine in the groups during anesthesia was 78.6\\u00b113.7 -g, 87\\u00b114.2 -ge 1487\\u00b1249 -g, respectively. \\n(table 3\\nApgar scores and umbilical venous blood gas analysis are shown in Table 2. The incidences of side effects (hypertension, bradycardia, nausea, vomiting) in the groups were similar, without significant differences (<>)). \\nFigure 1 Flowchart. \\nTable 1 Demographic data and characteristics of parturients, duration of surgery in groups \\nNE Group \\n(n = 40) \\nGroup E \\n(n = 40) \\nPE Group \\n(n = 40) \\nGroup S \\n(n = 40) \\nAge (years), average\\u00b1 DP Weight (kg), \\n30.8\\u00b15.3 \\n30\\u00b14.5 \\n31.5\\u00b15.9 \\n31.9\\u00b16 \\naverage\\u00b1 DP Height (cm), average\\u00b1 DP BMI \\n79.8\\u00b19.9 \\n83.4\\u00b110.9 \\n82.5\\u00b19.6 \\n82.4\\u00b112.3 \\n(kg.cm-two ), average\\u00b1 SD Parity, median \\n1.62\\u00b10.04 \\n1.64\\u00b10.04 \\n1.63\\u00b10.03 \\n1.63\\u00b10.04 \\n(IQR) Average duration of surgery (min)\\u00b1 DP \\n29.9\\u00b12.6 \\n30.8\\u00b13.1 \\n30.8\\u00b12.5 \\n30.5\\u00b13.1 \\nIndication for cesarean section \\n2 (1) \\n2.5 (1.75) \\n2.5 (1) \\n3 (1) \\n31.4\\u00b15.5 \\n33.2\\u00b15.5 \\n29.75\\u00b14.9 \\n30.8\\u00b16.7 \\nPrevious cesarean section \\n34 (85%) \\n35 (87%) \\n35 (87%) \\n36 (90%) \\nSFA \\n4 (10%) \\n3 (7.5%) \\n4 (10%) \\n3 (7.5%) \\nOthers \\n2 (5%) \\n2 (5%) \\n1 (2.5%) \\n1 (2.5) \\nResults are presented as Average\\u00b1SD or Median. IQR, Interquartile Range; BMI, Body Mass Index; SFA, Acute Fetal Distress; NE, Norepinephrine; E, Epinephrine; PE, Phenylephrine; S, 0.9% NaCl solution. \\nTable 2 Values   in groups for Apgar score and umbilical cord gases \\nNE Group \\n(n = 40) \\nGroup E \\n(n = 40) \\nPE Group \\n(n = 40) \\nGroup S \\n(n = 40) \\nP \\nApgar scores (median IQR) \\n1 min \\n8 (1) \\n9 (1)Th(<>)e \\n8 (1) \\n8 (2) \\n0.001 \\n5 min \\n9 (1) \\n10 (1)Th(<>)e \\n9.5 (1) \\n9 (1) \\n0.016 \\nMedian umbilical venous blood gas analysis (IQR) pH \\n7.34 (0.06)The \\n7.32 (0.05)The \\n7.31 (0.03)The \\n7.3 (0.06) \\n0.001 \\npCOtwo(mmHg) \\n39.8 (3.48) \\n37.8 (5.88) \\n39.8 (3.5) \\n39.1 (5.1) \\n0.151 \\ndusttwo(mmHg) \\n24.2 (7.48) \\n28.6 (7.45) \\n28.4 (5.3) \\n27.1 (7.6) \\n0.273 \\nExcess base (mmoL.L-1) \\n- 1.25 (3.75)Th(<>)e \\n- 3.35 (4.48)Th(<>)e \\n- 4.3 (1.28)Th(<>)e \\n- 4.7 (2) \\n0.001 \\nData presented as Median (IQR, Interquartile Range). \\nThe P<0.05 compared to Group S. dusttwo, Partial Pressure of Oxygen; pCOtwo, Carbon Dioxide Pressure; NE, Norepinephrine; E, Epinephrine; PE, Phenylephrine; S, 0.9% NaCl solution. \\nDiscussion \\nOur results showed that the epinephrine group had a similar incidence of hypotension and ephedrine consumption to the norepinephrine and phenylephrine groups during spinal anesthesia for cesarean section. The saline group consumed significantly more ephedrine when compared to the vasopressor groups, suggesting that hypotension was significantly more pronounced in this group. \\nAlthough structurally analogous, epinephrine and norepinephrine exert different effects in terms of their affinities for adrenergic receptor subtypes. Norepinephrine acts mainly by stimulating -receptors, but also has a weak adrenergic effect.5Epinephrine interacts with the same recept(<>)ors as norepinephrine, but has a greater affinity for the receptors - e when compared to norepinephrine.11 Phenylephrine is an agonist \\npharmacological nephrin and epi \\nhave theoretical advantages of additional beta effects when compared to phenylephrine. \\nTo establish placental perfusion and oxygen delivery to the fetus during spinal anesthesia, effective management of hypotension is essential. Studies have shown that placental perfusion and oxygen delivery to the fetus are mainly related to maternal CO and HR rather than SBP.5.12 Preliminary studies compa(<>)ring norepinephrine with phenylephrine have shown that norepinephrine better preserves placental blood flow compared to phenylephrine. 5.13In 2015, Nagn Kee et al. sug(<>)gested that this finding was mainly attributed to the additional -adrenergic effects of norepinephrine.5However, the same group in a previou(<>)s study reported that combinations of ephedrine and phenylephrine were superior to phenylephrine alone.14In the present study, the observatio(<>)n in the phenylephrine group of fewer patients requiring ephedrine administration and lower consumption of \\na vasopress \\nFigure 2 Systolic blood pressure in the groups. Variations in systolic blood pressure in the first 25 minutes after induction of spinal anesthesia in the four groups. NE, Norepinephrine; E, Epinephrine; PE, Phenylephrine; S, 0.9% NaCl solution. \\nFigure 3 Total number of hypotension episodes. The number Total number of hypotension episodes reflects the magnitude of hypotension in the groups. NE, Norepinephrine; E, Epinephrine; PE, Phenylephrine; S, 0.9% NaCl solution. \\nTable 3 Comparison of maternal outcomes and side effects \\nNE Group (n = 40) \\nGroup E \\n(n = 40) \\nPE Group \\n(n = 40) \\nGroup S \\n(n = 40) \\nP \\nMaximum sensory block height n (%) \\n0.805 \\nT3 \\u2212 4 \\n23 (57%) \\n19 (47%) \\n19 (47%) \\n21 (53%) \\nT4 \\u2212 5 \\n17 (43%) \\n21 (53%) \\n21 (53%) \\n19 (47%) \\nTime between intrathecal injection and incision in the skin (min) \\n7\\u00b10.6 \\n6.9\\u00b10.5 \\n6.9\\u00b10.5 \\n6.8\\u00b10.3 \\n0.466 \\nTime between skin incision and extraction of the fetus (min) \\n4.5\\u00b10.4 \\n4.7\\u00b10.5 \\n4.6\\u00b10.4 \\n4.6\\u00b10.4 \\n0.228 \\nIncidence of hypotension n (%) Average \\n28 (70%) \\n29 (72.5%) \\n27 (67.5%) \\n32 (80%) \\n0.625 \\nnumber of hypotension episodesThe \\n3.53\\u00b14.4 \\n3.2\\u00b14.2 \\n2.88\\u00b13.6 \\n4.8\\u00b15.2 \\n0.228 \\nNumber of patients who needed ephedrine n (%) \\n17 (42.5%) \\n18 (45%) \\n9 (22.5%)B \\n26 (65%) \\n0.001 \\nAverage ephedrine consumption \\n3.7\\u00b15.1B \\n3.5\\u00b14.4B \\n2.1\\u00b14.7B \\n9.1\\u00b18 \\n0.001 \\n(mg) Total atropine dose (-g) Side effects \\n62.5\\u00b1167 \\n37.5\\u00b1133 \\n75\\u00b1180 \\n62.5\\u00b1167 \\n0.770 \\nBradycardia \\n5 (12.5%) \\n3 (7.5%) \\n6 (15%) \\n5 (12.5%) \\n0.752 \\nNausea \\n7 (17.5%) \\n5 (12.5%) \\n5 (12.5%) \\n8 (20%) \\n0.734 \\nVomiting \\n3 (8%) \\n2 (12.5%) \\n3 (7.5%) \\n6 (15%) \\n0.452 \\nResults are presented as n (%) or, mean\\u00b1DP. \\nTheMagnitude of hypotension. \\nB P<0.05 compared to Group S, Mann Whitney-U. \\nNE, Norepinephrine; E, Epinephrine; PE, Phenylephrine; S, 0.9% NaCl solution; min, minutes, mg, milligrams; -g, micrograms. \\nUsing different doses or relative concentrations, several studies have compared the potency of phenylephrine and norepinephrine in patients undergoing spinal anesthesia.5.15 Ngan Kee et al. compared previously described solutions of 5 -g.mL-1of norepinephrine versus100 -g.mL-1of phenylephrine administered with a computer-controlled infusion and suggested an approximate potency ratio of 20:1.5 When we began this study, the known potency ratio of norepinephrine to phenylephrine was 20:1,5ther(<>)efore, we used this power relationship in the study design. However, the same authors in a more recent study revised the power ratio to 13.1:1.9 \\nwi\\nThere are few studies evaluating the effectiveness of epinephrine in treating hypotension during regional anesthesia.(<>)8.16 Brooker et al. compared the effect of epinephrine with phenylephrine in the treatment of hypotension after hyperbaric spinal anesthesia th tetracaine.8In their study, patients received bolus and infusion doses of epinephrine or phenylephrine in a 10:1 ratio. In our study, we chose a potency ratio of 1:1:20 for epinephrine norepinephrine phenylephrine, respectively. Notwithstanding these discrepancies, further dose-finding studies are needed to identify the exact potency ratios between these medications. \\nVasopressors administered prophylactically with a constant infusion rate reduce the severity and incidence of maternal hypotension. Results obtained in a study to determine doses suggested that the range for initial doses between 25 and 50 -g.min-1may be preferable for prophylactic phenylephrine infusions when compared to the initial infusion range between 75 and 100 -g.min-1.17Therefore, in the prese(<>)nt study, we used phenylephrine infusion doses of 50 -g.min-1(3 mg.hour-1). Epinephrine and norepinephrine infusion rates have also been established for \\n2.5 -g.min-1, obeying the potency ratio of phenylephrine. Different concentrations or relative doses should be explored in other studies. \\nWe found no significant difference between the four groups for the incidence of post-spinal anesthesia hypotension. However, ephedrine consumption was significantly higher in the saline solution group than in the vasopressor groups. The greater consumption of ephedrine was attributed to the more profound magnitude of post-spinal anesthesia hypotension in this group. Therefore, this study supports the concept that ephedrine consumption may not always be related to the incidence of post-spinal anesthesia hypotension. \\nPatients in all groups consumed more atropine than usual; possibly because we define bradycardia as HR less than 60 beats.min-1 instead of 50 beats.min-1. Furthermore, participants in the epinephrine group required less atropine compared to participants in the other vasopressor groups, possibly due to the potent effect 1 and less reflex bradycardia of this vasopressor. \\nAlthough the safety of any proposed new vasopressor is always a concern, this study evaluated the safety of epinephrine infusion using fetal umbilical blood gases and Apgar scores. Base excess and pH values   from gas analyzes in umbilical venous blood were significantly lower in the saline solution group than in the vasopressor groups. The lower BE and umbilical venous pH values   in the saline solution group may be related to the decrease in uteroplacental oxygen supply, when compared to the vasopressor groups. Low et al. stated that Ph < 7.1 and BE less than -12 mEq.L-1may be a cause for concern.18In our study, pH and BE values   were significantly higher than values \\nclinically critical in all groups (pH > 7.1 and BE > - 12 mEq.L-1 ). \\nolam\\nOur study has some limitations. First, we found no significant differences between the four groups for the incidence of post-spinal anesthesia hypotension. If we increased the number of patients or the doses of vasopressors, we could find a significant difference between the saline solution and vasopressor groups. Second, we did not measure CO changes during drug infusions because we did not have access to a CO monitor. Studies evaluating the CO response associated with phenylephrine have shown that CO changes occur in parallel with HR changes.1,19,20In our study, HR changes were similar (<>)between groups. Finally, we did not evaluate catecholamine safety metrics. The neonatal safety profiles of maternal catecholamines in pregnancy are potentially concerning, however, catecholamines do not cross the placenta in appreciable quantities, thanks to the metabolization of catecholamines in the placenta.21.22Furthermore, data from human studies on the fetal effects of catechines are encouraging.21 \\nIn conclusion, there were no statistically significant differences in the incidences of hypotension and ephedrine consumption during spinal anesthesia for cesarean section with epinephrine, when compared to norepinephrine or phenylephrine. Epinephrine can be considered as an alternative agent for the treatment of post-spinal anesthesia hypotension. Additional, larger studies are needed to demonstrate the safety and efficacy of epinephrine. \\nInterest conflicts \\nThe authors declare no conflicts of interest \\nReferences \\n1.\\nH(<http://refhub.elsevier.com/S0034-7094(20)30402-5/sbref0115>)abib A(<http://refhub.elsevier.com/S0034-7094(20)30402-5/sbref0115>)S. A (<http://refhub.elsevier.com/S0034-7094(20)30402-5/sbref0115>)rev(<http://refhub.elsevier.com/S0034-7094(20)30402-5/sbref0115>)iew of t(<http://refhub.elsevier.com/S0034-7094(20)30402-5/sbref0115>)he (<http://refhub.elsevier.com/S0034-7094(20)30402-5/sbref0115>)imp(<http://refhub.elsevier.com/S0034-7094(20)30402-5/sbref0115>)act of ph(<http://refhub.elsevier.com/S0034-7094(20)30402-5/sbref0115>)en(<http://refhub.elsevier.com/S0034-7094(20)30402-5/sbref0115>)ylephrine admin(<http://refhub.elsevier.com/S0034-7094(20)30402-5/sbref0115>)istration (<http://refhub.elsevier.com/S0034-7094(20)30402-5/sbref0115>)on mat(<http://refhub.elsevier.com/S0034-7094(20)30402-5/sbref0115>)ern(<http://refhub.elsevier.com/S0034-7094(20)30402-5/sbref0115>)al hemody(<http://refhub.elsevier.com/S0034-7094(20)30402-5/sbref0115>)namics and ma(<http://refhub.elsevier.com/S0034-7094(20)30402-5/sbref0115>)tern(<http://refhub.elsevier.com/S0034-7094(20)30402-5/sbref0115>)al and neo(<http://refhub.elsevier.com/S0034-7094(20)30402-5/sbref0115>)nata(<http://refhub.elsevier.com/S0034-7094(20)30402-5/sbref0115>)l (<http://refhub.elsevier.com/S0034-7094(20)30402-5/sbref0115>)outcomes (<http://refhub.elsevier.com/S0034-7094(20)30402-5/sbref0115>)in (<http://refhub.elsevier.com/S0034-7094(20)30402-5/sbref0115>)women (<http://refhub.elsevier.com/S0034-7094(20)30402-5/sbref0115>)undergoing (<http://refhub.elsevier.com/S0034-7094(20)30402-5/sbref0115>)cesarean (<http://refhub.elsevier.com/S0034-7094(20)30402-5/sbref0115>)delivery (<http://refhub.elsevier.com/S0034-7094(20)30402-5/sbref0115>)under (<http://refhub.elsevier.com/S0034-7094(20)30402-5/sbref0115>)spinal (<http://refhub.elsevier.com/S0034-7094(20)30402-5/sbref0115>)anesthesia. (<http://refhub.elsevier.com/S0034-7094(20)30402-5/sbref0115>)Anesth (<http://refhub.elsevier.com/S0034-7094(20)30402-5/sbref0115>)Analg. (<http://refhub.elsevier.com/S0034-7094(20)30402-5/sbref0115>)2012;114:377--9(<http://refhub.elsevier.com/S0034-7094(20)30402-5/sbref0115>)0. \\ntwo(<http://refhub.elsevier.com/S0034-7094(20)30402-5/sbref0120>).Ngan (<http://refhub.elsevier.com/S0034-7094(20)30402-5/sbref0120>)Kee (<http://refhub.elsevier.com/S0034-7094(20)30402-5/sbref0120>)WD, (<http://refhub.elsevier.com/S0034-7094(20)30402-5/sbref0120>)Khaw (<http://refhub.elsevier.com/S0034-7094(20)30402-5/sbref0120>)KS, (<http://refhub.elsevier.com/S0034-7094(20)30402-5/sbref0120>)Ng F(<http://refhub.elsevier.com/S0034-7094(20)30402-5/sbref0120>)F. C(<http://refhub.elsevier.com/S0034-7094(20)30402-5/sbref0120>)omparison o(<http://refhub.elsevier.com/S0034-7094(20)30402-5/sbref0120>)f p(<http://refhub.elsevier.com/S0034-7094(20)30402-5/sbref0120>)henylephrine (<http://refhub.elsevier.com/S0034-7094(20)30402-5/sbref0120>)infusion r(<http://refhub.elsevier.com/S0034-7094(20)30402-5/sbref0120>)egimes fo(<http://refhub.elsevier.com/S0034-7094(20)30402-5/sbref0120>)r ma(<http://refhub.elsevier.com/S0034-7094(20)30402-5/sbref0120>)intaining mat(<http://refhub.elsevier.com/S0034-7094(20)30402-5/sbref0120>)ernal bloo(<http://refhub.elsevier.com/S0034-7094(20)30402-5/sbref0120>)d press(<http://refhub.elsevier.com/S0034-7094(20)30402-5/sbref0120>)ure (<http://refhub.elsevier.com/S0034-7094(20)30402-5/sbref0120>)during (<http://refhub.elsevier.com/S0034-7094(20)30402-5/sbref0120>)spinal (<http://refhub.elsevier.com/S0034-7094(20)30402-5/sbref0120>)anaesthesia (<http://refhub.elsevier.com/S0034-7094(20)30402-5/sbref0120>)for (<http://refhub.elsevier.com/S0034-7094(20)30402-5/sbref0120>)Caesarean s(<http://refhub.elsevier.com/S0034-7094(20)30402-5/sbref0120>)ection. B(<http://refhub.elsevier.com/S0034-7094(20)30402-5/sbref0120>)r J (<http://refhub.elsevier.com/S0034-7094(20)30402-5/sbref0120>)A(<http://refhub.elsevier.com/S0034-7094(20)30402-5/sbref0120>)naesth. (<http://refhub.elsevier.com/S0034-7094(20)30402-5/sbref0120>)2004;92:469--(<http://refhub.elsevier.com/S0034-7094(20)30402-5/sbref0120>)74. \\n3.\\nS(<http://refhub.elsevier.com/S0034-7094(20)30402-5/sbref0125>)tewart A(<http://refhub.elsevier.com/S0034-7094(20)30402-5/sbref0125>), Fe(<http://refhub.elsevier.com/S0034-7094(20)30402-5/sbref0125>)rnando R, (<http://refhub.elsevier.com/S0034-7094(20)30402-5/sbref0125>)M(<http://refhub.elsevier.com/S0034-7094(20)30402-5/sbref0125>)cDonald S, (<http://refhub.elsevier.com/S0034-7094(20)30402-5/sbref0125>)et (<http://refhub.elsevier.com/S0034-7094(20)30402-5/sbref0125>)al. (<http://refhub.elsevier.com/S0034-7094(20)30402-5/sbref0125>)Th(<http://refhub.elsevier.com/S0034-7094(20)30402-5/sbref0125>)e do(<http://refhub.elsevier.com/S0034-7094(20)30402-5/sbref0125>)se-dependent (<http://refhub.elsevier.com/S0034-7094(20)30402-5/sbref0125>)effects o(<http://refhub.elsevier.com/S0034-7094(20)30402-5/sbref0125>)f p(<http://refhub.elsevier.com/S0034-7094(20)30402-5/sbref0125>)henylephrine fo(<http://refhub.elsevier.com/S0034-7094(20)30402-5/sbref0125>)r el(<http://refhub.elsevier.com/S0034-7094(20)30402-5/sbref0125>)ective ce(<http://refhub.elsevier.com/S0034-7094(20)30402-5/sbref0125>)sarean del(<http://refhub.elsevier.com/S0034-7094(20)30402-5/sbref0125>)ivery und(<http://refhub.elsevier.com/S0034-7094(20)30402-5/sbref0125>)er (<http://refhub.elsevier.com/S0034-7094(20)30402-5/sbref0125>)spinal (<http://refhub.elsevier.com/S0034-7094(20)30402-5/sbref0125>)anesthesia. (<http://refhub.elsevier.com/S0034-7094(20)30402-5/sbref0125>)Anesth (<http://refhub.elsevier.com/S0034-7094(20)30402-5/sbref0125>)Analg. 2(<http://refhub.elsevier.com/S0034-7094(20)30402-5/sbref0125>)010;111:1230--7(<http://refhub.elsevier.com/S0034-7094(20)30402-5/sbref0125>). \\n4.\\nK(<http://refhub.elsevier.com/S0034-7094(20)30402-5/sbref0130>)i(<http://refhub.elsevier.com/S0034-7094(20)30402-5/sbref0130>)nsella SM(<http://refhub.elsevier.com/S0034-7094(20)30402-5/sbref0130>), Ca(<http://refhub.elsevier.com/S0034-7094(20)30402-5/sbref0130>)rvalho B, D(<http://refhub.elsevier.com/S0034-7094(20)30402-5/sbref0130>)yer (<http://refhub.elsevier.com/S0034-7094(20)30402-5/sbref0130>)RA, e(<http://refhub.elsevier.com/S0034-7094(20)30402-5/sbref0130>)t al. C(<http://refhub.elsevier.com/S0034-7094(20)30402-5/sbref0130>)on(<http://refhub.elsevier.com/S0034-7094(20)30402-5/sbref0130>)sens(<http://refhub.elsevier.com/S0034-7094(20)30402-5/sbref0130>)us Stateme(<http://refhub.elsevier.com/S0034-7094(20)30402-5/sbref0130>)nt (<http://refhub.elsevier.com/S0034-7094(20)30402-5/sbref0130>)Collab(<http://refhub.elsevier.com/S0034-7094(20)30402-5/sbref0130>)orators Intern(<http://refhub.elsevier.com/S0034-7094(20)30402-5/sbref0130>)ational consen(<http://refhub.elsevier.com/S0034-7094(20)30402-5/sbref0130>)sus statem(<http://refhub.elsevier.com/S0034-7094(20)30402-5/sbref0130>)ent on the (<http://refhub.elsevier.com/S0034-7094(20)30402-5/sbref0130>)management (<http://refhub.elsevier.com/S0034-7094(20)30402-5/sbref0130>)of h(<http://refhub.elsevier.com/S0034-7094(20)30402-5/sbref0130>)ypotension w(<http://refhub.elsevier.com/S0034-7094(20)30402-5/sbref0130>)ith v(<http://refhub.elsevier.com/S0034-7094(20)30402-5/sbref0130>)asopressors d(<http://refhub.elsevier.com/S0034-7094(20)30402-5/sbref0130>)uring (<http://refhub.elsevier.com/S0034-7094(20)30402-5/sbref0130>)caesa(<http://refhub.elsevier.com/S0034-7094(20)30402-5/sbref0130>)rean sec(<http://refhub.elsevier.com/S0034-7094(20)30402-5/sbref0130>)tion un(<http://refhub.elsevier.com/S0034-7094(20)30402-5/sbref0130>)der sp(<http://refhub.elsevier.com/S0034-7094(20)30402-5/sbref0130>)inal anaesthe(<http://refhub.elsevier.com/S0034-7094(20)30402-5/sbref0130>)sia. Anaesthes(<http://refhub.elsevier.com/S0034-7094(20)30402-5/sbref0130>)ia. (<http://refhub.elsevier.com/S0034-7094(20)30402-5/sbref0130>)201(<http://refhub.elsevier.com/S0034-7094(20)30402-5/sbref0130>)8;73: 71--92. \\n5.\\nN(<http://refhub.elsevier.com/S0034-7094(20)30402-5/sbref0135>)gan K(<http://refhub.elsevier.com/S0034-7094(20)30402-5/sbref0135>)e(<http://refhub.elsevier.com/S0034-7094(20)30402-5/sbref0135>)e W(<http://refhub.elsevier.com/S0034-7094(20)30402-5/sbref0135>), Le(<http://refhub.elsevier.com/S0034-7094(20)30402-5/sbref0135>)e S, (<http://refhub.elsevier.com/S0034-7094(20)30402-5/sbref0135>)Ng (<http://refhub.elsevier.com/S0034-7094(20)30402-5/sbref0135>)F, (<http://refhub.elsevier.com/S0034-7094(20)30402-5/sbref0135>)Ta(<http://refhub.elsevier.com/S0034-7094(20)30402-5/sbref0135>)n (<http://refhub.elsevier.com/S0034-7094(20)30402-5/sbref0135>)P, (<http://refhub.elsevier.com/S0034-7094(20)30402-5/sbref0135>)et (<http://refhub.elsevier.com/S0034-7094(20)30402-5/sbref0135>)al. (<http://refhub.elsevier.com/S0034-7094(20)30402-5/sbref0135>)Ran(<http://refhub.elsevier.com/S0034-7094(20)30402-5/sbref0135>)domized dou(<http://refhub.elsevier.com/S0034-7094(20)30402-5/sbref0135>)ble blinded (<http://refhub.elsevier.com/S0034-7094(20)30402-5/sbref0135>)comparison o(<http://refhub.elsevier.com/S0034-7094(20)30402-5/sbref0135>)f n(<http://refhub.elsevier.com/S0034-7094(20)30402-5/sbref0135>)orepinephrine an(<http://refhub.elsevier.com/S0034-7094(20)30402-5/sbref0135>)d phe(<http://refhub.elsevier.com/S0034-7094(20)30402-5/sbref0135>)nylephrine for m(<http://refhub.elsevier.com/S0034-7094(20)30402-5/sbref0135>)aint(<http://refhub.elsevier.com/S0034-7094(20)30402-5/sbref0135>)enance (<http://refhub.elsevier.com/S0034-7094(20)30402-5/sbref0135>)of bloo(<http://refhub.elsevier.com/S0034-7094(20)30402-5/sbref0135>)d p(<http://refhub.elsevier.com/S0034-7094(20)30402-5/sbref0135>)ressure (<http://refhub.elsevier.com/S0034-7094(20)30402-5/sbref0135>)during sp(<http://refhub.elsevier.com/S0034-7094(20)30402-5/sbref0135>)inal ane(<http://refhub.elsevier.com/S0034-7094(20)30402-5/sbref0135>)sthesia (<http://refhub.elsevier.com/S0034-7094(20)30402-5/sbref0135>)for cesarea(<http://refhub.elsevier.com/S0034-7094(20)30402-5/sbref0135>)n de(<http://refhub.elsevier.com/S0034-7094(20)30402-5/sbref0135>)livery. (<http://refhub.elsevier.com/S0034-7094(20)30402-5/sbref0135>)Anesthesi(<http://refhub.elsevier.com/S0034-7094(20)30402-5/sbref0135>)ology. 2015;122:7(<http://refhub.elsevier.com/S0034-7094(20)30402-5/sbref0135>)36--45. \\n6.\\nS(<http://refhub.elsevier.com/S0034-7094(20)30402-5/sbref0140>)evers W(<http://refhub.elsevier.com/S0034-7094(20)30402-5/sbref0140>)B, Su(<http://refhub.elsevier.com/S0034-7094(20)30402-5/sbref0140>)mmy-Long JY. (<http://refhub.elsevier.com/S0034-7094(20)30402-5/sbref0140>)Nore(<http://refhub.elsevier.com/S0034-7094(20)30402-5/sbref0140>)pinephrine-induced reflex (<http://refhub.elsevier.com/S0034-7094(20)30402-5/sbref0140>)bradycardia (<http://refhub.elsevier.com/S0034-7094(20)30402-5/sbref0140>)after (<http://refhub.elsevier.com/S0034-7094(20)30402-5/sbref0140>)central a(<http://refhub.elsevier.com/S0034-7094(20)30402-5/sbref0140>)dministration (<http://refhub.elsevier.com/S0034-7094(20)30402-5/sbref0140>)of a(<http://refhub.elsevier.com/S0034-7094(20)30402-5/sbref0140>)ngiotensin I(<http://refhub.elsevier.com/S0034-7094(20)30402-5/sbref0140>)I. (<http://refhub.elsevier.com/S0034-7094(20)30402-5/sbref0140>)Pharmacol(<http://refhub.elsevier.com/S0034-7094(20)30402-5/sbref0140>)ogy. 1977;15(<http://refhub.elsevier.com/S0034-7094(20)30402-5/sbref0140>)(<http://refhub.elsevier.com/S0034-7094(20)30402-5/sbref0140>):(<http://refhub.elsevier.com/S0034-7094(20)30402-5/sbref0140>)428--35. \\n7.\\nM(<http://refhub.elsevier.com/S0034-7094(20)30402-5/sbref0145>)acarthur A, (<http://refhub.elsevier.com/S0034-7094(20)30402-5/sbref0145>)Rile(<http://refhub.elsevier.com/S0034-7094(20)30402-5/sbref0145>)y ET. O(<http://refhub.elsevier.com/S0034-7094(20)30402-5/sbref0145>)bst(<http://refhub.elsevier.com/S0034-7094(20)30402-5/sbref0145>)etric anesth(<http://refhub.elsevier.com/S0034-7094(20)30402-5/sbref0145>)esia controv(<http://refhub.elsevier.com/S0034-7094(20)30402-5/sbref0145>)ersies: (<http://refhub.elsevier.com/S0034-7094(20)30402-5/sbref0145>)vasopressor (<http://refhub.elsevier.com/S0034-7094(20)30402-5/sbref0145>)choice (<http://refhub.elsevier.com/S0034-7094(20)30402-5/sbref0145>)for (<http://refhub.elsevier.com/S0034-7094(20)30402-5/sbref0145>)postspinal h(<http://refhub.elsevier.com/S0034-7094(20)30402-5/sbref0145>)ypotension d(<http://refhub.elsevier.com/S0034-7094(20)30402-5/sbref0145>)uring c(<http://refhub.elsevier.com/S0034-7094(20)30402-5/sbref0145>)esarean (<http://refhub.elsevier.com/S0034-7094(20)30402-5/sbref0145>)delivery. I(<http://refhub.elsevier.com/S0034-7094(20)30402-5/sbref0145>)nt (<http://refhub.elsevier.com/S0034-7094(20)30402-5/sbref0145>)Anesthesiol (<http://refhub.elsevier.com/S0034-7094(20)30402-5/sbref0145>)Clin. 2(<http://refhub.elsevier.com/S0034-7094(20)30402-5/sbref0145>)007;45:115--3(<http://refhub.elsevier.com/S0034-7094(20)30402-5/sbref0145>)2. \\n8.\\nB(<http://refhub.elsevier.com/S0034-7094(20)30402-5/sbref0150>)rooker R(<http://refhub.elsevier.com/S0034-7094(20)30402-5/sbref0150>)F, B(<http://refhub.elsevier.com/S0034-7094(20)30402-5/sbref0150>)utterworth JF(<http://refhub.elsevier.com/S0034-7094(20)30402-5/sbref0150>)4th, Kitz(<http://refhub.elsevier.com/S0034-7094(20)30402-5/sbref0150>)man DW(<http://refhub.elsevier.com/S0034-7094(20)30402-5/sbref0150>), et a(<http://refhub.elsevier.com/S0034-7094(20)30402-5/sbref0150>)l. T(<http://refhub.elsevier.com/S0034-7094(20)30402-5/sbref0150>)rea(<http://refhub.elsevier.com/S0034-7094(20)30402-5/sbref0150>)t(<http://refhub.elsevier.com/S0034-7094(20)30402-5/sbref0150>)ment of (<http://refhub.elsevier.com/S0034-7094(20)30402-5/sbref0150>)hyp(<http://refhub.elsevier.com/S0034-7094(20)30402-5/sbref0150>)otension aft(<http://refhub.elsevier.com/S0034-7094(20)30402-5/sbref0150>)er hyp(<http://refhub.elsevier.com/S0034-7094(20)30402-5/sbref0150>)erbaric tetra(<http://refhub.elsevier.com/S0034-7094(20)30402-5/sbref0150>)caine spina(<http://refhub.elsevier.com/S0034-7094(20)30402-5/sbref0150>)l anest(<http://refhub.elsevier.com/S0034-7094(20)30402-5/sbref0150>)hesia. (<http://refhub.elsevier.com/S0034-7094(20)30402-5/sbref0150>)A r(<http://refhub.elsevier.com/S0034-7094(20)30402-5/sbref0150>)andomized, d(<http://refhub.elsevier.com/S0034-7094(20)30402-5/sbref0150>)ouble-blind, cro(<http://refhub.elsevier.com/S0034-7094(20)30402-5/sbref0150>)ss-over com(<http://refhub.elsevier.com/S0034-7094(20)30402-5/sbref0150>)parison of (<http://refhub.elsevier.com/S0034-7094(20)30402-5/sbref0150>)phenylep(<http://refhub.elsevier.com/S0034-7094(20)30402-5/sbref0150>)hrine (<http://refhub.elsevier.com/S0034-7094(20)30402-5/sbref0150>)and epinephri(<http://refhub.elsevier.com/S0034-7094(20)30402-5/sbref0150>)ne. Anesthesiolog(<http://refhub.elsevier.com/S0034-7094(20)30402-5/sbref0150>)y. 1997;86:79(<http://refhub.elsevier.com/S0034-7094(20)30402-5/sbref0150>)7(<http://refhub.elsevier.com/S0034-7094(20)30402-5/sbref0150>)--805. \\n9.\\nN(<http://refhub.elsevier.com/S0034-7094(20)30402-5/sbref0155>)gan K(<http://refhub.elsevier.com/S0034-7094(20)30402-5/sbref0155>)e(<http://refhub.elsevier.com/S0034-7094(20)30402-5/sbref0155>)e W(<http://refhub.elsevier.com/S0034-7094(20)30402-5/sbref0155>)D. A R(<http://refhub.elsevier.com/S0034-7094(20)30402-5/sbref0155>)an(<http://refhub.elsevier.com/S0034-7094(20)30402-5/sbref0155>)dom-allocation Grad(<http://refhub.elsevier.com/S0034-7094(20)30402-5/sbref0155>)ed Dose-(<http://refhub.elsevier.com/S0034-7094(20)30402-5/sbref0155>)Respon(<http://refhub.elsevier.com/S0034-7094(20)30402-5/sbref0155>)se (<http://refhub.elsevier.com/S0034-7094(20)30402-5/sbref0155>)Study o(<http://refhub.elsevier.com/S0034-7094(20)30402-5/sbref0155>)f No(<http://refhub.elsevier.com/S0034-7094(20)30402-5/sbref0155>)repinephrine and (<http://refhub.elsevier.com/S0034-7094(20)30402-5/sbref0155>)Phen(<http://refhub.elsevier.com/S0034-7094(20)30402-5/sbref0155>)y(<http://refhub.elsevier.com/S0034-7094(20)30402-5/sbref0155>)lephrine for Tr(<http://refhub.elsevier.com/S0034-7094(20)30402-5/sbref0155>)eatin(<http://refhub.elsevier.com/S0034-7094(20)30402-5/sbref0155>)g (<http://refhub.elsevier.com/S0034-7094(20)30402-5/sbref0155>)Hypotension (<http://refhub.elsevier.com/S0034-7094(20)30402-5/sbref0155>)during S(<http://refhub.elsevier.com/S0034-7094(20)30402-5/sbref0155>)pinal A(<http://refhub.elsevier.com/S0034-7094(20)30402-5/sbref0155>)nesthesia fo(<http://refhub.elsevier.com/S0034-7094(20)30402-5/sbref0155>)r Ce(<http://refhub.elsevier.com/S0034-7094(20)30402-5/sbref0155>)sarean Del(<http://refhub.elsevier.com/S0034-7094(20)30402-5/sbref0155>)ivery. (<http://refhub.elsevier.com/S0034-7094(20)30402-5/sbref0155>)Anesthesiology. (<http://refhub.elsevier.com/S0034-7094(20)30402-5/sbref0155>)2017;127:934--(<http://refhub.elsevier.com/S0034-7094(20)30402-5/sbref0155>)41. \\n10.\\nT(<http://refhub.elsevier.com/S0034-7094(20)30402-5/sbref0160>)s(<http://refhub.elsevier.com/S0034-7094(20)30402-5/sbref0160>)en LC(<http://refhub.elsevier.com/S0034-7094(20)30402-5/sbref0160>), Bo(<http://refhub.elsevier.com/S0034-7094(20)30402-5/sbref0160>)osalis P, S(<http://refhub.elsevier.com/S0034-7094(20)30402-5/sbref0160>)ega(<http://refhub.elsevier.com/S0034-7094(20)30402-5/sbref0160>)l S, et (<http://refhub.elsevier.com/S0034-7094(20)30402-5/sbref0160>)al. (<http://refhub.elsevier.com/S0034-7094(20)30402-5/sbref0160>)Hem(<http://refhub.elsevier.com/S0034-7094(20)30402-5/sbref0160>)ody(<http://refhub.elsevier.com/S0034-7094(20)30402-5/sbref0160>)namic effects of (<http://refhub.elsevier.com/S0034-7094(20)30402-5/sbref0160>)sim(<http://refhub.elsevier.com/S0034-7094(20)30402-5/sbref0160>)ultaneous admi(<http://refhub.elsevier.com/S0034-7094(20)30402-5/sbref0160>)nistration of intr(<http://refhub.elsevier.com/S0034-7094(20)30402-5/sbref0160>)aven(<http://refhub.elsevier.com/S0034-7094(20)30402-5/sbref0160>)ous ephedrin(<http://refhub.elsevier.com/S0034-7094(20)30402-5/sbref0160>)e and (<http://refhub.elsevier.com/S0034-7094(20)30402-5/sbref0160>)spina(<http://refhub.elsevier.com/S0034-7094(20)30402-5/sbref0160>)l anest(<http://refhub.elsevier.com/S0034-7094(20)30402-5/sbref0160>)hesia for ces(<http://refhub.elsevier.com/S0034-7094(20)30402-5/sbref0160>)are(<http://refhub.elsevier.com/S0034-7094(20)30402-5/sbref0160>)an delivery(<http://refhub.elsevier.com/S0034-7094(20)30402-5/sbref0160>). J Clin Anest(<http://refhub.elsevier.com/S0034-7094(20)30402-5/sbref0160>)h. (<http://refhub.elsevier.com/S0034-7094(20)30402-5/sbref0160>)2000;12:378--(<http://refhub.elsevier.com/S0034-7094(20)30402-5/sbref0160>)82. \\n11.\\nZ(<http://refhub.elsevier.com/S0034-7094(20)30402-5/sbref0165>)aritsky A(<http://refhub.elsevier.com/S0034-7094(20)30402-5/sbref0165>)L. Ca(<http://refhub.elsevier.com/S0034-7094(20)30402-5/sbref0165>)techolamines, ino(<http://refhub.elsevier.com/S0034-7094(20)30402-5/sbref0165>)tropic me(<http://refhub.elsevier.com/S0034-7094(20)30402-5/sbref0165>)dications, and (<http://refhub.elsevier.com/S0034-7094(20)30402-5/sbref0165>)vasopre(<http://refhub.elsevier.com/S0034-7094(20)30402-5/sbref0165>)ssor ag(<http://refhub.elsevier.com/S0034-7094(20)30402-5/sbref0165>)ent(<http://refhub.elsevier.com/S0034-7094(20)30402-5/sbref0165>)s In: (<http://refhub.elsevier.com/S0034-7094(20)30402-5/sbref0165>)The pharmacol(<http://refhub.elsevier.com/S0034-7094(20)30402-5/sbref0165>)ogic appr(<http://refhub.elsevier.com/S0034-7094(20)30402-5/sbref0165>)oac(<http://refhub.elsevier.com/S0034-7094(20)30402-5/sbref0165>)h to (<http://refhub.elsevier.com/S0034-7094(20)30402-5/sbref0165>)the (<http://refhub.elsevier.com/S0034-7094(20)30402-5/sbref0165>)crit(<http://refhub.elsevier.com/S0034-7094(20)30402-5/sbref0165>)ically ill p(<http://refhub.elsevier.com/S0034-7094(20)30402-5/sbref0165>)atient. Ch(<http://refhub.elsevier.com/S0034-7094(20)30402-5/sbref0165>)ern(<http://refhub.elsevier.com/S0034-7094(20)30402-5/sbref0165>)ow B(<http://refhub.elsevier.com/S0034-7094(20)30402-5/sbref0165>), ed, Baltim(<http://refhub.elsevier.com/S0034-7094(20)30402-5/sbref0165>)or(<http://refhub.elsevier.com/S0034-7094(20)30402-5/sbref0165>)e: Willia(<http://refhub.elsevier.com/S0034-7094(20)30402-5/sbref0165>)ms a(<http://refhub.elsevier.com/S0034-7094(20)30402-5/sbref0165>)n(<http://refhub.elsevier.com/S0034-7094(20)30402-5/sbref0165>)d (<http://refhub.elsevier.com/S0034-7094(20)30402-5/sbref0165>)Wilkins. 19(<http://refhub.elsevier.com/S0034-7094(20)30402-5/sbref0165>)94:387--404. \\n12.\\nV(<http://refhub.elsevier.com/S0034-7094(20)30402-5/sbref0170>)e(<http://refhub.elsevier.com/S0034-7094(20)30402-5/sbref0170>)eser M(<http://refhub.elsevier.com/S0034-7094(20)30402-5/sbref0170>), H(<http://refhub.elsevier.com/S0034-7094(20)30402-5/sbref0170>)ofmann T(<http://refhub.elsevier.com/S0034-7094(20)30402-5/sbref0170>), R(<http://refhub.elsevier.com/S0034-7094(20)30402-5/sbref0170>)o(<http://refhub.elsevier.com/S0034-7094(20)30402-5/sbref0170>)th R(<http://refhub.elsevier.com/S0034-7094(20)30402-5/sbref0170>), e(<http://refhub.elsevier.com/S0034-7094(20)30402-5/sbref0170>)t al(<http://refhub.elsevier.com/S0034-7094(20)30402-5/sbref0170>). Va(<http://refhub.elsevier.com/S0034-7094(20)30402-5/sbref0170>)s(<http://refhub.elsevier.com/S0034-7094(20)30402-5/sbref0170>)opressors fo(<http://refhub.elsevier.com/S0034-7094(20)30402-5/sbref0170>)r th(<http://refhub.elsevier.com/S0034-7094(20)30402-5/sbref0170>)e (<http://refhub.elsevier.com/S0034-7094(20)30402-5/sbref0170>)manage(<http://refhub.elsevier.com/S0034-7094(20)30402-5/sbref0170>)men(<http://refhub.elsevier.com/S0034-7094(20)30402-5/sbref0170>)t of hypotens(<http://refhub.elsevier.com/S0034-7094(20)30402-5/sbref0170>)ion aft(<http://refhub.elsevier.com/S0034-7094(20)30402-5/sbref0170>)er spin(<http://refhub.elsevier.com/S0034-7094(20)30402-5/sbref0170>)al anesthesi(<http://refhub.elsevier.com/S0034-7094(20)30402-5/sbref0170>)a for (<http://refhub.elsevier.com/S0034-7094(20)30402-5/sbref0170>)elective (<http://refhub.elsevier.com/S0034-7094(20)30402-5/sbref0170>)caesarean s(<http://refhub.elsevier.com/S0034-7094(20)30402-5/sbref0170>)ection S(<http://refhub.elsevier.com/S0034-7094(20)30402-5/sbref0170>)ystematic re(<http://refhub.elsevier.com/S0034-7094(20)30402-5/sbref0170>)view and (<http://refhub.elsevier.com/S0034-7094(20)30402-5/sbref0170>)cum(<http://refhub.elsevier.com/S0034-7094(20)30402-5/sbref0170>)ulative meta(<http://refhub.elsevier.com/S0034-7094(20)30402-5/sbref0170>)-(<http://refhub.elsevier.com/S0034-7094(20)30402-5/sbref0170>)- analysis. (<http://refhub.elsevier.com/S0034-7094(20)30402-5/sbref0170>)Acta (<http://refhub.elsevier.com/S0034-7094(20)30402-5/sbref0170>)Anaesthesiol (<http://refhub.elsevier.com/S0034-7094(20)30402-5/sbref0170>)Scand. 2(<http://refhub.elsevier.com/S0034-7094(20)30402-5/sbref0170>)012;56:810--6(<http://refhub.elsevier.com/S0034-7094(20)30402-5/sbref0170>). \\n13.\\nF(<http://refhub.elsevier.com/S0034-7094(20)30402-5/sbref0175>)erguson-Myrthil N(<http://refhub.elsevier.com/S0034-7094(20)30402-5/sbref0175>). V(<http://refhub.elsevier.com/S0034-7094(20)30402-5/sbref0175>)a(<http://refhub.elsevier.com/S0034-7094(20)30402-5/sbref0175>)sopressor u(<http://refhub.elsevier.com/S0034-7094(20)30402-5/sbref0175>)se in (<http://refhub.elsevier.com/S0034-7094(20)30402-5/sbref0175>)a(<http://refhub.elsevier.com/S0034-7094(20)30402-5/sbref0175>)dult pa(<http://refhub.elsevier.com/S0034-7094(20)30402-5/sbref0175>)tients. Ca(<http://refhub.elsevier.com/S0034-7094(20)30402-5/sbref0175>)rdiol (<http://refhub.elsevier.com/S0034-7094(20)30402-5/sbref0175>)R(<http://refhub.elsevier.com/S0034-7094(20)30402-5/sbref0175>)ev. (<http://refhub.elsevier.com/S0034-7094(20)30402-5/sbref0175>)2012;20:153--(<http://refhub.elsevier.com/S0034-7094(20)30402-5/sbref0175>)8. \\n14.\\nN(<http://refhub.elsevier.com/S0034-7094(20)30402-5/sbref0180>)gan K(<http://refhub.elsevier.com/S0034-7094(20)30402-5/sbref0180>)e(<http://refhub.elsevier.com/S0034-7094(20)30402-5/sbref0180>)e W(<http://refhub.elsevier.com/S0034-7094(20)30402-5/sbref0180>)D, Le(<http://refhub.elsevier.com/S0034-7094(20)30402-5/sbref0180>)e A, (<http://refhub.elsevier.com/S0034-7094(20)30402-5/sbref0180>)Kha(<http://refhub.elsevier.com/S0034-7094(20)30402-5/sbref0180>)w KS, (<http://refhub.elsevier.com/S0034-7094(20)30402-5/sbref0180>)et al(<http://refhub.elsevier.com/S0034-7094(20)30402-5/sbref0180>). A (<http://refhub.elsevier.com/S0034-7094(20)30402-5/sbref0180>)ran(<http://refhub.elsevier.com/S0034-7094(20)30402-5/sbref0180>)do(<http://refhub.elsevier.com/S0034-7094(20)30402-5/sbref0180>)mized doubl(<http://refhub.elsevier.com/S0034-7094(20)30402-5/sbref0180>)e-(<http://refhub.elsevier.com/S0034-7094(20)30402-5/sbref0180>)- blinded (<http://refhub.elsevier.com/S0034-7094(20)30402-5/sbref0180>)comparison (<http://refhub.elsevier.com/S0034-7094(20)30402-5/sbref0180>)of (<http://refhub.elsevier.com/S0034-7094(20)30402-5/sbref0180>)phenylephrine a(<http://refhub.elsevier.com/S0034-7094(20)30402-5/sbref0180>)nd e(<http://refhub.elsevier.com/S0034-7094(20)30402-5/sbref0180>)phedrine in(<http://refhub.elsevier.com/S0034-7094(20)30402-5/sbref0180>)fusion (<http://refhub.elsevier.com/S0034-7094(20)30402-5/sbref0180>)combinations (<http://refhub.elsevier.com/S0034-7094(20)30402-5/sbref0180>)to (<http://refhub.elsevier.com/S0034-7094(20)30402-5/sbref0180>)maintain (<http://refhub.elsevier.com/S0034-7094(20)30402-5/sbref0180>)blood (<http://refhub.elsevier.com/S0034-7094(20)30402-5/sbref0180>)pressure (<http://refhub.elsevier.com/S0034-7094(20)30402-5/sbref0180>)during (<http://refhub.elsevier.com/S0034-7094(20)30402-5/sbref0180>)spinal (<http://refhub.elsevier.com/S0034-7094(20)30402-5/sbref0180>)anes(<http://refhub.elsevier.com/S0034-7094(20)30402-5/sbref0180>)thes(<http://refhub.elsevier.com/S0034-7094(20)30402-5/sbref0180>)ia for cesa(<http://refhub.elsevier.com/S0034-7094(20)30402-5/sbref0180>)rean delive(<http://refhub.elsevier.com/S0034-7094(20)30402-5/sbref0180>)ry: th(<http://refhub.elsevier.com/S0034-7094(20)30402-5/sbref0180>)e effects (<http://refhub.elsevier.com/S0034-7094(20)30402-5/sbref0180>)on (<http://refhub.elsevier.com/S0034-7094(20)30402-5/sbref0180>)fetal a(<http://refhub.elsevier.com/S0034-7094(20)30402-5/sbref0180>)cid-base (<http://refhub.elsevier.com/S0034-7094(20)30402-5/sbref0180>)status a(<http://refhub.elsevier.com/S0034-7094(20)30402-5/sbref0180>)nd h(<http://refhub.elsevier.com/S0034-7094(20)30402-5/sbref0180>)emodynamic co(<http://refhub.elsevier.com/S0034-7094(20)30402-5/sbref0180>)ntrol. Ane(<http://refhub.elsevier.com/S0034-7094(20)30402-5/sbref0180>)sth Anal(<http://refhub.elsevier.com/S0034-7094(20)30402-5/sbref0180>)g. 2008;(<http://refhub.elsevier.com/S0034-7094(20)30402-5/sbref0180>)107: (<http://refhub.elsevier.com/S0034-7094(20)30402-5/sbref0180>)1295--(<http://refhub.elsevier.com/S0034-7094(20)30402-5/sbref0180>)302. \\n15.\\nO(<http://refhub.elsevier.com/S0034-7094(20)30402-5/sbref0185>)nwochei D(<http://refhub.elsevier.com/S0034-7094(20)30402-5/sbref0185>)N, N(<http://refhub.elsevier.com/S0034-7094(20)30402-5/sbref0185>)gan Ke(<http://refhub.elsevier.com/S0034-7094(20)30402-5/sbref0185>)e (<http://refhub.elsevier.com/S0034-7094(20)30402-5/sbref0185>)WD(<http://refhub.elsevier.com/S0034-7094(20)30402-5/sbref0185>), Fun(<http://refhub.elsevier.com/S0034-7094(20)30402-5/sbref0185>)g L, et (<http://refhub.elsevier.com/S0034-7094(20)30402-5/sbref0185>)al. (<http://refhub.elsevier.com/S0034-7094(20)30402-5/sbref0185>)No(<http://refhub.elsevier.com/S0034-7094(20)30402-5/sbref0185>)rep(<http://refhub.elsevier.com/S0034-7094(20)30402-5/sbref0185>)inephrine (<http://refhub.elsevier.com/S0034-7094(20)30402-5/sbref0185>)intermittent i(<http://refhub.elsevier.com/S0034-7094(20)30402-5/sbref0185>)ntravenous (<http://refhub.elsevier.com/S0034-7094(20)30402-5/sbref0185>)boluses (<http://refhub.elsevier.com/S0034-7094(20)30402-5/sbref0185>)to (<http://refhub.elsevier.com/S0034-7094(20)30402-5/sbref0185>)prevent (<http://refhub.elsevier.com/S0034-7094(20)30402-5/sbref0185>)hypotension (<http://refhub.elsevier.com/S0034-7094(20)30402-5/sbref0185>)during (<http://refhub.elsevier.com/S0034-7094(20)30402-5/sbref0185>)spinal (<http://refhub.elsevier.com/S0034-7094(20)30402-5/sbref0185>)anesthesia (<http://refhub.elsevier.com/S0034-7094(20)30402-5/sbref0185>)for (<http://refhub.elsevier.com/S0034-7094(20)30402-5/sbref0185>)cesarean (<http://refhub.elsevier.com/S0034-7094(20)30402-5/sbref0185>)delivery: a s(<http://refhub.elsevier.com/S0034-7094(20)30402-5/sbref0185>)equential a(<http://refhub.elsevier.com/S0034-7094(20)30402-5/sbref0185>)llocation (<http://refhub.elsevier.com/S0034-7094(20)30402-5/sbref0185>)dose-finding (<http://refhub.elsevier.com/S0034-7094(20)30402-5/sbref0185>)study. (<http://refhub.elsevier.com/S0034-7094(20)30402-5/sbref0185>)Anesth (<http://refhub.elsevier.com/S0034-7094(20)30402-5/sbref0185>)Analg. (<http://refhub.elsevier.com/S0034-7094(20)30402-5/sbref0185>)2017;125:212--(<http://refhub.elsevier.com/S0034-7094(20)30402-5/sbref0185>)8. \\n16.\\nO(<http://refhub.elsevier.com/S0034-7094(20)30402-5/sbref0190>)ttesen S, (<http://refhub.elsevier.com/S0034-7094(20)30402-5/sbref0190>)Re(<http://refhub.elsevier.com/S0034-7094(20)30402-5/sbref0190>)n(<http://refhub.elsevier.com/S0034-7094(20)30402-5/sbref0190>)ck H, (<http://refhub.elsevier.com/S0034-7094(20)30402-5/sbref0190>)Jyn(<http://refhub.elsevier.com/S0034-7094(20)30402-5/sbref0190>)ge P. C(<http://refhub.elsevier.com/S0034-7094(20)30402-5/sbref0190>)ar(<http://refhub.elsevier.com/S0034-7094(20)30402-5/sbref0190>)diovascular effe(<http://refhub.elsevier.com/S0034-7094(20)30402-5/sbref0190>)cts of ep(<http://refhub.elsevier.com/S0034-7094(20)30402-5/sbref0190>)id(<http://refhub.elsevier.com/S0034-7094(20)30402-5/sbref0190>)ural (<http://refhub.elsevier.com/S0034-7094(20)30402-5/sbref0190>)ana(<http://refhub.elsevier.com/S0034-7094(20)30402-5/sbref0190>)lgesia II. (<http://refhub.elsevier.com/S0034-7094(20)30402-5/sbref0190>)Ha(<http://refhub.elsevier.com/S0034-7094(20)30402-5/sbref0190>)emodynamic alt(<http://refhub.elsevier.com/S0034-7094(20)30402-5/sbref0190>)erations sec(<http://refhub.elsevier.com/S0034-7094(20)30402-5/sbref0190>)ondary to l(<http://refhub.elsevier.com/S0034-7094(20)30402-5/sbref0190>)um(<http://refhub.elsevier.com/S0034-7094(20)30402-5/sbref0190>)bar (<http://refhub.elsevier.com/S0034-7094(20)30402-5/sbref0190>)epidural a(<http://refhub.elsevier.com/S0034-7094(20)30402-5/sbref0190>)nalgesia a(<http://refhub.elsevier.com/S0034-7094(20)30402-5/sbref0190>)nd th(<http://refhub.elsevier.com/S0034-7094(20)30402-5/sbref0190>)eir mo(<http://refhub.elsevier.com/S0034-7094(20)30402-5/sbref0190>)dification by (<http://refhub.elsevier.com/S0034-7094(20)30402-5/sbref0190>)plas(<http://refhub.elsevier.com/S0034-7094(20)30402-5/sbref0190>)ma expa(<http://refhub.elsevier.com/S0034-7094(20)30402-5/sbref0190>)nsion (<http://refhub.elsevier.com/S0034-7094(20)30402-5/sbref0190>)and a(<http://refhub.elsevier.com/S0034-7094(20)30402-5/sbref0190>)dren(<http://refhub.elsevier.com/S0034-7094(20)30402-5/sbref0190>)aline admin(<http://refhub.elsevier.com/S0034-7094(20)30402-5/sbref0190>)istration. Acta A(<http://refhub.elsevier.com/S0034-7094(20)30402-5/sbref0190>)naest(<http://refhub.elsevier.com/S0034-7094(20)30402-5/sbref0190>)hesiol Scand. (<http://refhub.elsevier.com/S0034-7094(20)30402-5/sbref0190>)1978;69:17--(<http://refhub.elsevier.com/S0034-7094(20)30402-5/sbref0190>)31. \\n17.\\nS(<http://refhub.elsevier.com/S0034-7094(20)30402-5/sbref0195>)harrock NE(<http://refhub.elsevier.com/S0034-7094(20)30402-5/sbref0195>), Urq(<http://refhub.elsevier.com/S0034-7094(20)30402-5/sbref0195>)uhart B. H(<http://refhub.elsevier.com/S0034-7094(20)30402-5/sbref0195>)em(<http://refhub.elsevier.com/S0034-7094(20)30402-5/sbref0195>)odynamic respo(<http://refhub.elsevier.com/S0034-7094(20)30402-5/sbref0195>)nse to low-(<http://refhub.elsevier.com/S0034-7094(20)30402-5/sbref0195>)do(<http://refhub.elsevier.com/S0034-7094(20)30402-5/sbref0195>)se (<http://refhub.elsevier.com/S0034-7094(20)30402-5/sbref0195>)epinephrine i(<http://refhub.elsevier.com/S0034-7094(20)30402-5/sbref0195>)nfusion d(<http://refhub.elsevier.com/S0034-7094(20)30402-5/sbref0195>)uring h(<http://refhub.elsevier.com/S0034-7094(20)30402-5/sbref0195>)ypotension ep(<http://refhub.elsevier.com/S0034-7094(20)30402-5/sbref0195>)idural an(<http://refhub.elsevier.com/S0034-7094(20)30402-5/sbref0195>)esthesia for (<http://refhub.elsevier.com/S0034-7094(20)30402-5/sbref0195>)total h(<http://refhub.elsevier.com/S0034-7094(20)30402-5/sbref0195>)ip r(<http://refhub.elsevier.com/S0034-7094(20)30402-5/sbref0195>)eplacement. Re(<http://refhub.elsevier.com/S0034-7094(20)30402-5/sbref0195>)g (<http://refhub.elsevier.com/S0034-7094(20)30402-5/sbref0195>)An(<http://refhub.elsevier.com/S0034-7094(20)30402-5/sbref0195>)esth. 199(<http://refhub.elsevier.com/S0034-7094(20)30402-5/sbref0195>)0;15:295--9. \\n18.\\nL(<http://refhub.elsevier.com/S0034-7094(20)30402-5/sbref0200>)ow J(<http://refhub.elsevier.com/S0034-7094(20)30402-5/sbref0200>)A, Li(<http://refhub.elsevier.com/S0034-7094(20)30402-5/sbref0200>)ndsay B(<http://refhub.elsevier.com/S0034-7094(20)30402-5/sbref0200>)G, D(<http://refhub.elsevier.com/S0034-7094(20)30402-5/sbref0200>)errick EJ. (<http://refhub.elsevier.com/S0034-7094(20)30402-5/sbref0200>)Th(<http://refhub.elsevier.com/S0034-7094(20)30402-5/sbref0200>)reshold of (<http://refhub.elsevier.com/S0034-7094(20)30402-5/sbref0200>)me(<http://refhub.elsevier.com/S0034-7094(20)30402-5/sbref0200>)tabolic aci(<http://refhub.elsevier.com/S0034-7094(20)30402-5/sbref0200>)dosis (<http://refhub.elsevier.com/S0034-7094(20)30402-5/sbref0200>)associated (<http://refhub.elsevier.com/S0034-7094(20)30402-5/sbref0200>)with n(<http://refhub.elsevier.com/S0034-7094(20)30402-5/sbref0200>)ewborn c(<http://refhub.elsevier.com/S0034-7094(20)30402-5/sbref0200>)omplications. A(<http://refhub.elsevier.com/S0034-7094(20)30402-5/sbref0200>)m J (<http://refhub.elsevier.com/S0034-7094(20)30402-5/sbref0200>)O(<http://refhub.elsevier.com/S0034-7094(20)30402-5/sbref0200>)bstet G(<http://refhub.elsevier.com/S0034-7094(20)30402-5/sbref0200>)ynecol. (<http://refhub.elsevier.com/S0034-7094(20)30402-5/sbref0200>)1997;177:1391--(<http://refhub.elsevier.com/S0034-7094(20)30402-5/sbref0200>)4. \\n19.\\nD(<http://refhub.elsevier.com/S0034-7094(20)30402-5/sbref0205>)yer R(<http://refhub.elsevier.com/S0034-7094(20)30402-5/sbref0205>)A, Re(<http://refhub.elsevier.com/S0034-7094(20)30402-5/sbref0205>)e(<http://refhub.elsevier.com/S0034-7094(20)30402-5/sbref0205>)d AR(<http://refhub.elsevier.com/S0034-7094(20)30402-5/sbref0205>), Va(<http://refhub.elsevier.com/S0034-7094(20)30402-5/sbref0205>)n (<http://refhub.elsevier.com/S0034-7094(20)30402-5/sbref0205>)Dy(<http://refhub.elsevier.com/S0034-7094(20)30402-5/sbref0205>)k D, (<http://refhub.elsevier.com/S0034-7094(20)30402-5/sbref0205>)et a(<http://refhub.elsevier.com/S0034-7094(20)30402-5/sbref0205>)l. H(<http://refhub.elsevier.com/S0034-7094(20)30402-5/sbref0205>)em(<http://refhub.elsevier.com/S0034-7094(20)30402-5/sbref0205>)odynamic effec(<http://refhub.elsevier.com/S0034-7094(20)30402-5/sbref0205>)ts of (<http://refhub.elsevier.com/S0034-7094(20)30402-5/sbref0205>)ephedrine, (<http://refhub.elsevier.com/S0034-7094(20)30402-5/sbref0205>)phenylephrine, a(<http://refhub.elsevier.com/S0034-7094(20)30402-5/sbref0205>)nd t(<http://refhub.elsevier.com/S0034-7094(20)30402-5/sbref0205>)he c(<http://refhub.elsevier.com/S0034-7094(20)30402-5/sbref0205>)oadministration o(<http://refhub.elsevier.com/S0034-7094(20)30402-5/sbref0205>)f (<http://refhub.elsevier.com/S0034-7094(20)30402-5/sbref0205>)phenylep(<http://refhub.elsevier.com/S0034-7094(20)30402-5/sbref0205>)hrine (<http://refhub.elsevier.com/S0034-7094(20)30402-5/sbref0205>)with oxyto(<http://refhub.elsevier.com/S0034-7094(20)30402-5/sbref0205>)cin dur(<http://refhub.elsevier.com/S0034-7094(20)30402-5/sbref0205>)ing spin(<http://refhub.elsevier.com/S0034-7094(20)30402-5/sbref0205>)al anesthes(<http://refhub.elsevier.com/S0034-7094(20)30402-5/sbref0205>)ia fo(<http://refhub.elsevier.com/S0034-7094(20)30402-5/sbref0205>)r (<http://refhub.elsevier.com/S0034-7094(20)30402-5/sbref0205>)elective c(<http://refhub.elsevier.com/S0034-7094(20)30402-5/sbref0205>)esarean d(<http://refhub.elsevier.com/S0034-7094(20)30402-5/sbref0205>)elivery. Anesthe(<http://refhub.elsevier.com/S0034-7094(20)30402-5/sbref0205>)siology. 2009;1(<http://refhub.elsevier.com/S0034-7094(20)30402-5/sbref0205>)11:753--65. \\n20.\\nT(<http://refhub.elsevier.com/S0034-7094(20)30402-5/sbref0210>)homas D(<http://refhub.elsevier.com/S0034-7094(20)30402-5/sbref0210>)G, R(<http://refhub.elsevier.com/S0034-7094(20)30402-5/sbref0210>)o(<http://refhub.elsevier.com/S0034-7094(20)30402-5/sbref0210>)bson S(<http://refhub.elsevier.com/S0034-7094(20)30402-5/sbref0210>)C, Re(<http://refhub.elsevier.com/S0034-7094(20)30402-5/sbref0210>)dfern N, (<http://refhub.elsevier.com/S0034-7094(20)30402-5/sbref0210>)et (<http://refhub.elsevier.com/S0034-7094(20)30402-5/sbref0210>)al. (<http://refhub.elsevier.com/S0034-7094(20)30402-5/sbref0210>)Ran(<http://refhub.elsevier.com/S0034-7094(20)30402-5/sbref0210>)domized tria(<http://refhub.elsevier.com/S0034-7094(20)30402-5/sbref0210>)l of (<http://refhub.elsevier.com/S0034-7094(20)30402-5/sbref0210>)bolus (<http://refhub.elsevier.com/S0034-7094(20)30402-5/sbref0210>)phenylephrine (<http://refhub.elsevier.com/S0034-7094(20)30402-5/sbref0210>)or e(<http://refhub.elsevier.com/S0034-7094(20)30402-5/sbref0210>)phedrine f(<http://refhub.elsevier.com/S0034-7094(20)30402-5/sbref0210>)or m(<http://refhub.elsevier.com/S0034-7094(20)30402-5/sbref0210>)aintenance o(<http://refhub.elsevier.com/S0034-7094(20)30402-5/sbref0210>)f ar(<http://refhub.elsevier.com/S0034-7094(20)30402-5/sbref0210>)terial (<http://refhub.elsevier.com/S0034-7094(20)30402-5/sbref0210>)pressure (<http://refhub.elsevier.com/S0034-7094(20)30402-5/sbref0210>)during (<http://refhub.elsevier.com/S0034-7094(20)30402-5/sbref0210>)spinal (<http://refhub.elsevier.com/S0034-7094(20)30402-5/sbref0210>)anaesthesia (<http://refhub.elsevier.com/S0034-7094(20)30402-5/sbref0210>)for (<http://refhub.elsevier.com/S0034-7094(20)30402-5/sbref0210>)Caesarean s(<http://refhub.elsevier.com/S0034-7094(20)30402-5/sbref0210>)ection. B(<http://refhub.elsevier.com/S0034-7094(20)30402-5/sbref0210>)r J (<http://refhub.elsevier.com/S0034-7094(20)30402-5/sbref0210>)Anaesth. (<http://refhub.elsevier.com/S0034-7094(20)30402-5/sbref0210>)1996;76:61--5(<http://refhub.elsevier.com/S0034-7094(20)30402-5/sbref0210>). \\n21.\\nV(<http://refhub.elsevier.com/S0034-7094(20)30402-5/sbref0215>)al(<http://refhub.elsevier.com/S0034-7094(20)30402-5/sbref0215>)lejo MJ(<http://refhub.elsevier.com/S0034-7094(20)30402-5/sbref0215>), Zak(<http://refhub.elsevier.com/S0034-7094(20)30402-5/sbref0215>)owski MI. (<http://refhub.elsevier.com/S0034-7094(20)30402-5/sbref0215>)Old (<http://refhub.elsevier.com/S0034-7094(20)30402-5/sbref0215>)way(<http://refhub.elsevier.com/S0034-7094(20)30402-5/sbref0215>)s do n(<http://refhub.elsevier.com/S0034-7094(20)30402-5/sbref0215>)ot o(<http://refhub.elsevier.com/S0034-7094(20)30402-5/sbref0215>)pen (<http://refhub.elsevier.com/S0034-7094(20)30402-5/sbref0215>)new (<http://refhub.elsevier.com/S0034-7094(20)30402-5/sbref0215>)doors(<http://refhub.elsevier.com/S0034-7094(20)30402-5/sbref0215>): (<http://refhub.elsevier.com/S0034-7094(20)30402-5/sbref0215>)norepinephr(<http://refhub.elsevier.com/S0034-7094(20)30402-5/sbref0215>)ine (<http://refhub.elsevier.com/S0034-7094(20)30402-5/sbref0215>)for first-li(<http://refhub.elsevier.com/S0034-7094(20)30402-5/sbref0215>)ne treatmen(<http://refhub.elsevier.com/S0034-7094(20)30402-5/sbref0215>)t o(<http://refhub.elsevier.com/S0034-7094(20)30402-5/sbref0215>)f spina(<http://refhub.elsevier.com/S0034-7094(20)30402-5/sbref0215>)l hypotension. (<http://refhub.elsevier.com/S0034-7094(20)30402-5/sbref0215>)Anesth (<http://refhub.elsevier.com/S0034-7094(20)30402-5/sbref0215>)Analg. 2(<http://refhub.elsevier.com/S0034-7094(20)30402-5/sbref0215>)018;126:1809--1(<http://refhub.elsevier.com/S0034-7094(20)30402-5/sbref0215>)1(<http://refhub.elsevier.com/S0034-7094(20)30402-5/sbref0215>). \\n22.\\nP(<http://refhub.elsevier.com/S0034-7094(20)30402-5/sbref0220>)uolakka J, (<http://refhub.elsevier.com/S0034-7094(20)30402-5/sbref0220>)Ka(<http://refhub.elsevier.com/S0034-7094(20)30402-5/sbref0220>)uppila A, (<http://refhub.elsevier.com/S0034-7094(20)30402-5/sbref0220>)Tu(<http://refhub.elsevier.com/S0034-7094(20)30402-5/sbref0220>)i(<http://refhub.elsevier.com/S0034-7094(20)30402-5/sbref0220>)mala R, (<http://refhub.elsevier.com/S0034-7094(20)30402-5/sbref0220>)et (<http://refhub.elsevier.com/S0034-7094(20)30402-5/sbref0220>)al. (<http://refhub.elsevier.com/S0034-7094(20)30402-5/sbref0220>)The (<http://refhub.elsevier.com/S0034-7094(20)30402-5/sbref0220>)effe(<http://refhub.elsevier.com/S0034-7094(20)30402-5/sbref0220>)ct of p(<http://refhub.elsevier.com/S0034-7094(20)30402-5/sbref0220>)art(<http://refhub.elsevier.com/S0034-7094(20)30402-5/sbref0220>)urition (<http://refhub.elsevier.com/S0034-7094(20)30402-5/sbref0220>)on u(<http://refhub.elsevier.com/S0034-7094(20)30402-5/sbref0220>)mb(<http://refhub.elsevier.com/S0034-7094(20)30402-5/sbref0220>)ilical bloo(<http://refhub.elsevier.com/S0034-7094(20)30402-5/sbref0220>)d plas(<http://refhub.elsevier.com/S0034-7094(20)30402-5/sbref0220>)ma level(<http://refhub.elsevier.com/S0034-7094(20)30402-5/sbref0220>)s of no(<http://refhub.elsevier.com/S0034-7094(20)30402-5/sbref0220>)re(<http://refhub.elsevier.com/S0034-7094(20)30402-5/sbref0220>)pinephrine. Obst(<http://refhub.elsevier.com/S0034-7094(20)30402-5/sbref0220>)et (<http://refhub.elsevier.com/S0034-7094(20)30402-5/sbref0220>)Gyneco. (<http://refhub.elsevier.com/S0034-7094(20)30402-5/sbref0220>)1983;61:19--2(<http://refhub.elsevier.com/S0034-7094(20)30402-5/sbref0220>)1. \",\n          \"Spinal anesthesia-induced hypotension: is it more than just a pesky nuisance? \\nCynthia A. Wong, MD \\n1 \\n2 \\n3 \\n4 \\n5 \\n2\\n5 \\n6 \\n7 \\n6 \\nS pinal anesthesia (using cocaine) was first described by August Bier in 1899 in Germany, and the first cesarean delivery with spinal anesthesia was likely performed in North American in 1901or 1902.However, early after its introduction to surgical anesthesia, hypotension was recognized as a significant clinical problem.The \\u201cdanger\\u201d of spinal anesthesia was summarized by Frankenin a 1934 observational study of 2088 spinal anesthetics performed for cesarean de-livery\\u2014he reported 1 death for every 139 procedures, which even in 1934 was considered unacceptably high. The use of spinal anesthesia in obstetrics likely peaked in the United States in the 1950s when it was used for both vaginal and cesarean delivery anesthesia.By the early 1960s, methods of continuous epidural anesthesia were being introduced, and spinal anesthesia in obstetrics fell out of favor because of its high incidence of adverse maternal effects, including hypo-tension, inability to prolong anesthesia and analgesia, and postdural puncture (\\u201cspinal\\u201d) headache.,However, starting in the early 1990s, spinal anesthesia experienced a resurgence in obstetrical anesthesia practice. New small-bore, disposable, pencil-point spinal needles significantly decreased the incidence of spinal headache, new drugs were available, and clinicians had a better appreciation of the hemodynamic consequences of spinal anesthesia. Maternal death was reported in both generaland epiduralanesthesia, and by the late 1990s, it was well recognized that general anesthesia was associated with a higher anesthesia-related maternal mortality rate than neuraxial (spinal or epidural) anesthesia.\\n8 \\nAnesthesiologists have long recognized that uteroplacental perfusion is not autoregulated and is therefore directly dependent on maternal blood pressure. Because of the resurgence of spinal anesthesia in the past several decades, there has been an explosion of research on the prevention and treatment of spinal anesthesia-induced hypotension. In the current issue of the American Journal of Obstetrics & Gynecology, Knigin et alreported the results of a single-center, retrospective observational study (data are from 2007 to 2017) in which they investigated factors associated with \\nFrom the Department of Anesthesia, University of Iowa Carver College of Medicine, Iowa City, IA. \\nReceived Aug. 20, 2020; accepted Aug. 26, 2020. \\nThe author reports no conflict of interest. \\nCorresponding author: Cynthia A. Wong, MD. (<mailto:cynthia-wong@uiowa.edu>)cynthia-wong@uiowa.edu \\n0002-9378/free \\n\\u00aa 2020 Elsevier Inc. All rights reserved. (<https://doi.org/10.1016/j.ajog.2020.08.105>)https://doi.org/10.1016/j.ajog.2020.08.105 \\nRelated article, page 747. \\nneonatal acidosis (de\\ufb01ned as umbilical artery pH of \\ue0017.1 or base de\\ufb01cit of \\ue00312 mEq/L) in women undergoing planned cesarean delivery with spinal anesthesia. Sustained hypoten-sion and a prolonged anesthesia-to-delivery interval were both associated with fetal acidosis (overall incidence, 2.6%). \\n9 \\n10 \\n11 \\nThe finding of an association between hypotension and fetal acidosis is not new or surprising. Crawford recognized as early as 1966 that spinal anesthesia was associated with a greater degree of fetal acidosis than general anesthesia.Depending on the definition of hypotension (and how one defines \\u201cbaseline\\u201d), the incidence of hypotension in women undergoing cesarean delivery with spinal anesthesia reaches 100%.Helpfully, the advent of noninvasive cardiac output monitoring in the past 2 decades has allowed more nuanced assessment of the cardiovascular changes associated with midthoracic spinal anesthesia. It is now well understood that the primary mechanism of hypotension is a profound decrease in systemic vascular resistance owing to dilation of the arteriolar resistance vessels.A compensatory increase in cardiac output and heart rate is the result. \\n12 \\n13 \\n14 \\nAlong with a better understanding of the hemodynamic changes associated with spinal anesthesia, the last 2 decades has brought a sea change in the prevention and treatment of spinal hypotension. Historically, ephedrine, an indirect-acting drug with both alpha-and beta-adrenergic agonist effects, was the vasopressor of choice. Initial studies performed in the 1970s in instrumented gravid ewes suggested that ephedrine maintained uterine blood flow, whereas direct alpha-adrenergic agonists decreased flow.Subsequently however, randomized controlled trials (RCTs) in humans comparing ephedrine with phenylephrine (a direct-acting alpha-adrenergic agonist) showed that neonates whose mothers received phenylephrine had higher umbilical artery pH and lower base deficitthanneonateswhose mothers received ephedrine, although both drugs successfully treated hypotension.Further study showed that ephedrine crosses the placenta at a higher rate and undergoes less early metabolism or redistribution in the fetus than phenylephrine.Associated increases in umbilical artery lactate and pCO2 suggest that the mechanism of fetal acidosis associated with ephedrine may be because of ephedrine stimulation of fetal metabolism. \\n15 \\nSpinal anesthesia-induced hypotension in the setting of cesarean delivery has been variably defined, but most studies have used the definition of a 20% or 30% decrease in baseline systolic blood pressure or systolic blood pressure of <100 mm Hg,and anesthesiologists have used these thresholds to determine when to treat hypotension. However, further study has suggested that maternal and neonatal outcomes are better if maternal blood pressure is maintained close to the baseline. \\n16 \\n17 \\nIn a RCT using phenylephrine, the management strategy of treating blood pressure whenever it dropped below baseline was compared to the strategy of treating blood pressure whenever it dropped below 80% of baseline. Umbilical artery pH was higher, and the incidence of maternal nausea and vomiting was lower in women whose blood pressure was maintained near baseline.This study, along with others, supports the practice of preventing hypotension with prophylactic phenylephrine administration rather than waiting for the inevitable hypotension to occur and then treating it.\\n18 \\n19 \\nIntravenous fluid loading before the induction of spinal anesthesia (\\u201cpreload\\u201d) has been traditionally done to \\u201cfill the tank\\u201d made functionally empty by sympathetic blockade and acute vasodilation. Studies in the past several decades have demonstrated the flaw in this practice\\u2014the intravascular dwell time of crystalloid administered to a euvolemic patient (before the induction of anesthesia) is measured in minutes,and preloading has been shown to be minimally effective. However, fluid administration is not without merit. In a trial in which patients were randomized to receive a phenylephrine infusion only or a phenylephrine infusion with a rapid fluid bolus initiated at the induction of spinal anesthesia (termed \\u201ccoloading\\u201d), the incidence of hypotension was virtually zero in the phenylephrine with fluid coload group compared with a 28% incidence of hypotension in patients in the phenylephrine-only group.Thus, in any study of spinal hypotension, fluid management should be standardized or at least reported (timing, volume, and rate of administration). \\n15 \\n8 \\n8 \\nWhere do we currently stand with blood pressure management? International consensus guidelines published in 2018 suggest that a vasopressor with potent alpha-adrenergic agonist activity should be used prophylactically to prevent hypotension with the aim of maintaining systolic blood pressure \\ue00390% of baseline.This is most easily accomplished with a titrated infusion (rather than bolus administration) of vasopressor and rapid intravenous administration of crystalloid (approximately 1 L) at the time of induction of anesthesia accompanied by frequent (every 1 minute) blood pressure measurements. Notably, no component of this management regime was used in the study by Knigin et al,alone or in combination. It is interesting to note that in patients whose hypotension was treated with phenylephrine, there was no association with neonatal acidosis (95% con\\ufb01-dence interval of odds ratio included 1).\\n8 \\n20 \\n8 \\n8 \\nIn addition to the unsurprising finding that the extent and duration of predelivery maternal hypotension were associated with neonatal acidosis, Knigin et alreported that the anesthesia-delivery time interval was independently associated with acidosis. This association has also been reported by others.Although investigators have suggested that this interval is potentially modifiable and shortening the interval may result in less neonatal acidosis, the question still remains as to the etiology of this association and whether prolonged (even mild) hypotension played a role in the study results.There are hard stops on the degree to which this interval is modifiable, and the intervals described in the Knigin et al\\nstudy were not long (median anesthesia-to-delivery interval, 15 minutes; 90th percentile, 24 minutes). To my knowledge, no study has investigated this association in the setting of optimal blood pressure management (as described earlier). \\n21 \\n22 \\nOther questions regarding the management of spinal hy-potension are currently being investigated. Almost all studies to date have included healthy, nonlaboring women undergoing planned cesarean delivery. We need to have a better understanding of whether the hemodynamic management goals differ for patients with comorbidities, including those with reduced placental reserve or those undergoing intrapartum delivery.Historically, systolic blood pressure has been used because it was easier to measure, but organ perfusion depends on mean arterial blood pressure, begging the question of whether we should focus blood pressure management on mean or on systolic blood pressure. Recently, norepinephrine has been proposed as an ideal vasopressor, as it may be associated with less maternal bradycardia than phenylephrine.\\n8 \\n8 \\n16 \\n23 \\n8 \\n20 \\nShould the results of the Knigin et alstudy change our current preference for neuraxial anesthesia for cesarean delivery? The answer is definitively \\u201cno,\\u201d although anesthesiologists should pay meticulous attention to blood pressure management. The findings of Knigin et albear confirmation in the modern era of blood pressure management. Small studies suggest that the incidence of neonatal acidosis is very low if blood pressure is maintained near the baseline.Accepting that spinal hypotension causes lower umbilical artery pH, we also need to ask whether these differences are worth fussing about in the context of other risks and benefits of alternative anesthetic techniques. Some cases of spinal hy-potension are evitable unless we aim to maintain blood pressure higher than the baseline. The association between neonatal metabolic acidemia and longer-term complications (eg, neonatal encephalopathy, cerebral palsy) is weak.The finding in the Knigin et alstudy and othersthat secondary neonatal outcomes (eg, low Apgar scores, transient tachypnea of the newborn, respiratory distress syndrome, intensive care unit admission) are not associated with hypotension suggests that a low incidence of isolated fetal acidosis may be low on our list of concerns. Our normal practice should be to induce spinal anesthesia and perform the necessary preparation (eg, urinary catheter insertion, skin decontamination, draping, time-out) efficiently and safely. We should not waste time, but neither should we rush and leave out important steps unless future research identifies a modifiable step that results in improved neonatal outcome without increased risk to the mother. Until these questions are answered and new findings suggest otherwise, we should not change current management. \\nACKNOWLEDGMENTS \\nThe author thanks Alexander J. Butwick, MBBS, FRCA, MS, for his reading of the manuscript and suggestions. -\\nREFERENCES \\n1. (<http://refhub.elsevier.com/S0002-9378(20)30986-8/sref1>)Carter J, Macarthur A. Spinal anaesthesia for Caesarean section. (<http://refhub.elsevier.com/S0002-9378(20)30986-8/sref1>)Contemporary Anaesthesia 1994;4:11\\u20135. \\n2. \\n(<http://refhub.elsevier.com/S0002-9378(20)30986-8/sref2>)Gogarten W, Van Aken H. A century of regional analgesia in obstetrics. (<http://refhub.elsevier.com/S0002-9378(20)30986-8/sref2>)Anesth Analg 2000;91:773\\u20135. \\n3. \\n(<http://refhub.elsevier.com/S0002-9378(20)30986-8/sref3>)Gray HT, Parsons L. Blood pressure variations associated with lumbar (<http://refhub.elsevier.com/S0002-9378(20)30986-8/sref3>)puncture and induction of spinal anesthesia. Quart J Med 1912;5:339. \\n4. \\n(<http://refhub.elsevier.com/S0002-9378(20)30986-8/sref4>)Franken H. Warum ist die lumbalanaesthesie beim Kaiserschnitt (<http://refhub.elsevier.com/S0002-9378(20)30986-8/sref4>)besonders gef\\u00e4hrlich? Zentralbl Gyn 1934;58:2191\\u20136. \\n5. \\n(<http://refhub.elsevier.com/S0002-9378(20)30986-8/sref5>)Morgan P. Spinal anaesthesia in obstetrics. Can J Anaesth 1995;42: (<http://refhub.elsevier.com/S0002-9378(20)30986-8/sref5>)1145\\u201363. \\n6. \\n(<http://refhub.elsevier.com/S0002-9378(20)30986-8/sref6>)Hawkins JL, Koonin LM, Palmer SK, Gibbs CP. Anesthesia-related (<http://refhub.elsevier.com/S0002-9378(20)30986-8/sref6>)deaths during obstetric delivery in the United States, 1979-1990. Anes-(<http://refhub.elsevier.com/S0002-9378(20)30986-8/sref6>)thesiology 1997;86:277\\u201384. \\n7. \\n(<http://refhub.elsevier.com/S0002-9378(20)30986-8/sref7>)Albright GA. Cardiac arrest following regional anesthesia with etido-(<http://refhub.elsevier.com/S0002-9378(20)30986-8/sref7>)caine or bupivacaine. Anesthesiology 1979;51:285\\u20137. \\n8. \\n(<http://refhub.elsevier.com/S0002-9378(20)30986-8/sref8>)Knigin D, Avidan A, Weiniger C. The effect of spinal hypotension and (<http://refhub.elsevier.com/S0002-9378(20)30986-8/sref8>)anesthesia-to-delivery time interval on neonatal outcomes in planned (<http://refhub.elsevier.com/S0002-9378(20)30986-8/sref8>)cesarean delivery. Am J Obstet Gynecol 2020;223:747.e1\\u201313. \\n9. \\n(<http://refhub.elsevier.com/S0002-9378(20)30986-8/sref9>)Crawford JS. A comparison of spinal analgesia and general anesthesia (<http://refhub.elsevier.com/S0002-9378(20)30986-8/sref9>)for elective cesarean section. Interim report. Am J Obstet Gynecol (<http://refhub.elsevier.com/S0002-9378(20)30986-8/sref9>)1966;94:858\\u201360. \\n10. \\n(<http://refhub.elsevier.com/S0002-9378(20)30986-8/sref10>)Cyna AM, Andrew M, Emmett RS, Middleton P, Simmons SW. (<http://refhub.elsevier.com/S0002-9378(20)30986-8/sref10>)Techniques for preventing hypotension during spinal anaesthesia for (<http://refhub.elsevier.com/S0002-9378(20)30986-8/sref10>)caesarean section. Cochrane Database Syst Rev 2006:CD002251. \\n11. \\n(<http://refhub.elsevier.com/S0002-9378(20)30986-8/sref11>)Dyer RA, Reed AR, van Dyk D, et al. Hemodynamic effects of (<http://refhub.elsevier.com/S0002-9378(20)30986-8/sref11>)ephedrine, phenylephrine, and the coadministration of phenylephrine with (<http://refhub.elsevier.com/S0002-9378(20)30986-8/sref11>)oxytocin during spinal anesthesia for elective cesarean delivery. Anes-(<http://refhub.elsevier.com/S0002-9378(20)30986-8/sref11>)thesiology 2009;111:753\\u201365. \\n12. \\n(<http://refhub.elsevier.com/S0002-9378(20)30986-8/sref12>)Ralston DH, Shnider SM, DeLorimier AA. Effects of equipotent (<http://refhub.elsevier.com/S0002-9378(20)30986-8/sref12>)ephedrine, metaraminol, mephentermine, and methoxamine on uterine (<http://refhub.elsevier.com/S0002-9378(20)30986-8/sref12>)blood flow in the pregnant ewe. Anesthesiology 1974;40:354\\u201370. \\n13. \\n(<http://refhub.elsevier.com/S0002-9378(20)30986-8/sref13>)Lee A, Ngan Kee WD, Gin T. A quantitative, systematic review of (<http://refhub.elsevier.com/S0002-9378(20)30986-8/sref13>)randomized controlled trials of ephedrine versus phenylephrine for the (<http://refhub.elsevier.com/S0002-9378(20)30986-8/sref13>)management of hypotension during spinal anesthesia for cesarean de-(<http://refhub.elsevier.com/S0002-9378(20)30986-8/sref13>)livery. Anesth Analg 2002;94:920\\u20136. \\n14. \\n(<http://refhub.elsevier.com/S0002-9378(20)30986-8/sref14>)Ngan Kee WD, Khaw KS, Tan PE, Ng FF, Karmakar MK. Placental (<http://refhub.elsevier.com/S0002-9378(20)30986-8/sref14>)transfer and fetal metabolic effects of phenylephrine and ephedrine during (<http://refhub.elsevier.com/S0002-9378(20)30986-8/sref14>)spinal anesthesia for cesarean delivery. Anesthesiology 2009;111: (<http://refhub.elsevier.com/S0002-9378(20)30986-8/sref14>)506\\u201312. \\n15. \\n(<http://refhub.elsevier.com/S0002-9378(20)30986-8/sref15>)Kinsella SM, Carvalho B, Dyer RA, et al. International consensus (<http://refhub.elsevier.com/S0002-9378(20)30986-8/sref15>)statement on the management of hypotension with vasopressors during (<http://refhub.elsevier.com/S0002-9378(20)30986-8/sref15>)caesarean section under spinal anaesthesia. Anaesthesia 2018;73: (<http://refhub.elsevier.com/S0002-9378(20)30986-8/sref15>)71\\u201392. \\n16. \\n(<http://refhub.elsevier.com/S0002-9378(20)30986-8/sref16>)Ngan Kee WD, Khaw KS, Ng FF. Comparison of phenylephrine (<http://refhub.elsevier.com/S0002-9378(20)30986-8/sref16>)infusion regimens for maintaining maternal blood pressure during (<http://refhub.elsevier.com/S0002-9378(20)30986-8/sref16>)spinal anaesthesia for caesarean section. Br J Anaesth 2004;92: (<http://refhub.elsevier.com/S0002-9378(20)30986-8/sref16>)469\\u201374. \\n17. \\n(<http://refhub.elsevier.com/S0002-9378(20)30986-8/sref17>)Allen TK, George RB, White WD, Muir HA, Habib AS. A double-blind, (<http://refhub.elsevier.com/S0002-9378(20)30986-8/sref17>)placebo-controlled trial of four fixed rate infusion regimens of phenyl-(<http://refhub.elsevier.com/S0002-9378(20)30986-8/sref17>)ephrine for hemodynamic support during spinal anesthesia for cesarean (<http://refhub.elsevier.com/S0002-9378(20)30986-8/sref17>)delivery. Anesth Analg 2010;111:1221\\u20139. \\n18. \\n(<http://refhub.elsevier.com/S0002-9378(20)30986-8/sref18>)Brauer LP, Svens\\u00e9n CH, Hahn RG, Kilicturgay S, Kramer GC, (<http://refhub.elsevier.com/S0002-9378(20)30986-8/sref18>)Prough DS. Influence of rate and volume of infusion on the kinetics of 0. (<http://refhub.elsevier.com/S0002-9378(20)30986-8/sref18>)9% saline and 7.5% saline/6.0% dextran 70 in sheep. Anesth Analg (<http://refhub.elsevier.com/S0002-9378(20)30986-8/sref18>)2002;95:1547\\u201356. \\n19. \\n(<http://refhub.elsevier.com/S0002-9378(20)30986-8/sref19>)Ngan Kee WD, Khaw KS, Ng FF, Lee BB. Prophylactic phenyl-(<http://refhub.elsevier.com/S0002-9378(20)30986-8/sref19>)ephrine infusion for preventing hypotension during spinal anesthesia (<http://refhub.elsevier.com/S0002-9378(20)30986-8/sref19>)for cesarean delivery. Anesth Analg 2004;98:815\\u201321. \\n20. \\n(<http://refhub.elsevier.com/S0002-9378(20)30986-8/sref20>)Rimsza RR, Perez WM, Babbar S, O\\u2019Brien M, Vricella LK. Time from (<http://refhub.elsevier.com/S0002-9378(20)30986-8/sref20>)neuraxial anesthesia placement to delivery is inversely proportional to (<http://refhub.elsevier.com/S0002-9378(20)30986-8/sref20>)umbilical arterial cord pH at scheduled cesarean delivery. Am J Obstet (<http://refhub.elsevier.com/S0002-9378(20)30986-8/sref20>)Gynecol 2019;220:389.e1\\u20139. \\n21. \\n(<http://refhub.elsevier.com/S0002-9378(20)30986-8/sref21>)Higgins N, Fitzgerald PC, van Dyk D, et al. The effect of prophylactic (<http://refhub.elsevier.com/S0002-9378(20)30986-8/sref21>)phenylephrine and ephedrine infusions on umbilical artery blood pH in (<http://refhub.elsevier.com/S0002-9378(20)30986-8/sref21>)women with preeclampsia undergoing cesarean delivery with spinal (<http://refhub.elsevier.com/S0002-9378(20)30986-8/sref21>)anesthesia: a randomized, double-blind trial. Anesth Analg 2018;126: (<http://refhub.elsevier.com/S0002-9378(20)30986-8/sref21>)1999\\u20132006. \\n22. \\n(<http://refhub.elsevier.com/S0002-9378(20)30986-8/sref22>)Singh PM, Singh NP, Reschke M, Ngan Kee WD, Palanisamy A, (<http://refhub.elsevier.com/S0002-9378(20)30986-8/sref22>)Monks DT. Vasopressor drugs for the prevention and treatment of hy-(<http://refhub.elsevier.com/S0002-9378(20)30986-8/sref22>)potension during neuraxial anaesthesia for caesarean delivery: a Bayesian (<http://refhub.elsevier.com/S0002-9378(20)30986-8/sref22>)network meta-analysis of fetal and maternal outcomes. Br J Anaesth (<http://refhub.elsevier.com/S0002-9378(20)30986-8/sref22>)2020;124:e95\\u2013107. \\n23. \\n(<http://refhub.elsevier.com/S0002-9378(20)30986-8/sref23>)American College of Obstetricians and Gynecologist, American (<http://refhub.elsevier.com/S0002-9378(20)30986-8/sref23>)Academy of Pediatrics. Neonatal encephalopathy and neurologic (<http://refhub.elsevier.com/S0002-9378(20)30986-8/sref23>)outcome, 2nd ed. Washington, DC: American College of Obstetricians (<http://refhub.elsevier.com/S0002-9378(20)30986-8/sref23>)and Gynecologists; 2014. \"\n        ],\n        \"semantic_type\": \"\",\n        \"description\": \"\"\n      }\n    }\n  ]\n}"
            }
          },
          "metadata": {},
          "execution_count": 50
        }
      ]
    },
    {
      "cell_type": "code",
      "source": [
        "df2 = pd.DataFrame(pdf_ids, columns=['filenames'])\n",
        "df2[\"PDF_ID\"] = pdf_folders"
      ],
      "metadata": {
        "id": "lfHVjCyWVdW9"
      },
      "execution_count": null,
      "outputs": []
    },
    {
      "cell_type": "code",
      "source": [
        "df2.shape"
      ],
      "metadata": {
        "colab": {
          "base_uri": "https://localhost:8080/"
        },
        "id": "3HWljh1lWBns",
        "outputId": "079b689a-8aa7-4567-8b13-524b01d20ae4"
      },
      "execution_count": null,
      "outputs": [
        {
          "output_type": "execute_result",
          "data": {
            "text/plain": [
              "(308, 2)"
            ]
          },
          "metadata": {},
          "execution_count": 55
        }
      ]
    },
    {
      "cell_type": "code",
      "source": [
        "dfm = pd.merge(df, df2, on=\"PDF_ID\",how=\"outer\")"
      ],
      "metadata": {
        "id": "qN2Hs_PYWDdj"
      },
      "execution_count": null,
      "outputs": []
    },
    {
      "cell_type": "code",
      "source": [
        "dfm.to_pickle(\"extracted_fulltexts.pkl\")"
      ],
      "metadata": {
        "id": "Yrt7EQHIJzde"
      },
      "execution_count": null,
      "outputs": []
    },
    {
      "cell_type": "markdown",
      "source": [
        "# ここからChatGPTで処理"
      ],
      "metadata": {
        "id": "nKh5nx21WThz"
      }
    },
    {
      "cell_type": "code",
      "source": [
        "import pandas as pd\n",
        "# Load the DataFrame from the pickle file\n",
        "df = pd.read_pickle(\"extracted_fulltexts.pkl\")"
      ],
      "metadata": {
        "id": "G3bfcBtwKWnU"
      },
      "execution_count": null,
      "outputs": []
    },
    {
      "cell_type": "code",
      "source": [
        "import re\n",
        "# 数値部分と文字列部分に分割するための関数\n",
        "def split_numeric_and_string(value):\n",
        "    match = re.match(r'(\\d+)(.*)', value)\n",
        "    if match:\n",
        "        return int(match.group(1)), match.group(2)\n",
        "    return float('inf'), value  # 数値部分がない場合、大きな数値として扱う\n",
        "\n",
        "# filenamesを分割して新しい列を追加\n",
        "df[['filename_numeric', 'filename_string']] = df['filenames'].apply(split_numeric_and_string).apply(pd.Series)\n",
        "\n",
        "# 数値部分でソートし、その後文字列部分でソート\n",
        "df = df.sort_values(by=['filename_numeric', 'filename_string'])\n",
        "\n",
        "# ソート後に不要な列を削除\n",
        "df = df.drop(columns=['filename_numeric', 'filename_string'])"
      ],
      "metadata": {
        "id": "vQiPcjMdYggv"
      },
      "execution_count": null,
      "outputs": []
    },
    {
      "cell_type": "code",
      "source": [
        "import os\n",
        "import pandas as pd\n",
        "import glob\n",
        "from pathlib import Path\n",
        "import math\n",
        "from google.colab import files"
      ],
      "metadata": {
        "id": "9qwQWuK3WSgx"
      },
      "execution_count": null,
      "outputs": []
    },
    {
      "cell_type": "code",
      "source": [
        "!pip install openai"
      ],
      "metadata": {
        "colab": {
          "base_uri": "https://localhost:8080/"
        },
        "id": "iH26kSopWh6D",
        "outputId": "b0e5fb5d-8961-4f0c-c486-84136039da3d"
      },
      "execution_count": null,
      "outputs": [
        {
          "output_type": "stream",
          "name": "stdout",
          "text": [
            "Collecting openai\n",
            "  Downloading openai-1.35.3-py3-none-any.whl (327 kB)\n",
            "\u001b[2K     \u001b[90m━━━━━━━━━━━━━━━━━━━━━━━━━━━━━━━━━━━━━━━━\u001b[0m \u001b[32m327.4/327.4 kB\u001b[0m \u001b[31m5.1 MB/s\u001b[0m eta \u001b[36m0:00:00\u001b[0m\n",
            "\u001b[?25hRequirement already satisfied: anyio<5,>=3.5.0 in /usr/local/lib/python3.10/dist-packages (from openai) (3.7.1)\n",
            "Requirement already satisfied: distro<2,>=1.7.0 in /usr/lib/python3/dist-packages (from openai) (1.7.0)\n",
            "Collecting httpx<1,>=0.23.0 (from openai)\n",
            "  Downloading httpx-0.27.0-py3-none-any.whl (75 kB)\n",
            "\u001b[2K     \u001b[90m━━━━━━━━━━━━━━━━━━━━━━━━━━━━━━━━━━━━━━━━\u001b[0m \u001b[32m75.6/75.6 kB\u001b[0m \u001b[31m10.9 MB/s\u001b[0m eta \u001b[36m0:00:00\u001b[0m\n",
            "\u001b[?25hRequirement already satisfied: pydantic<3,>=1.9.0 in /usr/local/lib/python3.10/dist-packages (from openai) (2.7.4)\n",
            "Requirement already satisfied: sniffio in /usr/local/lib/python3.10/dist-packages (from openai) (1.3.1)\n",
            "Requirement already satisfied: tqdm>4 in /usr/local/lib/python3.10/dist-packages (from openai) (4.66.4)\n",
            "Requirement already satisfied: typing-extensions<5,>=4.7 in /usr/local/lib/python3.10/dist-packages (from openai) (4.12.2)\n",
            "Requirement already satisfied: idna>=2.8 in /usr/local/lib/python3.10/dist-packages (from anyio<5,>=3.5.0->openai) (3.7)\n",
            "Requirement already satisfied: exceptiongroup in /usr/local/lib/python3.10/dist-packages (from anyio<5,>=3.5.0->openai) (1.2.1)\n",
            "Requirement already satisfied: certifi in /usr/local/lib/python3.10/dist-packages (from httpx<1,>=0.23.0->openai) (2024.6.2)\n",
            "Collecting httpcore==1.* (from httpx<1,>=0.23.0->openai)\n",
            "  Downloading httpcore-1.0.5-py3-none-any.whl (77 kB)\n",
            "\u001b[2K     \u001b[90m━━━━━━━━━━━━━━━━━━━━━━━━━━━━━━━━━━━━━━━━\u001b[0m \u001b[32m77.9/77.9 kB\u001b[0m \u001b[31m11.4 MB/s\u001b[0m eta \u001b[36m0:00:00\u001b[0m\n",
            "\u001b[?25hCollecting h11<0.15,>=0.13 (from httpcore==1.*->httpx<1,>=0.23.0->openai)\n",
            "  Downloading h11-0.14.0-py3-none-any.whl (58 kB)\n",
            "\u001b[2K     \u001b[90m━━━━━━━━━━━━━━━━━━━━━━━━━━━━━━━━━━━━━━━━\u001b[0m \u001b[32m58.3/58.3 kB\u001b[0m \u001b[31m9.8 MB/s\u001b[0m eta \u001b[36m0:00:00\u001b[0m\n",
            "\u001b[?25hRequirement already satisfied: annotated-types>=0.4.0 in /usr/local/lib/python3.10/dist-packages (from pydantic<3,>=1.9.0->openai) (0.7.0)\n",
            "Requirement already satisfied: pydantic-core==2.18.4 in /usr/local/lib/python3.10/dist-packages (from pydantic<3,>=1.9.0->openai) (2.18.4)\n",
            "Installing collected packages: h11, httpcore, httpx, openai\n",
            "Successfully installed h11-0.14.0 httpcore-1.0.5 httpx-0.27.0 openai-1.35.3\n"
          ]
        }
      ]
    },
    {
      "cell_type": "code",
      "source": [
        "import os\n",
        "from openai import OpenAI\n",
        "import json\n",
        "from tqdm import tqdm\n",
        "import time\n",
        "\n",
        "#secretで設定したキー\n",
        "from google.colab import userdata\n",
        "API_KEY = userdata.get('opanai_API_key')\n",
        "#渡す\n",
        "\n",
        "os.environ['OPENAI_API_KEY'] = API_KEY\n",
        "\n",
        "client = OpenAI(\n",
        "    # This is the default and can be omitted\n",
        "    api_key=os.environ.get(API_KEY),\n",
        ")"
      ],
      "metadata": {
        "id": "VDxpwu_gWlUQ"
      },
      "execution_count": null,
      "outputs": []
    },
    {
      "cell_type": "code",
      "source": [
        "def get_completion(system_prompt, prompt, tools):\n",
        "    function_name = tools[0][\"function\"][\"name\"]\n",
        "    chat_completion = client.chat.completions.create(\n",
        "        messages=[\n",
        "                {\"role\":\"system\",\n",
        "                \"content\":system_prompt},\n",
        "                {\n",
        "                \"role\": \"user\",\n",
        "                \"content\": prompt\n",
        "                }],\n",
        "            tools = tools,\n",
        "            tool_choice =  {\"type\": \"function\", \"function\": {\"name\": function_name}},\n",
        "            temperature = 0,\n",
        "            model = \"gpt-4o\"\n",
        "          )\n",
        "\n",
        "    arguments_json_str = chat_completion.choices[0].message.tool_calls[0].function.arguments\n",
        "\n",
        "    arguments_json = json.loads(arguments_json_str)\n",
        "\n",
        "    return arguments_json"
      ],
      "metadata": {
        "id": "zxpEA_cuWnV3"
      },
      "execution_count": null,
      "outputs": []
    },
    {
      "cell_type": "code",
      "source": [
        "system_prompt = \"\"\"\n",
        "You are conducting a systematic review.\n",
        "Please determine if the user inputted manuscript should be included or excluded.\n",
        "Additionally, extract the name and dosage of any drugs used for treatment and placebo.\n",
        "If you exclude, please explain why and select the category.\n",
        "\n",
        "# Inclusion Criteria:\n",
        "1. **Study Design:**\n",
        "   - Randomized Controlled Trials (RCTs) assessing the comparative efficacy of norepinephrine (NE) and phenylephrine (PE) for postspinal hypotension in patients undergoing cesarean section (CS).\n",
        "   - Studies must include the use of continuous infusion or intravenous bolus administration of NE or PE.\n",
        "   - Both published and unpublished articles, abstracts of conferences, and letters are eligible.\n",
        "   - No language or country restrictions will be applied.\n",
        "\n",
        "2. **Participants:**\n",
        "   - Adult patients (18 years or older) undergoing cesarean section under spinal anesthesia or combined spinal–epidural anesthesia (CSEA).\n",
        "   - Includes both elective and non-elective (urgent and emergency) cesarean sections.\n",
        "   - Participants can have singleton or multiple pregnancies (e.g., twin or triplet pregnancies).\n",
        "\n",
        "3. **Interventions:**\n",
        "   -Studies must include \"at least\" one of the following interventions:\n",
        "　　　Phenylephrine (PE) administered in any form (bolus or infusion).\n",
        "　　　Norepinephrine (NE) administered in any form (bolus or infusion).\n",
        "　 - Studies comparing different doses of Phenylephrine or Norepinephrine are also included.\n",
        "   - Both therapeutic (administered after hypotension onset) and prophylactic (administered before hypotension onset) administrations are considered.\n",
        "   - Example: Phenylephrine bolus vs. Phenylephrine infusion -> included\n",
        "   - Example: NE bolus vs. NE infusion -> included\n",
        "   - Example: Phenylephrine bolus vs. NE bolus -> included\n",
        "\n",
        "# Exclusion Criteria:\n",
        "\n",
        "1. **Study Design:**\n",
        "   - Cluster-randomized trials, crossover trials, quasi-experimental studies, and quasi-randomized trials will be excluded.\n",
        "   - Studies that do not follow a randomized controlled trial design will be excluded.\n",
        "\n",
        "2. **Participants:**\n",
        "   - Children (under 18 years old).\n",
        "   - Individuals with known hypersensitivity or allergy to study medications (e.g., Lidocaine, Bupivacaine, Fentanyl, PE, or NE).\n",
        "   - Cases involving cesarean sections performed under general anesthesia or epidural anesthesia only.\n",
        "   - Patients with known fetal abnormalities.\n",
        "\n",
        "3. **Interventions:**\n",
        "   - Studies evaluating other vasopressors or interventions outside the specified doses and administration methods for PE and NE.\n",
        "\n",
        "\"\"\""
      ],
      "metadata": {
        "id": "ZLXuFe8dXD9Q"
      },
      "execution_count": null,
      "outputs": []
    },
    {
      "cell_type": "code",
      "source": [
        "#二値を返すtoolsを定義\n",
        "tools =  [\n",
        "        {\n",
        "            \"type\": \"function\",\n",
        "            \"function\": {\n",
        "                \"name\": \"manuscript_inclusion_decision\",\n",
        "                \"description\": \"Determine if a manuscript meets the inclusion or exclusion criteria for the systematic review\",\n",
        "                \"parameters\": {\n",
        "                    \"type\": \"object\",\n",
        "                    \"properties\": {\n",
        "                        \"inclusion\": {\n",
        "                            \"type\": \"boolean\",\n",
        "                            \"description\": \"True if the manuscript meets the inclusion criteria AND does not meet the exclusion criteria.\"\n",
        "                        },\n",
        "                        \"exclusion_reason\": {\n",
        "                            \"type\": \"string\",\n",
        "                            \"description\": \"Provide a detailed explanation if the manuscript is excluded, based on the specified criteria and the relevant sections of the manuscript.\"\n",
        "                        },\n",
        "                        \"exclusion_category\": {\n",
        "                            \"type\": \"string\",\n",
        "                            \"description\": \"Provide the exclusion reason category if the manuscript is excluded. The exclusion reason category should be one of the following: Wrong study design, Wrong population, Wrong drug, Others.\"\n",
        "                        },\n",
        "                         \"intervention_or_control\": {\n",
        "                        \"type\": \"array\",\n",
        "                        \"items\":{\n",
        "                        \"drug\": {\n",
        "                            \"type\": \"string\",\n",
        "                            \"description\": \"Names of drugs or placebo used for intervention or control.\"\n",
        "                        },\n",
        "                        \"dosage\": {\n",
        "                            \"type\": \"string\",\n",
        "                            \"description\": \"Dosage of drugs or placebo used for intervention or control.\"\n",
        "                        },\n",
        "                        \"administration_speed\": {\n",
        "                            \"type\": \"string\",\n",
        "                            \"description\": \"Administration speed used for intervention or control.\"\n",
        "                        }\n",
        "                        }\n",
        "                        }\n",
        "                    },\n",
        "                    \"required\": [\"inclusion\",\"intervention_or_control\"]\n",
        "                }\n",
        "            }\n",
        "        }\n",
        "    ]\n"
      ],
      "metadata": {
        "id": "omWMwnMaWsT_"
      },
      "execution_count": null,
      "outputs": []
    },
    {
      "cell_type": "code",
      "source": [
        "judgements = []\n",
        "\n",
        "# Number of retries for failed API calls\n",
        "max_retries = 3\n",
        "retry_delay = 5  # seconds\n",
        "\n",
        "for prompt in tqdm(df[\"Combined_Text\"], desc=\"Processing Prompts\"):\n",
        "    for attempt in range(max_retries):\n",
        "        try:\n",
        "            request_payload = {\"prompt\": prompt, \"tools\": tools}\n",
        "            # Call the get_completion function and extract the \"judgement\" from the result\n",
        "            completion_result = get_completion(system_prompt, prompt, tools)\n",
        "            # Append the judgement to the list\n",
        "            judgements.append(completion_result)\n",
        "            break  # Break out of the retry loop if successful\n",
        "        except Exception as e:\n",
        "            # Log the error or print it for debugging\n",
        "            print(f\"Error processing prompt (attempt {attempt+1}/{max_retries}): {prompt}\")\n",
        "            print(f\"Error: {str(e)}\")\n",
        "\n",
        "            # Check if it's a specific JSON parsing error and handle it\n",
        "            if \"We could not parse the JSON body of your request\" in str(e):\n",
        "                print(\"Request payload:\", json.dumps(request_payload, indent=2))  # Print the JSON payload\n",
        "                if attempt < max_retries - 1:\n",
        "                    print(f\"Retrying in {retry_delay} seconds due to JSON parsing issue...\")\n",
        "                    time.sleep(retry_delay)\n",
        "                else:\n",
        "                    # Append a default value (e.g., None) to the list after max retries\n",
        "                    judgements.append(None)\n",
        "            else:\n",
        "                # If it's a different error, append None and break the loop\n",
        "                judgements.append(None)\n",
        "                break"
      ],
      "metadata": {
        "colab": {
          "base_uri": "https://localhost:8080/"
        },
        "id": "x5PUxaW6Ycvy",
        "outputId": "7337bdbd-ff39-4552-b138-9aa749abc552"
      },
      "execution_count": null,
      "outputs": [
        {
          "output_type": "stream",
          "name": "stderr",
          "text": [
            "Processing Prompts:  11%|█         | 33/308 [04:56<26:51,  5.86s/it]"
          ]
        },
        {
          "output_type": "stream",
          "name": "stdout",
          "text": [
            "Error processing prompt (attempt 1/3): nan\n",
            "Error: Error code: 400 - {'error': {'message': \"We could not parse the JSON body of your request. (HINT: This likely means you aren't using your HTTP library correctly. The OpenAI API expects a JSON payload, but what was sent was not valid JSON. If you have trouble figuring out how to fix this, please contact us through our help center at help.openai.com.)\", 'type': 'invalid_request_error', 'param': None, 'code': None}}\n",
            "Request payload: {\n",
            "  \"prompt\": NaN,\n",
            "  \"tools\": [\n",
            "    {\n",
            "      \"type\": \"function\",\n",
            "      \"function\": {\n",
            "        \"name\": \"manuscript_inclusion_decision\",\n",
            "        \"description\": \"Determine if a manuscript meets the inclusion or exclusion criteria for the systematic review\",\n",
            "        \"parameters\": {\n",
            "          \"type\": \"object\",\n",
            "          \"properties\": {\n",
            "            \"inclusion\": {\n",
            "              \"type\": \"boolean\",\n",
            "              \"description\": \"True if the manuscript meets the inclusion criteria AND does not meet the exclusion criteria.\"\n",
            "            },\n",
            "            \"exclusion_reason\": {\n",
            "              \"type\": \"string\",\n",
            "              \"description\": \"Provide a detailed explanation if the manuscript is excluded, based on the specified criteria and the relevant sections of the manuscript.\"\n",
            "            },\n",
            "            \"exclusion_category\": {\n",
            "              \"type\": \"string\",\n",
            "              \"description\": \"Provide the exclusion reason category if the manuscript is excluded. The exclusion reason category should be one of the following: Wrong study design, Wrong population, Wrong drug, Others.\"\n",
            "            },\n",
            "            \"intervention_or_control\": {\n",
            "              \"type\": \"array\",\n",
            "              \"items\": {\n",
            "                \"drug\": {\n",
            "                  \"type\": \"string\",\n",
            "                  \"description\": \"Names of drugs or placebo used for intervention or control.\"\n",
            "                },\n",
            "                \"dosage\": {\n",
            "                  \"type\": \"string\",\n",
            "                  \"description\": \"Dosage of drugs or placebo used for intervention or control.\"\n",
            "                },\n",
            "                \"administration_speed\": {\n",
            "                  \"type\": \"string\",\n",
            "                  \"description\": \"Administration speed used for intervention or control.\"\n",
            "                }\n",
            "              }\n",
            "            }\n",
            "          },\n",
            "          \"required\": [\n",
            "            \"inclusion\",\n",
            "            \"intervention_or_control\"\n",
            "          ]\n",
            "        }\n",
            "      }\n",
            "    }\n",
            "  ]\n",
            "}\n",
            "Retrying in 5 seconds due to JSON parsing issue...\n",
            "Error processing prompt (attempt 2/3): nan\n",
            "Error: Error code: 400 - {'error': {'message': \"We could not parse the JSON body of your request. (HINT: This likely means you aren't using your HTTP library correctly. The OpenAI API expects a JSON payload, but what was sent was not valid JSON. If you have trouble figuring out how to fix this, please contact us through our help center at help.openai.com.)\", 'type': 'invalid_request_error', 'param': None, 'code': None}}\n",
            "Request payload: {\n",
            "  \"prompt\": NaN,\n",
            "  \"tools\": [\n",
            "    {\n",
            "      \"type\": \"function\",\n",
            "      \"function\": {\n",
            "        \"name\": \"manuscript_inclusion_decision\",\n",
            "        \"description\": \"Determine if a manuscript meets the inclusion or exclusion criteria for the systematic review\",\n",
            "        \"parameters\": {\n",
            "          \"type\": \"object\",\n",
            "          \"properties\": {\n",
            "            \"inclusion\": {\n",
            "              \"type\": \"boolean\",\n",
            "              \"description\": \"True if the manuscript meets the inclusion criteria AND does not meet the exclusion criteria.\"\n",
            "            },\n",
            "            \"exclusion_reason\": {\n",
            "              \"type\": \"string\",\n",
            "              \"description\": \"Provide a detailed explanation if the manuscript is excluded, based on the specified criteria and the relevant sections of the manuscript.\"\n",
            "            },\n",
            "            \"exclusion_category\": {\n",
            "              \"type\": \"string\",\n",
            "              \"description\": \"Provide the exclusion reason category if the manuscript is excluded. The exclusion reason category should be one of the following: Wrong study design, Wrong population, Wrong drug, Others.\"\n",
            "            },\n",
            "            \"intervention_or_control\": {\n",
            "              \"type\": \"array\",\n",
            "              \"items\": {\n",
            "                \"drug\": {\n",
            "                  \"type\": \"string\",\n",
            "                  \"description\": \"Names of drugs or placebo used for intervention or control.\"\n",
            "                },\n",
            "                \"dosage\": {\n",
            "                  \"type\": \"string\",\n",
            "                  \"description\": \"Dosage of drugs or placebo used for intervention or control.\"\n",
            "                },\n",
            "                \"administration_speed\": {\n",
            "                  \"type\": \"string\",\n",
            "                  \"description\": \"Administration speed used for intervention or control.\"\n",
            "                }\n",
            "              }\n",
            "            }\n",
            "          },\n",
            "          \"required\": [\n",
            "            \"inclusion\",\n",
            "            \"intervention_or_control\"\n",
            "          ]\n",
            "        }\n",
            "      }\n",
            "    }\n",
            "  ]\n",
            "}\n",
            "Retrying in 5 seconds due to JSON parsing issue...\n"
          ]
        },
        {
          "output_type": "stream",
          "name": "stderr",
          "text": [
            "\rProcessing Prompts:  11%|█         | 34/308 [05:06<32:52,  7.20s/it]"
          ]
        },
        {
          "output_type": "stream",
          "name": "stdout",
          "text": [
            "Error processing prompt (attempt 3/3): nan\n",
            "Error: Error code: 400 - {'error': {'message': \"We could not parse the JSON body of your request. (HINT: This likely means you aren't using your HTTP library correctly. The OpenAI API expects a JSON payload, but what was sent was not valid JSON. If you have trouble figuring out how to fix this, please contact us through our help center at help.openai.com.)\", 'type': 'invalid_request_error', 'param': None, 'code': None}}\n",
            "Request payload: {\n",
            "  \"prompt\": NaN,\n",
            "  \"tools\": [\n",
            "    {\n",
            "      \"type\": \"function\",\n",
            "      \"function\": {\n",
            "        \"name\": \"manuscript_inclusion_decision\",\n",
            "        \"description\": \"Determine if a manuscript meets the inclusion or exclusion criteria for the systematic review\",\n",
            "        \"parameters\": {\n",
            "          \"type\": \"object\",\n",
            "          \"properties\": {\n",
            "            \"inclusion\": {\n",
            "              \"type\": \"boolean\",\n",
            "              \"description\": \"True if the manuscript meets the inclusion criteria AND does not meet the exclusion criteria.\"\n",
            "            },\n",
            "            \"exclusion_reason\": {\n",
            "              \"type\": \"string\",\n",
            "              \"description\": \"Provide a detailed explanation if the manuscript is excluded, based on the specified criteria and the relevant sections of the manuscript.\"\n",
            "            },\n",
            "            \"exclusion_category\": {\n",
            "              \"type\": \"string\",\n",
            "              \"description\": \"Provide the exclusion reason category if the manuscript is excluded. The exclusion reason category should be one of the following: Wrong study design, Wrong population, Wrong drug, Others.\"\n",
            "            },\n",
            "            \"intervention_or_control\": {\n",
            "              \"type\": \"array\",\n",
            "              \"items\": {\n",
            "                \"drug\": {\n",
            "                  \"type\": \"string\",\n",
            "                  \"description\": \"Names of drugs or placebo used for intervention or control.\"\n",
            "                },\n",
            "                \"dosage\": {\n",
            "                  \"type\": \"string\",\n",
            "                  \"description\": \"Dosage of drugs or placebo used for intervention or control.\"\n",
            "                },\n",
            "                \"administration_speed\": {\n",
            "                  \"type\": \"string\",\n",
            "                  \"description\": \"Administration speed used for intervention or control.\"\n",
            "                }\n",
            "              }\n",
            "            }\n",
            "          },\n",
            "          \"required\": [\n",
            "            \"inclusion\",\n",
            "            \"intervention_or_control\"\n",
            "          ]\n",
            "        }\n",
            "      }\n",
            "    }\n",
            "  ]\n",
            "}\n"
          ]
        },
        {
          "output_type": "stream",
          "name": "stderr",
          "text": [
            "Processing Prompts:  14%|█▎        | 42/308 [06:07<29:16,  6.60s/it]"
          ]
        },
        {
          "output_type": "stream",
          "name": "stdout",
          "text": [
            "Error processing prompt (attempt 1/3): nan\n",
            "Error: Error code: 400 - {'error': {'message': \"We could not parse the JSON body of your request. (HINT: This likely means you aren't using your HTTP library correctly. The OpenAI API expects a JSON payload, but what was sent was not valid JSON. If you have trouble figuring out how to fix this, please contact us through our help center at help.openai.com.)\", 'type': 'invalid_request_error', 'param': None, 'code': None}}\n",
            "Request payload: {\n",
            "  \"prompt\": NaN,\n",
            "  \"tools\": [\n",
            "    {\n",
            "      \"type\": \"function\",\n",
            "      \"function\": {\n",
            "        \"name\": \"manuscript_inclusion_decision\",\n",
            "        \"description\": \"Determine if a manuscript meets the inclusion or exclusion criteria for the systematic review\",\n",
            "        \"parameters\": {\n",
            "          \"type\": \"object\",\n",
            "          \"properties\": {\n",
            "            \"inclusion\": {\n",
            "              \"type\": \"boolean\",\n",
            "              \"description\": \"True if the manuscript meets the inclusion criteria AND does not meet the exclusion criteria.\"\n",
            "            },\n",
            "            \"exclusion_reason\": {\n",
            "              \"type\": \"string\",\n",
            "              \"description\": \"Provide a detailed explanation if the manuscript is excluded, based on the specified criteria and the relevant sections of the manuscript.\"\n",
            "            },\n",
            "            \"exclusion_category\": {\n",
            "              \"type\": \"string\",\n",
            "              \"description\": \"Provide the exclusion reason category if the manuscript is excluded. The exclusion reason category should be one of the following: Wrong study design, Wrong population, Wrong drug, Others.\"\n",
            "            },\n",
            "            \"intervention_or_control\": {\n",
            "              \"type\": \"array\",\n",
            "              \"items\": {\n",
            "                \"drug\": {\n",
            "                  \"type\": \"string\",\n",
            "                  \"description\": \"Names of drugs or placebo used for intervention or control.\"\n",
            "                },\n",
            "                \"dosage\": {\n",
            "                  \"type\": \"string\",\n",
            "                  \"description\": \"Dosage of drugs or placebo used for intervention or control.\"\n",
            "                },\n",
            "                \"administration_speed\": {\n",
            "                  \"type\": \"string\",\n",
            "                  \"description\": \"Administration speed used for intervention or control.\"\n",
            "                }\n",
            "              }\n",
            "            }\n",
            "          },\n",
            "          \"required\": [\n",
            "            \"inclusion\",\n",
            "            \"intervention_or_control\"\n",
            "          ]\n",
            "        }\n",
            "      }\n",
            "    }\n",
            "  ]\n",
            "}\n",
            "Retrying in 5 seconds due to JSON parsing issue...\n",
            "Error processing prompt (attempt 2/3): nan\n",
            "Error: Error code: 400 - {'error': {'message': \"We could not parse the JSON body of your request. (HINT: This likely means you aren't using your HTTP library correctly. The OpenAI API expects a JSON payload, but what was sent was not valid JSON. If you have trouble figuring out how to fix this, please contact us through our help center at help.openai.com.)\", 'type': 'invalid_request_error', 'param': None, 'code': None}}\n",
            "Request payload: {\n",
            "  \"prompt\": NaN,\n",
            "  \"tools\": [\n",
            "    {\n",
            "      \"type\": \"function\",\n",
            "      \"function\": {\n",
            "        \"name\": \"manuscript_inclusion_decision\",\n",
            "        \"description\": \"Determine if a manuscript meets the inclusion or exclusion criteria for the systematic review\",\n",
            "        \"parameters\": {\n",
            "          \"type\": \"object\",\n",
            "          \"properties\": {\n",
            "            \"inclusion\": {\n",
            "              \"type\": \"boolean\",\n",
            "              \"description\": \"True if the manuscript meets the inclusion criteria AND does not meet the exclusion criteria.\"\n",
            "            },\n",
            "            \"exclusion_reason\": {\n",
            "              \"type\": \"string\",\n",
            "              \"description\": \"Provide a detailed explanation if the manuscript is excluded, based on the specified criteria and the relevant sections of the manuscript.\"\n",
            "            },\n",
            "            \"exclusion_category\": {\n",
            "              \"type\": \"string\",\n",
            "              \"description\": \"Provide the exclusion reason category if the manuscript is excluded. The exclusion reason category should be one of the following: Wrong study design, Wrong population, Wrong drug, Others.\"\n",
            "            },\n",
            "            \"intervention_or_control\": {\n",
            "              \"type\": \"array\",\n",
            "              \"items\": {\n",
            "                \"drug\": {\n",
            "                  \"type\": \"string\",\n",
            "                  \"description\": \"Names of drugs or placebo used for intervention or control.\"\n",
            "                },\n",
            "                \"dosage\": {\n",
            "                  \"type\": \"string\",\n",
            "                  \"description\": \"Dosage of drugs or placebo used for intervention or control.\"\n",
            "                },\n",
            "                \"administration_speed\": {\n",
            "                  \"type\": \"string\",\n",
            "                  \"description\": \"Administration speed used for intervention or control.\"\n",
            "                }\n",
            "              }\n",
            "            }\n",
            "          },\n",
            "          \"required\": [\n",
            "            \"inclusion\",\n",
            "            \"intervention_or_control\"\n",
            "          ]\n",
            "        }\n",
            "      }\n",
            "    }\n",
            "  ]\n",
            "}\n",
            "Retrying in 5 seconds due to JSON parsing issue...\n"
          ]
        },
        {
          "output_type": "stream",
          "name": "stderr",
          "text": [
            "\rProcessing Prompts:  14%|█▍        | 43/308 [06:17<34:01,  7.70s/it]"
          ]
        },
        {
          "output_type": "stream",
          "name": "stdout",
          "text": [
            "Error processing prompt (attempt 3/3): nan\n",
            "Error: Error code: 400 - {'error': {'message': \"We could not parse the JSON body of your request. (HINT: This likely means you aren't using your HTTP library correctly. The OpenAI API expects a JSON payload, but what was sent was not valid JSON. If you have trouble figuring out how to fix this, please contact us through our help center at help.openai.com.)\", 'type': 'invalid_request_error', 'param': None, 'code': None}}\n",
            "Request payload: {\n",
            "  \"prompt\": NaN,\n",
            "  \"tools\": [\n",
            "    {\n",
            "      \"type\": \"function\",\n",
            "      \"function\": {\n",
            "        \"name\": \"manuscript_inclusion_decision\",\n",
            "        \"description\": \"Determine if a manuscript meets the inclusion or exclusion criteria for the systematic review\",\n",
            "        \"parameters\": {\n",
            "          \"type\": \"object\",\n",
            "          \"properties\": {\n",
            "            \"inclusion\": {\n",
            "              \"type\": \"boolean\",\n",
            "              \"description\": \"True if the manuscript meets the inclusion criteria AND does not meet the exclusion criteria.\"\n",
            "            },\n",
            "            \"exclusion_reason\": {\n",
            "              \"type\": \"string\",\n",
            "              \"description\": \"Provide a detailed explanation if the manuscript is excluded, based on the specified criteria and the relevant sections of the manuscript.\"\n",
            "            },\n",
            "            \"exclusion_category\": {\n",
            "              \"type\": \"string\",\n",
            "              \"description\": \"Provide the exclusion reason category if the manuscript is excluded. The exclusion reason category should be one of the following: Wrong study design, Wrong population, Wrong drug, Others.\"\n",
            "            },\n",
            "            \"intervention_or_control\": {\n",
            "              \"type\": \"array\",\n",
            "              \"items\": {\n",
            "                \"drug\": {\n",
            "                  \"type\": \"string\",\n",
            "                  \"description\": \"Names of drugs or placebo used for intervention or control.\"\n",
            "                },\n",
            "                \"dosage\": {\n",
            "                  \"type\": \"string\",\n",
            "                  \"description\": \"Dosage of drugs or placebo used for intervention or control.\"\n",
            "                },\n",
            "                \"administration_speed\": {\n",
            "                  \"type\": \"string\",\n",
            "                  \"description\": \"Administration speed used for intervention or control.\"\n",
            "                }\n",
            "              }\n",
            "            }\n",
            "          },\n",
            "          \"required\": [\n",
            "            \"inclusion\",\n",
            "            \"intervention_or_control\"\n",
            "          ]\n",
            "        }\n",
            "      }\n",
            "    }\n",
            "  ]\n",
            "}\n"
          ]
        },
        {
          "output_type": "stream",
          "name": "stderr",
          "text": [
            "Processing Prompts: 100%|██████████| 308/308 [49:36<00:00,  9.66s/it]\n"
          ]
        }
      ]
    },
    {
      "cell_type": "code",
      "source": [
        "keys = set().union(*(d.keys() for d in judgements if d is not None))\n",
        "# Create a None dictionary\n",
        "none_dict = {key: None for key in keys}\n",
        "\n",
        "# Replace None entries with the None dictionary\n",
        "judgementsN = [j if j is not None else none_dict for j in judgements]"
      ],
      "metadata": {
        "id": "uKO41HVhMx-L"
      },
      "execution_count": null,
      "outputs": []
    },
    {
      "cell_type": "code",
      "source": [
        "judgements_df = pd.DataFrame(judgementsN)"
      ],
      "metadata": {
        "id": "sHjYGbfOM1Ae"
      },
      "execution_count": null,
      "outputs": []
    },
    {
      "cell_type": "code",
      "source": [
        "df_test = pd.concat([df, judgements_df], axis=1)\n",
        "\n",
        "df_test.to_excel(\"0625judgementsFull.xlsx\")"
      ],
      "metadata": {
        "id": "o7uGVeSdc2M8"
      },
      "execution_count": null,
      "outputs": []
    }
  ]
}