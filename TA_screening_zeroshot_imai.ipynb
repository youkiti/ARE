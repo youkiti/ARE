{
  "nbformat": 4,
  "nbformat_minor": 0,
  "metadata": {
    "colab": {
      "provenance": [],
      "authorship_tag": "ABX9TyPxDrF0pjMGtUG4Dxt7o3Wj",
      "include_colab_link": true
    },
    "kernelspec": {
      "name": "python3",
      "display_name": "Python 3"
    },
    "language_info": {
      "name": "python"
    }
  },
  "cells": [
    {
      "cell_type": "markdown",
      "metadata": {
        "id": "view-in-github",
        "colab_type": "text"
      },
      "source": [
        "<a href=\"https://colab.research.google.com/github/youkiti/ARE/blob/postspinal-hypotension/TA_screening_zeroshot_imai.ipynb\" target=\"_parent\"><img src=\"https://colab.research.google.com/assets/colab-badge.svg\" alt=\"Open In Colab\"/></a>"
      ]
    },
    {
      "cell_type": "code",
      "execution_count": null,
      "metadata": {
        "colab": {
          "base_uri": "https://localhost:8080/"
        },
        "id": "pTcqM9kO7wSt",
        "outputId": "018cd7dc-197c-4bdb-d8c8-0427b8599a2f"
      },
      "outputs": [
        {
          "output_type": "stream",
          "name": "stdout",
          "text": [
            "Mounted at /content/drive\n"
          ]
        }
      ],
      "source": [
        "from google.colab import drive\n",
        "drive.mount('/content/drive')"
      ]
    },
    {
      "cell_type": "code",
      "source": [
        "import os\n",
        "import pandas as pd\n",
        "import glob\n",
        "from pathlib import Path\n",
        "import math\n",
        "from google.colab import files"
      ],
      "metadata": {
        "id": "5lHcrnkD8Bii"
      },
      "execution_count": null,
      "outputs": []
    },
    {
      "cell_type": "code",
      "source": [
        "folderPath = \"PATH\"\n",
        "os.chdir(folderPath)"
      ],
      "metadata": {
        "id": "MrFlzrcQ8Evc"
      },
      "execution_count": null,
      "outputs": []
    },
    {
      "cell_type": "code",
      "source": [
        "df = pd.read_csv('articles.csv')"
      ],
      "metadata": {
        "id": "SpzIDhra8FRr"
      },
      "execution_count": null,
      "outputs": []
    },
    {
      "cell_type": "code",
      "source": [
        "df1 = df[~df[\"notes\"].isna()]"
      ],
      "metadata": {
        "id": "Q0BB7hNM8XSd"
      },
      "execution_count": null,
      "outputs": []
    },
    {
      "cell_type": "code",
      "source": [
        "print(f\"全体{df1.shape[0]}\")"
      ],
      "metadata": {
        "colab": {
          "base_uri": "https://localhost:8080/"
        },
        "id": "s-hYpq40-u54",
        "outputId": "3cfcc445-4606-401b-cec6-f620526589a1"
      },
      "execution_count": null,
      "outputs": [
        {
          "output_type": "stream",
          "name": "stdout",
          "text": [
            "全体50\n"
          ]
        }
      ]
    },
    {
      "cell_type": "code",
      "source": [
        "df1.loc[:, 'contains_included'] = df1['notes'].str.contains('Included')\n",
        "print(f\"組入の数: {len(df1[df1['contains_included'] == True])}\")"
      ],
      "metadata": {
        "id": "ka-Rsnls8q66",
        "colab": {
          "base_uri": "https://localhost:8080/"
        },
        "outputId": "fe95fa95-8d2b-4cc3-c77e-f8c28ea3a459"
      },
      "execution_count": null,
      "outputs": [
        {
          "output_type": "stream",
          "name": "stdout",
          "text": [
            "組入の数: 17\n"
          ]
        },
        {
          "output_type": "stream",
          "name": "stderr",
          "text": [
            "<ipython-input-7-77ba1064df38>:1: SettingWithCopyWarning: \n",
            "A value is trying to be set on a copy of a slice from a DataFrame.\n",
            "Try using .loc[row_indexer,col_indexer] = value instead\n",
            "\n",
            "See the caveats in the documentation: https://pandas.pydata.org/pandas-docs/stable/user_guide/indexing.html#returning-a-view-versus-a-copy\n",
            "  df1.loc[:, 'contains_included'] = df1['notes'].str.contains('Included')\n"
          ]
        }
      ]
    },
    {
      "cell_type": "code",
      "source": [
        "pd.set_option('display.max_colwidth', 100)\n",
        "print(f'不一致の数: {df1[df1[\"contains_included\"] == True][\"notes\"].str.contains(\"Excluded\").sum()}')"
      ],
      "metadata": {
        "colab": {
          "base_uri": "https://localhost:8080/"
        },
        "id": "TEtWUiQc9iTx",
        "outputId": "abb7d3e0-0edb-41ad-d001-e35b9dec6daf"
      },
      "execution_count": null,
      "outputs": [
        {
          "output_type": "stream",
          "name": "stdout",
          "text": [
            "不一致の数: 3\n"
          ]
        }
      ]
    },
    {
      "cell_type": "markdown",
      "source": [
        "不一致は組入扱いで進める"
      ],
      "metadata": {
        "id": "JjetxisfLXaD"
      }
    },
    {
      "cell_type": "code",
      "source": [
        "#tiab列を作る\n",
        "df1.loc[:, 'tiab'] = 'TITLE: ' + df1['title'].fillna('') + ' ABSTRACT: ' + df1['abstract'].fillna('')"
      ],
      "metadata": {
        "id": "3KGYc27b_gHg"
      },
      "execution_count": null,
      "outputs": []
    },
    {
      "cell_type": "markdown",
      "source": [
        "openai apiの準備"
      ],
      "metadata": {
        "id": "pc4ZXH3k__7x"
      }
    },
    {
      "cell_type": "code",
      "source": [
        "!pip install openai"
      ],
      "metadata": {
        "colab": {
          "base_uri": "https://localhost:8080/"
        },
        "id": "2aAVjAK0_mL9",
        "outputId": "74c2b4eb-3799-44e9-857d-e932361a1e39"
      },
      "execution_count": null,
      "outputs": [
        {
          "output_type": "stream",
          "name": "stdout",
          "text": [
            "Collecting openai\n",
            "  Downloading openai-1.34.0-py3-none-any.whl (325 kB)\n",
            "\u001b[2K     \u001b[90m━━━━━━━━━━━━━━━━━━━━━━━━━━━━━━━━━━━━━━━━\u001b[0m \u001b[32m325.5/325.5 kB\u001b[0m \u001b[31m5.6 MB/s\u001b[0m eta \u001b[36m0:00:00\u001b[0m\n",
            "\u001b[?25hRequirement already satisfied: anyio<5,>=3.5.0 in /usr/local/lib/python3.10/dist-packages (from openai) (3.7.1)\n",
            "Requirement already satisfied: distro<2,>=1.7.0 in /usr/lib/python3/dist-packages (from openai) (1.7.0)\n",
            "Collecting httpx<1,>=0.23.0 (from openai)\n",
            "  Downloading httpx-0.27.0-py3-none-any.whl (75 kB)\n",
            "\u001b[2K     \u001b[90m━━━━━━━━━━━━━━━━━━━━━━━━━━━━━━━━━━━━━━━━\u001b[0m \u001b[32m75.6/75.6 kB\u001b[0m \u001b[31m7.8 MB/s\u001b[0m eta \u001b[36m0:00:00\u001b[0m\n",
            "\u001b[?25hRequirement already satisfied: pydantic<3,>=1.9.0 in /usr/local/lib/python3.10/dist-packages (from openai) (2.7.3)\n",
            "Requirement already satisfied: sniffio in /usr/local/lib/python3.10/dist-packages (from openai) (1.3.1)\n",
            "Requirement already satisfied: tqdm>4 in /usr/local/lib/python3.10/dist-packages (from openai) (4.66.4)\n",
            "Requirement already satisfied: typing-extensions<5,>=4.7 in /usr/local/lib/python3.10/dist-packages (from openai) (4.12.2)\n",
            "Requirement already satisfied: idna>=2.8 in /usr/local/lib/python3.10/dist-packages (from anyio<5,>=3.5.0->openai) (3.7)\n",
            "Requirement already satisfied: exceptiongroup in /usr/local/lib/python3.10/dist-packages (from anyio<5,>=3.5.0->openai) (1.2.1)\n",
            "Requirement already satisfied: certifi in /usr/local/lib/python3.10/dist-packages (from httpx<1,>=0.23.0->openai) (2024.6.2)\n",
            "Collecting httpcore==1.* (from httpx<1,>=0.23.0->openai)\n",
            "  Downloading httpcore-1.0.5-py3-none-any.whl (77 kB)\n",
            "\u001b[2K     \u001b[90m━━━━━━━━━━━━━━━━━━━━━━━━━━━━━━━━━━━━━━━━\u001b[0m \u001b[32m77.9/77.9 kB\u001b[0m \u001b[31m5.3 MB/s\u001b[0m eta \u001b[36m0:00:00\u001b[0m\n",
            "\u001b[?25hCollecting h11<0.15,>=0.13 (from httpcore==1.*->httpx<1,>=0.23.0->openai)\n",
            "  Downloading h11-0.14.0-py3-none-any.whl (58 kB)\n",
            "\u001b[2K     \u001b[90m━━━━━━━━━━━━━━━━━━━━━━━━━━━━━━━━━━━━━━━━\u001b[0m \u001b[32m58.3/58.3 kB\u001b[0m \u001b[31m7.5 MB/s\u001b[0m eta \u001b[36m0:00:00\u001b[0m\n",
            "\u001b[?25hRequirement already satisfied: annotated-types>=0.4.0 in /usr/local/lib/python3.10/dist-packages (from pydantic<3,>=1.9.0->openai) (0.7.0)\n",
            "Requirement already satisfied: pydantic-core==2.18.4 in /usr/local/lib/python3.10/dist-packages (from pydantic<3,>=1.9.0->openai) (2.18.4)\n",
            "Installing collected packages: h11, httpcore, httpx, openai\n",
            "Successfully installed h11-0.14.0 httpcore-1.0.5 httpx-0.27.0 openai-1.34.0\n"
          ]
        }
      ]
    },
    {
      "cell_type": "code",
      "source": [
        "import os\n",
        "from openai import OpenAI\n",
        "import json\n",
        "from tqdm import tqdm\n",
        "import time\n",
        "\n",
        "#secretで設定したキー\n",
        "from google.colab import userdata\n",
        "API_KEY = userdata.get('opanai_API_key')\n",
        "#渡す\n",
        "\n",
        "os.environ['OPENAI_API_KEY'] = API_KEY\n",
        "\n",
        "client = OpenAI(\n",
        "    # This is the default and can be omitted\n",
        "    api_key=os.environ.get(API_KEY),\n",
        ")"
      ],
      "metadata": {
        "id": "8N3HVgCJAM1G"
      },
      "execution_count": null,
      "outputs": []
    },
    {
      "cell_type": "code",
      "source": [
        "def get_completion(system_prompt, prompt, tools):\n",
        "    function_name = tools[0][\"function\"][\"name\"]\n",
        "    chat_completion = client.chat.completions.create(\n",
        "        messages=[\n",
        "                {\"role\":\"system\",\n",
        "                \"content\":system_prompt},\n",
        "                {\n",
        "                \"role\": \"user\",\n",
        "                \"content\": prompt\n",
        "                }],\n",
        "            tools = tools,\n",
        "            tool_choice =  {\"type\": \"function\", \"function\": {\"name\": function_name}},\n",
        "            temperature = 0,\n",
        "            model = \"gpt-4o\"\n",
        "          )\n",
        "\n",
        "    arguments_json_str = chat_completion.choices[0].message.tool_calls[0].function.arguments\n",
        "\n",
        "    arguments_json = json.loads(arguments_json_str)\n",
        "\n",
        "    return arguments_json"
      ],
      "metadata": {
        "id": "ra5dceeqCDg_"
      },
      "execution_count": null,
      "outputs": []
    },
    {
      "cell_type": "code",
      "source": [
        "#二値を返すtoolsを定義\n",
        "tools = [{\"type\": \"function\",\n",
        "    \"function\": {\n",
        "        \"name\": \"abstract_inclusion_decision\",\n",
        "        \"description\": \"Determine if an abstract meets the criteria\",\n",
        "        \"parameters\": {\n",
        "            \"type\": \"object\",\n",
        "            \"properties\": {\n",
        "                \"judgement\": {\n",
        "                    \"type\": \"boolean\",\n",
        "                    \"description\": \"The judgement of the abstract\"\n",
        "                }\n",
        "            }\n",
        "        }\n",
        "    }\n",
        "    }]"
      ],
      "metadata": {
        "id": "llJUXRiwCHDV"
      },
      "execution_count": null,
      "outputs": []
    },
    {
      "cell_type": "markdown",
      "source": [
        "ここで、組入・除外を指令"
      ],
      "metadata": {
        "id": "61I76dCPLbqV"
      }
    },
    {
      "cell_type": "code",
      "source": [
        "system_prompt = \"\"\"\n",
        "You are conducting a systematic review.\n",
        "Please determine if the user inputted abstract should be included based on the following criteria. If there is insufficient information to make a decision, the abstract should be included for further evaluation.\n",
        "\n",
        "# Inclusion Criteria:\n",
        "1. **Study Design:**\n",
        "   - Randomized Controlled Trials (RCTs)\n",
        "\n",
        "2. **Participants:**\n",
        "   - Adult patients undergoing cesarean section under spinal anesthesia or combined spinal–epidural anesthesia (CSEA).\n",
        "   - Includes both elective and non-elective (urgent and emergency) cesarean sections.\n",
        "\n",
        "3. **Interventions:**\n",
        "   - Studies must evaluate the effects of norepinephrine (noradrenaline) or phenylephrine administered via: bolus or infsion\n",
        "   - Both therapeutic (administered after hypotension onset) and prophylactic (administered before hypotension onset) administrations are considered.\n",
        "\n",
        "\"\"\""
      ],
      "metadata": {
        "id": "9Yw8b6JaUUCH"
      },
      "execution_count": null,
      "outputs": []
    },
    {
      "cell_type": "code",
      "source": [
        "judgements = []\n",
        "\n",
        "# Number of retries for failed API calls\n",
        "max_retries = 3\n",
        "retry_delay = 5  # seconds\n",
        "\n",
        "for prompt in tqdm(df1[\"tiab\"], desc=\"Processing Prompts\"):\n",
        "    for attempt in range(max_retries):\n",
        "        try:\n",
        "            request_payload = {\"prompt\": prompt, \"tools\": tools}\n",
        "            # Call the get_completion function and extract the \"judgement\" from the result\n",
        "            completion_result = get_completion(system_prompt, prompt, tools)\n",
        "            judgement = completion_result.get(\"judgement\", None)  # Use get to handle missing keys\n",
        "\n",
        "            # Append the judgement to the list\n",
        "            judgements.append(judgement)\n",
        "            break  # Break out of the retry loop if successful\n",
        "        except Exception as e:\n",
        "            # Log the error or print it for debugging\n",
        "            print(f\"Error processing prompt (attempt {attempt+1}/{max_retries}): {prompt}\")\n",
        "            print(f\"Error: {str(e)}\")\n",
        "\n",
        "            # Check if it's a specific JSON parsing error and handle it\n",
        "            if \"We could not parse the JSON body of your request\" in str(e):\n",
        "                print(\"Request payload:\", json.dumps(request_payload, indent=2))  # Print the JSON payload\n",
        "                if attempt < max_retries - 1:\n",
        "                    print(f\"Retrying in {retry_delay} seconds due to JSON parsing issue...\")\n",
        "                    time.sleep(retry_delay)\n",
        "                else:\n",
        "                    # Append a default value (e.g., None) to the list after max retries\n",
        "                    judgements.append(None)\n",
        "            else:\n",
        "                # If it's a different error, append None and break the loop\n",
        "                judgements.append(None)\n",
        "                break"
      ],
      "metadata": {
        "colab": {
          "base_uri": "https://localhost:8080/"
        },
        "id": "QbpCrpVJGXEM",
        "outputId": "4d3b7303-aece-4b6f-9da1-e626db82454a"
      },
      "execution_count": null,
      "outputs": [
        {
          "output_type": "stream",
          "name": "stderr",
          "text": [
            "Processing Prompts: 100%|██████████| 50/50 [00:22<00:00,  2.17it/s]\n"
          ]
        }
      ]
    },
    {
      "cell_type": "code",
      "source": [
        "#くっつける\n",
        "from sklearn.metrics import confusion_matrix\n",
        "\n",
        "df1.loc[:,'judgement'] = judgements\n",
        "\n",
        "# Convert 'judgement' to binary: True -> 1, False -> 0 うまく返ってこなかったものは組入扱いにする\n",
        "df1['judgement'] = df1['judgement'].fillna(1).astype(int)\n",
        "\n",
        "df1[\"contains_included\"] = df1[\"contains_included\"].astype(int)\n",
        "\n",
        "\n",
        "# Calculate the confusion matrix\n",
        "conf_matrix = confusion_matrix( df1['judgement'],df1['contains_included'], labels=[1, 0])\n",
        "\n",
        "# Extract the components of the confusion matrix\n",
        "tp, fp, fn, tn = conf_matrix.ravel()\n",
        "\n",
        "# Calculate sensitivity and specificity\n",
        "sensitivity = tp / (tp + fn)  # True Positive Rate\n",
        "specificity = tn / (tn + fp)  # True Negative Rate\n",
        "\n",
        "# Print the results\n",
        "print(f\"Confusion Matrix:\\n{conf_matrix}\")\n",
        "print(f\"Sensitivity: {sensitivity:.2f}\")\n",
        "print(f\"Specificity: {specificity:.2f}\")"
      ],
      "metadata": {
        "id": "cnHzWkZwI2T6"
      },
      "execution_count": null,
      "outputs": []
    },
    {
      "cell_type": "code",
      "source": [
        "df1.to_csv('articles_judgement.csv', index=False)"
      ],
      "metadata": {
        "id": "VSntUQhsWZyU"
      },
      "execution_count": null,
      "outputs": []
    },
    {
      "cell_type": "code",
      "source": [
        "#download\n",
        "from google.colab import files\n",
        "files.download('articles_judgement.csv')"
      ],
      "metadata": {
        "colab": {
          "base_uri": "https://localhost:8080/",
          "height": 17
        },
        "id": "1w3Koww1dVWx",
        "outputId": "1f328aa1-0d36-4a52-9892-37621e593bb7"
      },
      "execution_count": null,
      "outputs": [
        {
          "output_type": "display_data",
          "data": {
            "text/plain": [
              "<IPython.core.display.Javascript object>"
            ],
            "application/javascript": [
              "\n",
              "    async function download(id, filename, size) {\n",
              "      if (!google.colab.kernel.accessAllowed) {\n",
              "        return;\n",
              "      }\n",
              "      const div = document.createElement('div');\n",
              "      const label = document.createElement('label');\n",
              "      label.textContent = `Downloading \"${filename}\": `;\n",
              "      div.appendChild(label);\n",
              "      const progress = document.createElement('progress');\n",
              "      progress.max = size;\n",
              "      div.appendChild(progress);\n",
              "      document.body.appendChild(div);\n",
              "\n",
              "      const buffers = [];\n",
              "      let downloaded = 0;\n",
              "\n",
              "      const channel = await google.colab.kernel.comms.open(id);\n",
              "      // Send a message to notify the kernel that we're ready.\n",
              "      channel.send({})\n",
              "\n",
              "      for await (const message of channel.messages) {\n",
              "        // Send a message to notify the kernel that we're ready.\n",
              "        channel.send({})\n",
              "        if (message.buffers) {\n",
              "          for (const buffer of message.buffers) {\n",
              "            buffers.push(buffer);\n",
              "            downloaded += buffer.byteLength;\n",
              "            progress.value = downloaded;\n",
              "          }\n",
              "        }\n",
              "      }\n",
              "      const blob = new Blob(buffers, {type: 'application/binary'});\n",
              "      const a = document.createElement('a');\n",
              "      a.href = window.URL.createObjectURL(blob);\n",
              "      a.download = filename;\n",
              "      div.appendChild(a);\n",
              "      a.click();\n",
              "      div.remove();\n",
              "    }\n",
              "  "
            ]
          },
          "metadata": {}
        },
        {
          "output_type": "display_data",
          "data": {
            "text/plain": [
              "<IPython.core.display.Javascript object>"
            ],
            "application/javascript": [
              "download(\"download_9a9bc4c3-7f6b-4933-b16f-8aefb4870dc0\", \"articles_judgement.csv\", 194715)"
            ]
          },
          "metadata": {}
        }
      ]
    },
    {
      "cell_type": "markdown",
      "source": [
        "判断がないものにラベルを付与  \n",
        "False判断のものを除外  \n",
        "Rayyanで使えるように列の編集  \n",
        "エクスポート"
      ],
      "metadata": {
        "id": "ZcfFzEzKfU6N"
      }
    },
    {
      "cell_type": "code",
      "source": [
        "df2 = df[df[\"notes\"].isna()]"
      ],
      "metadata": {
        "id": "A7spwYRWfySP"
      },
      "execution_count": null,
      "outputs": []
    },
    {
      "cell_type": "code",
      "source": [
        "df2.shape"
      ],
      "metadata": {
        "colab": {
          "base_uri": "https://localhost:8080/"
        },
        "id": "7tl3jLnsf0T1",
        "outputId": "f712c48f-fc85-406b-9ae6-269d8fd9886f"
      },
      "execution_count": null,
      "outputs": [
        {
          "output_type": "execute_result",
          "data": {
            "text/plain": [
              "(1683, 21)"
            ]
          },
          "metadata": {},
          "execution_count": 65
        }
      ]
    },
    {
      "cell_type": "code",
      "source": [
        "#tiab列を作る\n",
        "df2.loc[:, 'tiab'] = 'TITLE: ' + df2['title'].fillna('') + ' ABSTRACT: ' + df2['abstract'].fillna('')"
      ],
      "metadata": {
        "colab": {
          "base_uri": "https://localhost:8080/"
        },
        "id": "6DzSm2gDf3LI",
        "outputId": "675e81bf-bd05-4565-b362-2ab20ab90364"
      },
      "execution_count": null,
      "outputs": [
        {
          "output_type": "stream",
          "name": "stderr",
          "text": [
            "<ipython-input-66-6f46269fbc0c>:2: SettingWithCopyWarning: \n",
            "A value is trying to be set on a copy of a slice from a DataFrame.\n",
            "Try using .loc[row_indexer,col_indexer] = value instead\n",
            "\n",
            "See the caveats in the documentation: https://pandas.pydata.org/pandas-docs/stable/user_guide/indexing.html#returning-a-view-versus-a-copy\n",
            "  df2.loc[:, 'tiab'] = 'TITLE: ' + df2['title'].fillna('') + ' ABSTRACT: ' + df2['abstract'].fillna('')\n"
          ]
        }
      ]
    },
    {
      "cell_type": "code",
      "source": [
        "judgements = []\n",
        "\n",
        "# Number of retries for failed API calls\n",
        "max_retries = 3\n",
        "retry_delay = 5  # seconds\n",
        "\n",
        "for prompt in tqdm(df2[\"tiab\"], desc=\"Processing Prompts\"):\n",
        "    for attempt in range(max_retries):\n",
        "        try:\n",
        "            request_payload = {\"prompt\": prompt, \"tools\": tools}\n",
        "            # Call the get_completion function and extract the \"judgement\" from the result\n",
        "            completion_result = get_completion(system_prompt2, prompt, tools)\n",
        "            judgement = completion_result.get(\"judgement\", None)  # Use get to handle missing keys\n",
        "\n",
        "            # Append the judgement to the list\n",
        "            judgements.append(judgement)\n",
        "            break  # Break out of the retry loop if successful\n",
        "        except Exception as e:\n",
        "            # Log the error or print it for debugging\n",
        "            print(f\"Error processing prompt (attempt {attempt+1}/{max_retries}): {prompt}\")\n",
        "            print(f\"Error: {str(e)}\")\n",
        "\n",
        "            # Check if it's a specific JSON parsing error and handle it\n",
        "            if \"We could not parse the JSON body of your request\" in str(e):\n",
        "                print(\"Request payload:\", json.dumps(request_payload, indent=2))  # Print the JSON payload\n",
        "                if attempt < max_retries - 1:\n",
        "                    print(f\"Retrying in {retry_delay} seconds due to JSON parsing issue...\")\n",
        "                    time.sleep(retry_delay)\n",
        "                else:\n",
        "                    # Append a default value (e.g., None) to the list after max retries\n",
        "                    judgements.append(None)\n",
        "            else:\n",
        "                # If it's a different error, append None and break the loop\n",
        "                judgements.append(None)\n",
        "                break"
      ],
      "metadata": {
        "colab": {
          "base_uri": "https://localhost:8080/"
        },
        "id": "Ba7FofsWf9Fl",
        "outputId": "ca899148-8787-48e7-fc61-34869399e5c3"
      },
      "execution_count": null,
      "outputs": [
        {
          "output_type": "stream",
          "name": "stderr",
          "text": [
            "Processing Prompts: 100%|██████████| 1683/1683 [34:13<00:00,  1.22s/it]\n"
          ]
        }
      ]
    },
    {
      "cell_type": "code",
      "source": [
        "#くっつける\n",
        "df2.loc[:,'judgement'] = judgements\n",
        "\n",
        "# Convert 'judgement' to binary: True -> 1, False -> 0 うまく返ってこなかったものは組入扱いにする\n",
        "df2['judgement'] = df2['judgement'].fillna(1).astype(int)\n",
        "\n",
        "#フィルタリング\n",
        "df3 = df2[df2[\"judgement\"] == 1]\n",
        "\n",
        "\n"
      ],
      "metadata": {
        "colab": {
          "base_uri": "https://localhost:8080/"
        },
        "collapsed": true,
        "id": "tEeTB2FKgDKR",
        "outputId": "e84f2d0d-326d-4655-9d65-1337d820d5ae"
      },
      "execution_count": null,
      "outputs": [
        {
          "output_type": "stream",
          "name": "stderr",
          "text": [
            "<ipython-input-69-0576aafb6e97>:5: SettingWithCopyWarning: \n",
            "A value is trying to be set on a copy of a slice from a DataFrame.\n",
            "Try using .loc[row_indexer,col_indexer] = value instead\n",
            "\n",
            "See the caveats in the documentation: https://pandas.pydata.org/pandas-docs/stable/user_guide/indexing.html#returning-a-view-versus-a-copy\n",
            "  df2['judgement'] = df2['judgement'].fillna(1).astype(int)\n"
          ]
        }
      ]
    },
    {
      "cell_type": "code",
      "source": [
        "df3.shape"
      ],
      "metadata": {
        "colab": {
          "base_uri": "https://localhost:8080/"
        },
        "id": "7hCxch2paE8d",
        "outputId": "e8e54393-0387-4516-cbe7-1fdfccffa73a"
      },
      "execution_count": null,
      "outputs": [
        {
          "output_type": "execute_result",
          "data": {
            "text/plain": [
              "(578, 22)"
            ]
          },
          "metadata": {},
          "execution_count": 72
        }
      ]
    },
    {
      "cell_type": "code",
      "source": [
        "#不要な列を削除\n",
        "df3.drop(columns=['judgement'], inplace=True)\n",
        "\n",
        "#df3を500行ずつに分ける\n",
        "chunks = [df3[i:i+500] for i in range(0, len(df3), 500)]\n",
        "\n",
        "#それぞれをエクスポート\n",
        "for i, chunk in enumerate(chunks):\n",
        "    chunk.to_csv(f'articles_judgement_others_{i}.csv', index=False)\n",
        "\n",
        "#zipにする\n",
        "!zip -r articles_judgement_others.zip articles_judgement_others*\n",
        "\n",
        "#download\n",
        "from google.colab import files\n",
        "files.download('articles_judgement_others.zip')"
      ],
      "metadata": {
        "colab": {
          "base_uri": "https://localhost:8080/",
          "height": 146
        },
        "id": "zLICXgkqZ5i3",
        "outputId": "4bd54798-a326-4246-a010-fe5ed17b1797"
      },
      "execution_count": null,
      "outputs": [
        {
          "output_type": "stream",
          "name": "stderr",
          "text": [
            "<ipython-input-71-4dae44545b05>:2: SettingWithCopyWarning: \n",
            "A value is trying to be set on a copy of a slice from a DataFrame\n",
            "\n",
            "See the caveats in the documentation: https://pandas.pydata.org/pandas-docs/stable/user_guide/indexing.html#returning-a-view-versus-a-copy\n",
            "  df3.drop(columns=['judgement'], inplace=True)\n"
          ]
        },
        {
          "output_type": "stream",
          "name": "stdout",
          "text": [
            "  adding: articles_judgement_others_0.csv (deflated 83%)\n",
            "  adding: articles_judgement_others_1.csv (deflated 83%)\n"
          ]
        },
        {
          "output_type": "display_data",
          "data": {
            "text/plain": [
              "<IPython.core.display.Javascript object>"
            ],
            "application/javascript": [
              "\n",
              "    async function download(id, filename, size) {\n",
              "      if (!google.colab.kernel.accessAllowed) {\n",
              "        return;\n",
              "      }\n",
              "      const div = document.createElement('div');\n",
              "      const label = document.createElement('label');\n",
              "      label.textContent = `Downloading \"${filename}\": `;\n",
              "      div.appendChild(label);\n",
              "      const progress = document.createElement('progress');\n",
              "      progress.max = size;\n",
              "      div.appendChild(progress);\n",
              "      document.body.appendChild(div);\n",
              "\n",
              "      const buffers = [];\n",
              "      let downloaded = 0;\n",
              "\n",
              "      const channel = await google.colab.kernel.comms.open(id);\n",
              "      // Send a message to notify the kernel that we're ready.\n",
              "      channel.send({})\n",
              "\n",
              "      for await (const message of channel.messages) {\n",
              "        // Send a message to notify the kernel that we're ready.\n",
              "        channel.send({})\n",
              "        if (message.buffers) {\n",
              "          for (const buffer of message.buffers) {\n",
              "            buffers.push(buffer);\n",
              "            downloaded += buffer.byteLength;\n",
              "            progress.value = downloaded;\n",
              "          }\n",
              "        }\n",
              "      }\n",
              "      const blob = new Blob(buffers, {type: 'application/binary'});\n",
              "      const a = document.createElement('a');\n",
              "      a.href = window.URL.createObjectURL(blob);\n",
              "      a.download = filename;\n",
              "      div.appendChild(a);\n",
              "      a.click();\n",
              "      div.remove();\n",
              "    }\n",
              "  "
            ]
          },
          "metadata": {}
        },
        {
          "output_type": "display_data",
          "data": {
            "text/plain": [
              "<IPython.core.display.Javascript object>"
            ],
            "application/javascript": [
              "download(\"download_17054544-0c67-45ea-b923-cbc47051849d\", \"articles_judgement_others.zip\", 365916)"
            ]
          },
          "metadata": {}
        }
      ]
    }
  ]
}